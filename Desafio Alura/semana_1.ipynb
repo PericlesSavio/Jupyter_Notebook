{
 "cells": [
  {
   "cell_type": "markdown",
   "metadata": {},
   "source": [
    "## Semana 1"
   ]
  },
  {
   "cell_type": "markdown",
   "metadata": {},
   "source": [
    "### Exportar a tabela de dados unidos como csv."
   ]
  },
  {
   "cell_type": "code",
   "execution_count": 1,
   "metadata": {},
   "outputs": [],
   "source": [
    "# bibliotecas usadas:\n",
    "import mysql.connector as sql # fazer a conexão com o MySQL\n",
    "import pandas as pd # manipulação dos dados\n",
    "\n",
    "# opcional (ocutar alguns alertas)\n",
    "import warnings\n",
    "warnings.filterwarnings('ignore')\n",
    "\n",
    "# conexão\n",
    "db_connection = sql.connect(host='127.0.0.1', database='aluracash', user='root', password='senha123')"
   ]
  },
  {
   "cell_type": "code",
   "execution_count": 2,
   "metadata": {},
   "outputs": [
    {
     "data": {
      "text/html": [
       "<div>\n",
       "<style scoped>\n",
       "    .dataframe tbody tr th:only-of-type {\n",
       "        vertical-align: middle;\n",
       "    }\n",
       "\n",
       "    .dataframe tbody tr th {\n",
       "        vertical-align: top;\n",
       "    }\n",
       "\n",
       "    .dataframe thead th {\n",
       "        text-align: right;\n",
       "    }\n",
       "</style>\n",
       "<table border=\"1\" class=\"dataframe\">\n",
       "  <thead>\n",
       "    <tr style=\"text-align: right;\">\n",
       "      <th></th>\n",
       "      <th>person_id</th>\n",
       "      <th>loan_id</th>\n",
       "      <th>cb_id</th>\n",
       "    </tr>\n",
       "  </thead>\n",
       "  <tbody>\n",
       "    <tr>\n",
       "      <th>0</th>\n",
       "      <td>JAz2tRvQ-14cy</td>\n",
       "      <td>pjEu6snv-4t33</td>\n",
       "      <td>FIgNSkrG-wen7</td>\n",
       "    </tr>\n",
       "    <tr>\n",
       "      <th>1</th>\n",
       "      <td>MZSefq9m-loYS</td>\n",
       "      <td>Mfn0Csx4-LGM3</td>\n",
       "      <td>QPDJUQfQ-DJqK</td>\n",
       "    </tr>\n",
       "    <tr>\n",
       "      <th>2</th>\n",
       "      <td>cRItaaPB-pRvT</td>\n",
       "      <td>Ks4nz74P-z6Iq</td>\n",
       "      <td>hzAXqSDh-ay7Q</td>\n",
       "    </tr>\n",
       "    <tr>\n",
       "      <th>3</th>\n",
       "      <td>5jTDCfXS-zaAq</td>\n",
       "      <td>ZFlwW08i-I3Al</td>\n",
       "      <td>LiAivrS4-J5DE</td>\n",
       "    </tr>\n",
       "    <tr>\n",
       "      <th>4</th>\n",
       "      <td>Hbz9PtI3-tOFs</td>\n",
       "      <td>bFMFchcv-UwQW</td>\n",
       "      <td>PkBixMJ3-3bad</td>\n",
       "    </tr>\n",
       "    <tr>\n",
       "      <th>...</th>\n",
       "      <td>...</td>\n",
       "      <td>...</td>\n",
       "      <td>...</td>\n",
       "    </tr>\n",
       "    <tr>\n",
       "      <th>34484</th>\n",
       "      <td>Emrjvfln-4Xz8</td>\n",
       "      <td>2wa74BRB-udgG</td>\n",
       "      <td>0NdUeeag-8uUM</td>\n",
       "    </tr>\n",
       "    <tr>\n",
       "      <th>34485</th>\n",
       "      <td>O3O8Xy1q-kYuY</td>\n",
       "      <td>hBgRbkij-SxBx</td>\n",
       "      <td>7uLfG8jh-hSKn</td>\n",
       "    </tr>\n",
       "    <tr>\n",
       "      <th>34486</th>\n",
       "      <td>cGTlY5HE-cc7n</td>\n",
       "      <td>8pmN3PGl-ioqE</td>\n",
       "      <td>vXFyISYO-X37e</td>\n",
       "    </tr>\n",
       "    <tr>\n",
       "      <th>34487</th>\n",
       "      <td>C1IPuCA3-Bvoi</td>\n",
       "      <td>M0nyiidf-IiKb</td>\n",
       "      <td>arPDkTuB-5e5x</td>\n",
       "    </tr>\n",
       "    <tr>\n",
       "      <th>34488</th>\n",
       "      <td>2OjPj0Cv-Ohe3</td>\n",
       "      <td>XCwnpXOc-QxGQ</td>\n",
       "      <td>lUcqMLJE-pqLe</td>\n",
       "    </tr>\n",
       "  </tbody>\n",
       "</table>\n",
       "<p>34489 rows × 3 columns</p>\n",
       "</div>"
      ],
      "text/plain": [
       "           person_id        loan_id          cb_id\n",
       "0      JAz2tRvQ-14cy  pjEu6snv-4t33  FIgNSkrG-wen7\n",
       "1      MZSefq9m-loYS  Mfn0Csx4-LGM3  QPDJUQfQ-DJqK\n",
       "2      cRItaaPB-pRvT  Ks4nz74P-z6Iq  hzAXqSDh-ay7Q\n",
       "3      5jTDCfXS-zaAq  ZFlwW08i-I3Al  LiAivrS4-J5DE\n",
       "4      Hbz9PtI3-tOFs  bFMFchcv-UwQW  PkBixMJ3-3bad\n",
       "...              ...            ...            ...\n",
       "34484  Emrjvfln-4Xz8  2wa74BRB-udgG  0NdUeeag-8uUM\n",
       "34485  O3O8Xy1q-kYuY  hBgRbkij-SxBx  7uLfG8jh-hSKn\n",
       "34486  cGTlY5HE-cc7n  8pmN3PGl-ioqE  vXFyISYO-X37e\n",
       "34487  C1IPuCA3-Bvoi  M0nyiidf-IiKb  arPDkTuB-5e5x\n",
       "34488  2OjPj0Cv-Ohe3  XCwnpXOc-QxGQ  lUcqMLJE-pqLe\n",
       "\n",
       "[34489 rows x 3 columns]"
      ]
     },
     "execution_count": 2,
     "metadata": {},
     "output_type": "execute_result"
    }
   ],
   "source": [
    "# testar conexao\n",
    "pd.read_sql('SELECT * FROM id', con=db_connection)"
   ]
  },
  {
   "cell_type": "code",
   "execution_count": 3,
   "metadata": {},
   "outputs": [],
   "source": [
    "# exportar para formato csv\n",
    "tabela_aluracash = pd.read_sql(\n",
    "\"\"\"SELECT PESSOA, IDADE, RENDIMENTO_ANUAL, SITUACAO_PROPRIEDADE, ANOS_TRABALHADOS, EMPRESTIMO, MOTIVO_EMPRESTIMO, PONTUACAO, VALOR_EMPRESTIMO, JUROS, POSSIB_INADIMPLENCIA, EMPRESTIMO_PERC_RENDA_ANUAL, SOLICITACAO, INADIMPLENTE, ANOS_PRIMEIRO_CREDITO\n",
    "    FROM id\n",
    "    INNER JOIN dados_mutuarios\n",
    "    on id.person_id = dados_mutuarios.PESSOA\n",
    "    INNER JOIN emprestimos\n",
    "    on id.loan_id = emprestimos.EMPRESTIMO\n",
    "    INNER JOIN historicos_banco\n",
    "    on id.cb_id = historicos_banco.SOLICITACAO\n",
    "    AND PESSOA != ''\"\"\", con=db_connection)\n",
    "\n",
    "tabela_aluracash.to_csv(('tabela_aluracash.csv'), sep=';', index=False)"
   ]
  }
 ],
 "metadata": {
  "kernelspec": {
   "display_name": "Python 3.9.2 64-bit",
   "language": "python",
   "name": "python3"
  },
  "language_info": {
   "codemirror_mode": {
    "name": "ipython",
    "version": 3
   },
   "file_extension": ".py",
   "mimetype": "text/x-python",
   "name": "python",
   "nbconvert_exporter": "python",
   "pygments_lexer": "ipython3",
   "version": "3.9.2"
  },
  "orig_nbformat": 4,
  "vscode": {
   "interpreter": {
    "hash": "a7de64065884b7780333370f8de1175b65d49259e6a478d1a6e215e36330ef66"
   }
  }
 },
 "nbformat": 4,
 "nbformat_minor": 2
}
