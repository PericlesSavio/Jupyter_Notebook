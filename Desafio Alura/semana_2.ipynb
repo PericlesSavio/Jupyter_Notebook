{
 "cells": [
  {
   "cell_type": "markdown",
   "metadata": {},
   "source": [
    "## Semana 2"
   ]
  },
  {
   "cell_type": "markdown",
   "metadata": {},
   "source": [
    "### Bibliotecas e dados brutos"
   ]
  },
  {
   "cell_type": "code",
   "execution_count": 368,
   "metadata": {},
   "outputs": [],
   "source": [
    "# bibliotecas usadas:\n",
    "import pandas as pd # manipulação dos dados\n",
    "import seaborn as sns # gráficos\n",
    "\n",
    "# opcional (ocutar alertas)\n",
    "import warnings\n",
    "warnings.filterwarnings('ignore')"
   ]
  },
  {
   "cell_type": "code",
   "execution_count": 369,
   "metadata": {},
   "outputs": [
    {
     "data": {
      "text/html": [
       "<div>\n",
       "<style scoped>\n",
       "    .dataframe tbody tr th:only-of-type {\n",
       "        vertical-align: middle;\n",
       "    }\n",
       "\n",
       "    .dataframe tbody tr th {\n",
       "        vertical-align: top;\n",
       "    }\n",
       "\n",
       "    .dataframe thead th {\n",
       "        text-align: right;\n",
       "    }\n",
       "</style>\n",
       "<table border=\"1\" class=\"dataframe\">\n",
       "  <thead>\n",
       "    <tr style=\"text-align: right;\">\n",
       "      <th></th>\n",
       "      <th>PESSOA</th>\n",
       "      <th>IDADE</th>\n",
       "      <th>RENDIMENTO_ANUAL</th>\n",
       "      <th>SITUACAO_PROPRIEDADE</th>\n",
       "      <th>ANOS_TRABALHADOS</th>\n",
       "      <th>EMPRESTIMO</th>\n",
       "      <th>MOTIVO_EMPRESTIMO</th>\n",
       "      <th>PONTUACAO</th>\n",
       "      <th>VALOR_EMPRESTIMO</th>\n",
       "      <th>JUROS</th>\n",
       "      <th>POSSIB_INADIMPLENCIA</th>\n",
       "      <th>EMPRESTIMO_PERC_RENDA_ANUAL</th>\n",
       "      <th>SOLICITACAO</th>\n",
       "      <th>INADIMPLENTE</th>\n",
       "      <th>ANOS_PRIMEIRO_CREDITO</th>\n",
       "    </tr>\n",
       "  </thead>\n",
       "  <tbody>\n",
       "    <tr>\n",
       "      <th>26125</th>\n",
       "      <td>OI927Za4-gEIK</td>\n",
       "      <td>42.0</td>\n",
       "      <td>26280.0</td>\n",
       "      <td>Alugada</td>\n",
       "      <td>2.0</td>\n",
       "      <td>k6vWa5j5-ZZon</td>\n",
       "      <td>Pagamento de débitos</td>\n",
       "      <td>B</td>\n",
       "      <td>4000.0</td>\n",
       "      <td>9.99</td>\n",
       "      <td>0.0</td>\n",
       "      <td>0.15</td>\n",
       "      <td>8E3xuZ7k-tUnj</td>\n",
       "      <td>0.0</td>\n",
       "      <td>17</td>\n",
       "    </tr>\n",
       "    <tr>\n",
       "      <th>2083</th>\n",
       "      <td>TNw2qik8-qpb2</td>\n",
       "      <td>22.0</td>\n",
       "      <td>68000.0</td>\n",
       "      <td>Hipotecada</td>\n",
       "      <td>6.0</td>\n",
       "      <td>CgLlu4ca-w3BJ</td>\n",
       "      <td>Médico</td>\n",
       "      <td>A</td>\n",
       "      <td>3500.0</td>\n",
       "      <td>6.39</td>\n",
       "      <td>0.0</td>\n",
       "      <td>0.05</td>\n",
       "      <td>b20XuzW4-xJLN</td>\n",
       "      <td>0.0</td>\n",
       "      <td>4</td>\n",
       "    </tr>\n",
       "    <tr>\n",
       "      <th>21303</th>\n",
       "      <td>mICNubik-QBGS</td>\n",
       "      <td>29.0</td>\n",
       "      <td>45200.0</td>\n",
       "      <td>Hipotecada</td>\n",
       "      <td>7.0</td>\n",
       "      <td>wnNXkzRk-g4UL</td>\n",
       "      <td>Médico</td>\n",
       "      <td>D</td>\n",
       "      <td>6000.0</td>\n",
       "      <td>16.49</td>\n",
       "      <td>1.0</td>\n",
       "      <td>0.13</td>\n",
       "      <td>fqHLDBGT-OKth</td>\n",
       "      <td>1.0</td>\n",
       "      <td>10</td>\n",
       "    </tr>\n",
       "    <tr>\n",
       "      <th>34248</th>\n",
       "      <td>4CoSFDtx-gIHa</td>\n",
       "      <td>26.0</td>\n",
       "      <td>62900.0</td>\n",
       "      <td>Própria</td>\n",
       "      <td>4.0</td>\n",
       "      <td>NKJgsRPX-NboH</td>\n",
       "      <td>Médico</td>\n",
       "      <td>E</td>\n",
       "      <td>24250.0</td>\n",
       "      <td>NaN</td>\n",
       "      <td>1.0</td>\n",
       "      <td>0.33</td>\n",
       "      <td>mE92rNkl-6sZh</td>\n",
       "      <td>1.0</td>\n",
       "      <td>2</td>\n",
       "    </tr>\n",
       "    <tr>\n",
       "      <th>30487</th>\n",
       "      <td>ioeR1ZJh-3Kbs</td>\n",
       "      <td>25.0</td>\n",
       "      <td>72000.0</td>\n",
       "      <td>Alugada</td>\n",
       "      <td>2.0</td>\n",
       "      <td>ts0vlbKi-1qas</td>\n",
       "      <td>Empreendimento</td>\n",
       "      <td>B</td>\n",
       "      <td>10000.0</td>\n",
       "      <td>10.37</td>\n",
       "      <td>0.0</td>\n",
       "      <td>0.14</td>\n",
       "      <td>ot51xz1G-RHhy</td>\n",
       "      <td>0.0</td>\n",
       "      <td>3</td>\n",
       "    </tr>\n",
       "  </tbody>\n",
       "</table>\n",
       "</div>"
      ],
      "text/plain": [
       "              PESSOA  IDADE  RENDIMENTO_ANUAL SITUACAO_PROPRIEDADE  \\\n",
       "26125  OI927Za4-gEIK   42.0           26280.0              Alugada   \n",
       "2083   TNw2qik8-qpb2   22.0           68000.0           Hipotecada   \n",
       "21303  mICNubik-QBGS   29.0           45200.0           Hipotecada   \n",
       "34248  4CoSFDtx-gIHa   26.0           62900.0              Própria   \n",
       "30487  ioeR1ZJh-3Kbs   25.0           72000.0              Alugada   \n",
       "\n",
       "       ANOS_TRABALHADOS     EMPRESTIMO     MOTIVO_EMPRESTIMO PONTUACAO  \\\n",
       "26125               2.0  k6vWa5j5-ZZon  Pagamento de débitos         B   \n",
       "2083                6.0  CgLlu4ca-w3BJ                Médico         A   \n",
       "21303               7.0  wnNXkzRk-g4UL                Médico         D   \n",
       "34248               4.0  NKJgsRPX-NboH                Médico         E   \n",
       "30487               2.0  ts0vlbKi-1qas        Empreendimento         B   \n",
       "\n",
       "       VALOR_EMPRESTIMO  JUROS  POSSIB_INADIMPLENCIA  \\\n",
       "26125            4000.0   9.99                   0.0   \n",
       "2083             3500.0   6.39                   0.0   \n",
       "21303            6000.0  16.49                   1.0   \n",
       "34248           24250.0    NaN                   1.0   \n",
       "30487           10000.0  10.37                   0.0   \n",
       "\n",
       "       EMPRESTIMO_PERC_RENDA_ANUAL    SOLICITACAO  INADIMPLENTE  \\\n",
       "26125                         0.15  8E3xuZ7k-tUnj           0.0   \n",
       "2083                          0.05  b20XuzW4-xJLN           0.0   \n",
       "21303                         0.13  fqHLDBGT-OKth           1.0   \n",
       "34248                         0.33  mE92rNkl-6sZh           1.0   \n",
       "30487                         0.14  ot51xz1G-RHhy           0.0   \n",
       "\n",
       "       ANOS_PRIMEIRO_CREDITO  \n",
       "26125                     17  \n",
       "2083                       4  \n",
       "21303                     10  \n",
       "34248                      2  \n",
       "30487                      3  "
      ]
     },
     "execution_count": 369,
     "metadata": {},
     "output_type": "execute_result"
    }
   ],
   "source": [
    "# ler os dados\n",
    "dados_brutos = pd.read_csv('tabela_aluracash.csv', sep=';')\n",
    "\n",
    "#amostra dos dados brutos\n",
    "dados_brutos.sample(5) "
   ]
  },
  {
   "cell_type": "markdown",
   "metadata": {},
   "source": [
    "### Informações do dataset"
   ]
  },
  {
   "cell_type": "markdown",
   "metadata": {},
   "source": [
    "#### Nº de linhas e colunas"
   ]
  },
  {
   "cell_type": "code",
   "execution_count": 370,
   "metadata": {},
   "outputs": [
    {
     "data": {
      "text/plain": [
       "(34485, 15)"
      ]
     },
     "execution_count": 370,
     "metadata": {},
     "output_type": "execute_result"
    }
   ],
   "source": [
    "dados_brutos.shape"
   ]
  },
  {
   "cell_type": "markdown",
   "metadata": {},
   "source": [
    "São 34.485 linhas e 15 colunas."
   ]
  },
  {
   "cell_type": "markdown",
   "metadata": {},
   "source": [
    "#### Tipos das colunas"
   ]
  },
  {
   "cell_type": "code",
   "execution_count": 371,
   "metadata": {},
   "outputs": [
    {
     "name": "stdout",
     "output_type": "stream",
     "text": [
      "<class 'pandas.core.frame.DataFrame'>\n",
      "RangeIndex: 34485 entries, 0 to 34484\n",
      "Data columns (total 15 columns):\n",
      " #   Column                       Non-Null Count  Dtype  \n",
      "---  ------                       --------------  -----  \n",
      " 0   PESSOA                       34485 non-null  object \n",
      " 1   IDADE                        34165 non-null  float64\n",
      " 2   RENDIMENTO_ANUAL             34150 non-null  float64\n",
      " 3   SITUACAO_PROPRIEDADE         34154 non-null  object \n",
      " 4   ANOS_TRABALHADOS             33231 non-null  float64\n",
      " 5   EMPRESTIMO                   34485 non-null  object \n",
      " 6   MOTIVO_EMPRESTIMO            34174 non-null  object \n",
      " 7   PONTUACAO                    34176 non-null  object \n",
      " 8   VALOR_EMPRESTIMO             34154 non-null  float64\n",
      " 9   JUROS                        30859 non-null  float64\n",
      " 10  POSSIB_INADIMPLENCIA         34142 non-null  float64\n",
      " 11  EMPRESTIMO_PERC_RENDA_ANUAL  34170 non-null  float64\n",
      " 12  SOLICITACAO                  34485 non-null  object \n",
      " 13  INADIMPLENTE                 34119 non-null  float64\n",
      " 14  ANOS_PRIMEIRO_CREDITO        34485 non-null  int64  \n",
      "dtypes: float64(8), int64(1), object(6)\n",
      "memory usage: 3.9+ MB\n"
     ]
    }
   ],
   "source": [
    "dados_brutos.info()"
   ]
  },
  {
   "cell_type": "markdown",
   "metadata": {},
   "source": [
    "#### Dados nulos por colunas"
   ]
  },
  {
   "cell_type": "code",
   "execution_count": 372,
   "metadata": {},
   "outputs": [
    {
     "data": {
      "text/plain": [
       "PESSOA                            0\n",
       "IDADE                           320\n",
       "RENDIMENTO_ANUAL                335\n",
       "SITUACAO_PROPRIEDADE            331\n",
       "ANOS_TRABALHADOS               1254\n",
       "EMPRESTIMO                        0\n",
       "MOTIVO_EMPRESTIMO               311\n",
       "PONTUACAO                       309\n",
       "VALOR_EMPRESTIMO                331\n",
       "JUROS                          3626\n",
       "POSSIB_INADIMPLENCIA            343\n",
       "EMPRESTIMO_PERC_RENDA_ANUAL     315\n",
       "SOLICITACAO                       0\n",
       "INADIMPLENTE                    366\n",
       "ANOS_PRIMEIRO_CREDITO             0\n",
       "dtype: int64"
      ]
     },
     "execution_count": 372,
     "metadata": {},
     "output_type": "execute_result"
    }
   ],
   "source": [
    "dados_brutos.isnull().sum()"
   ]
  },
  {
   "cell_type": "markdown",
   "metadata": {},
   "source": [
    "Há muitas linhas com dados nulos."
   ]
  },
  {
   "cell_type": "markdown",
   "metadata": {},
   "source": [
    "#### Dados vazios (tipo string) por colunas"
   ]
  },
  {
   "cell_type": "code",
   "execution_count": 373,
   "metadata": {},
   "outputs": [
    {
     "data": {
      "text/plain": [
       "PESSOA                         0\n",
       "IDADE                          0\n",
       "RENDIMENTO_ANUAL               0\n",
       "SITUACAO_PROPRIEDADE           0\n",
       "ANOS_TRABALHADOS               0\n",
       "EMPRESTIMO                     0\n",
       "MOTIVO_EMPRESTIMO              0\n",
       "PONTUACAO                      0\n",
       "VALOR_EMPRESTIMO               0\n",
       "JUROS                          0\n",
       "POSSIB_INADIMPLENCIA           0\n",
       "EMPRESTIMO_PERC_RENDA_ANUAL    0\n",
       "SOLICITACAO                    0\n",
       "INADIMPLENTE                   0\n",
       "ANOS_PRIMEIRO_CREDITO          0\n",
       "dtype: int64"
      ]
     },
     "execution_count": 373,
     "metadata": {},
     "output_type": "execute_result"
    }
   ],
   "source": [
    "(dados_brutos == '').sum()"
   ]
  },
  {
   "cell_type": "markdown",
   "metadata": {},
   "source": [
    "Não há dados com dados vazios."
   ]
  },
  {
   "cell_type": "markdown",
   "metadata": {},
   "source": [
    "#### Criando um subset com as colunes necessárias\n",
    "\n",
    "As colunas **PESSOA**, **EMPRESTIMO**, **SOLICITACAO** são colunas *\"ID\"* e não serão necessárias futuramente."
   ]
  },
  {
   "cell_type": "code",
   "execution_count": 374,
   "metadata": {},
   "outputs": [
    {
     "data": {
      "text/html": [
       "<div>\n",
       "<style scoped>\n",
       "    .dataframe tbody tr th:only-of-type {\n",
       "        vertical-align: middle;\n",
       "    }\n",
       "\n",
       "    .dataframe tbody tr th {\n",
       "        vertical-align: top;\n",
       "    }\n",
       "\n",
       "    .dataframe thead th {\n",
       "        text-align: right;\n",
       "    }\n",
       "</style>\n",
       "<table border=\"1\" class=\"dataframe\">\n",
       "  <thead>\n",
       "    <tr style=\"text-align: right;\">\n",
       "      <th></th>\n",
       "      <th>IDADE</th>\n",
       "      <th>RENDIMENTO_ANUAL</th>\n",
       "      <th>SITUACAO_PROPRIEDADE</th>\n",
       "      <th>ANOS_TRABALHADOS</th>\n",
       "      <th>MOTIVO_EMPRESTIMO</th>\n",
       "      <th>PONTUACAO</th>\n",
       "      <th>VALOR_EMPRESTIMO</th>\n",
       "      <th>JUROS</th>\n",
       "      <th>POSSIB_INADIMPLENCIA</th>\n",
       "      <th>EMPRESTIMO_PERC_RENDA_ANUAL</th>\n",
       "      <th>INADIMPLENTE</th>\n",
       "      <th>ANOS_PRIMEIRO_CREDITO</th>\n",
       "    </tr>\n",
       "  </thead>\n",
       "  <tbody>\n",
       "    <tr>\n",
       "      <th>14420</th>\n",
       "      <td>21.0</td>\n",
       "      <td>18000.0</td>\n",
       "      <td>Alugada</td>\n",
       "      <td>2.0</td>\n",
       "      <td>Pagamento de débitos</td>\n",
       "      <td>C</td>\n",
       "      <td>5800.0</td>\n",
       "      <td>14.72</td>\n",
       "      <td>1.0</td>\n",
       "      <td>0.32</td>\n",
       "      <td>1.0</td>\n",
       "      <td>4</td>\n",
       "    </tr>\n",
       "    <tr>\n",
       "      <th>10873</th>\n",
       "      <td>25.0</td>\n",
       "      <td>62400.0</td>\n",
       "      <td>Própria</td>\n",
       "      <td>7.0</td>\n",
       "      <td>Pessoal</td>\n",
       "      <td>E</td>\n",
       "      <td>4000.0</td>\n",
       "      <td>18.39</td>\n",
       "      <td>1.0</td>\n",
       "      <td>0.06</td>\n",
       "      <td>1.0</td>\n",
       "      <td>2</td>\n",
       "    </tr>\n",
       "    <tr>\n",
       "      <th>23572</th>\n",
       "      <td>22.0</td>\n",
       "      <td>20640.0</td>\n",
       "      <td>Alugada</td>\n",
       "      <td>0.0</td>\n",
       "      <td>Educativo</td>\n",
       "      <td>C</td>\n",
       "      <td>2500.0</td>\n",
       "      <td>12.68</td>\n",
       "      <td>0.0</td>\n",
       "      <td>0.12</td>\n",
       "      <td>0.0</td>\n",
       "      <td>3</td>\n",
       "    </tr>\n",
       "    <tr>\n",
       "      <th>28108</th>\n",
       "      <td>22.0</td>\n",
       "      <td>43000.0</td>\n",
       "      <td>Alugada</td>\n",
       "      <td>6.0</td>\n",
       "      <td>Educativo</td>\n",
       "      <td>C</td>\n",
       "      <td>13000.0</td>\n",
       "      <td>12.87</td>\n",
       "      <td>0.0</td>\n",
       "      <td>0.30</td>\n",
       "      <td>1.0</td>\n",
       "      <td>4</td>\n",
       "    </tr>\n",
       "    <tr>\n",
       "      <th>5281</th>\n",
       "      <td>24.0</td>\n",
       "      <td>60400.0</td>\n",
       "      <td>Própria</td>\n",
       "      <td>5.0</td>\n",
       "      <td>Empreendimento</td>\n",
       "      <td>A</td>\n",
       "      <td>5500.0</td>\n",
       "      <td>8.00</td>\n",
       "      <td>0.0</td>\n",
       "      <td>0.09</td>\n",
       "      <td>0.0</td>\n",
       "      <td>2</td>\n",
       "    </tr>\n",
       "  </tbody>\n",
       "</table>\n",
       "</div>"
      ],
      "text/plain": [
       "       IDADE  RENDIMENTO_ANUAL SITUACAO_PROPRIEDADE  ANOS_TRABALHADOS  \\\n",
       "14420   21.0           18000.0              Alugada               2.0   \n",
       "10873   25.0           62400.0              Própria               7.0   \n",
       "23572   22.0           20640.0              Alugada               0.0   \n",
       "28108   22.0           43000.0              Alugada               6.0   \n",
       "5281    24.0           60400.0              Própria               5.0   \n",
       "\n",
       "          MOTIVO_EMPRESTIMO PONTUACAO  VALOR_EMPRESTIMO  JUROS  \\\n",
       "14420  Pagamento de débitos         C            5800.0  14.72   \n",
       "10873               Pessoal         E            4000.0  18.39   \n",
       "23572             Educativo         C            2500.0  12.68   \n",
       "28108             Educativo         C           13000.0  12.87   \n",
       "5281         Empreendimento         A            5500.0   8.00   \n",
       "\n",
       "       POSSIB_INADIMPLENCIA  EMPRESTIMO_PERC_RENDA_ANUAL  INADIMPLENTE  \\\n",
       "14420                   1.0                         0.32           1.0   \n",
       "10873                   1.0                         0.06           1.0   \n",
       "23572                   0.0                         0.12           0.0   \n",
       "28108                   0.0                         0.30           1.0   \n",
       "5281                    0.0                         0.09           0.0   \n",
       "\n",
       "       ANOS_PRIMEIRO_CREDITO  \n",
       "14420                      4  \n",
       "10873                      2  \n",
       "23572                      3  \n",
       "28108                      4  \n",
       "5281                       2  "
      ]
     },
     "execution_count": 374,
     "metadata": {},
     "output_type": "execute_result"
    }
   ],
   "source": [
    "dados = dados_brutos[[ 'IDADE', 'RENDIMENTO_ANUAL', 'SITUACAO_PROPRIEDADE',\n",
    "       'ANOS_TRABALHADOS', 'MOTIVO_EMPRESTIMO', 'PONTUACAO',\n",
    "       'VALOR_EMPRESTIMO', 'JUROS', 'POSSIB_INADIMPLENCIA',\n",
    "       'EMPRESTIMO_PERC_RENDA_ANUAL', 'INADIMPLENTE',\n",
    "       'ANOS_PRIMEIRO_CREDITO']]\n",
    "dados.sample(5)"
   ]
  },
  {
   "cell_type": "markdown",
   "metadata": {},
   "source": [
    "### Remoção de dados nulos"
   ]
  },
  {
   "cell_type": "markdown",
   "metadata": {},
   "source": [
    "Há mais de 3600 linhas com dados nulos, representando aproximadamente 10% do total. Serão removidas."
   ]
  },
  {
   "cell_type": "code",
   "execution_count": 375,
   "metadata": {},
   "outputs": [
    {
     "data": {
      "text/plain": [
       "(28638, 12)"
      ]
     },
     "execution_count": 375,
     "metadata": {},
     "output_type": "execute_result"
    }
   ],
   "source": [
    "dados.dropna(inplace = True)\n",
    "dados.shape"
   ]
  },
  {
   "cell_type": "code",
   "execution_count": 376,
   "metadata": {},
   "outputs": [
    {
     "data": {
      "text/plain": [
       "IDADE                          0\n",
       "RENDIMENTO_ANUAL               0\n",
       "SITUACAO_PROPRIEDADE           0\n",
       "ANOS_TRABALHADOS               0\n",
       "MOTIVO_EMPRESTIMO              0\n",
       "PONTUACAO                      0\n",
       "VALOR_EMPRESTIMO               0\n",
       "JUROS                          0\n",
       "POSSIB_INADIMPLENCIA           0\n",
       "EMPRESTIMO_PERC_RENDA_ANUAL    0\n",
       "INADIMPLENTE                   0\n",
       "ANOS_PRIMEIRO_CREDITO          0\n",
       "dtype: int64"
      ]
     },
     "execution_count": 376,
     "metadata": {},
     "output_type": "execute_result"
    }
   ],
   "source": [
    "dados.isnull().sum()"
   ]
  },
  {
   "cell_type": "markdown",
   "metadata": {},
   "source": [
    "### Tratamento de outliers"
   ]
  },
  {
   "cell_type": "markdown",
   "metadata": {},
   "source": [
    "#### IDADE"
   ]
  },
  {
   "cell_type": "code",
   "execution_count": 377,
   "metadata": {},
   "outputs": [
    {
     "data": {
      "text/plain": [
       "array([ 20.,  21.,  22.,  23.,  24.,  25.,  26.,  27.,  28.,  29.,  30.,\n",
       "        31.,  32.,  33.,  34.,  35.,  36.,  37.,  38.,  39.,  40.,  41.,\n",
       "        42.,  43.,  44.,  45.,  46.,  47.,  48.,  49.,  50.,  51.,  52.,\n",
       "        53.,  54.,  55.,  56.,  57.,  58.,  59.,  60.,  61.,  62.,  63.,\n",
       "        64.,  65.,  66.,  67.,  69.,  70.,  73.,  76.,  78.,  80.,  84.,\n",
       "       123., 144.])"
      ]
     },
     "execution_count": 377,
     "metadata": {},
     "output_type": "execute_result"
    }
   ],
   "source": [
    "dados['IDADE'].sort_values().unique()"
   ]
  },
  {
   "cell_type": "markdown",
   "metadata": {},
   "source": [
    "Foi detectada idades superior a 120 anos."
   ]
  },
  {
   "cell_type": "code",
   "execution_count": 378,
   "metadata": {},
   "outputs": [
    {
     "data": {
      "text/html": [
       "<div>\n",
       "<style scoped>\n",
       "    .dataframe tbody tr th:only-of-type {\n",
       "        vertical-align: middle;\n",
       "    }\n",
       "\n",
       "    .dataframe tbody tr th {\n",
       "        vertical-align: top;\n",
       "    }\n",
       "\n",
       "    .dataframe thead th {\n",
       "        text-align: right;\n",
       "    }\n",
       "</style>\n",
       "<table border=\"1\" class=\"dataframe\">\n",
       "  <thead>\n",
       "    <tr style=\"text-align: right;\">\n",
       "      <th></th>\n",
       "      <th>IDADE</th>\n",
       "      <th>RENDIMENTO_ANUAL</th>\n",
       "      <th>SITUACAO_PROPRIEDADE</th>\n",
       "      <th>ANOS_TRABALHADOS</th>\n",
       "      <th>MOTIVO_EMPRESTIMO</th>\n",
       "      <th>PONTUACAO</th>\n",
       "      <th>VALOR_EMPRESTIMO</th>\n",
       "      <th>JUROS</th>\n",
       "      <th>POSSIB_INADIMPLENCIA</th>\n",
       "      <th>EMPRESTIMO_PERC_RENDA_ANUAL</th>\n",
       "      <th>INADIMPLENTE</th>\n",
       "      <th>ANOS_PRIMEIRO_CREDITO</th>\n",
       "    </tr>\n",
       "  </thead>\n",
       "  <tbody>\n",
       "    <tr>\n",
       "      <th>12360</th>\n",
       "      <td>144.0</td>\n",
       "      <td>6000000.0</td>\n",
       "      <td>Hipotecada</td>\n",
       "      <td>12.0</td>\n",
       "      <td>Pessoal</td>\n",
       "      <td>C</td>\n",
       "      <td>5000.0</td>\n",
       "      <td>12.73</td>\n",
       "      <td>0.0</td>\n",
       "      <td>0.00</td>\n",
       "      <td>0.0</td>\n",
       "      <td>25</td>\n",
       "    </tr>\n",
       "    <tr>\n",
       "      <th>18648</th>\n",
       "      <td>123.0</td>\n",
       "      <td>80004.0</td>\n",
       "      <td>Alugada</td>\n",
       "      <td>2.0</td>\n",
       "      <td>Educativo</td>\n",
       "      <td>B</td>\n",
       "      <td>20400.0</td>\n",
       "      <td>10.25</td>\n",
       "      <td>0.0</td>\n",
       "      <td>0.25</td>\n",
       "      <td>0.0</td>\n",
       "      <td>3</td>\n",
       "    </tr>\n",
       "    <tr>\n",
       "      <th>19597</th>\n",
       "      <td>144.0</td>\n",
       "      <td>200000.0</td>\n",
       "      <td>Hipotecada</td>\n",
       "      <td>4.0</td>\n",
       "      <td>Educativo</td>\n",
       "      <td>B</td>\n",
       "      <td>6000.0</td>\n",
       "      <td>11.86</td>\n",
       "      <td>0.0</td>\n",
       "      <td>0.03</td>\n",
       "      <td>0.0</td>\n",
       "      <td>2</td>\n",
       "    </tr>\n",
       "    <tr>\n",
       "      <th>32584</th>\n",
       "      <td>144.0</td>\n",
       "      <td>250000.0</td>\n",
       "      <td>Alugada</td>\n",
       "      <td>4.0</td>\n",
       "      <td>Empreendimento</td>\n",
       "      <td>C</td>\n",
       "      <td>4800.0</td>\n",
       "      <td>13.57</td>\n",
       "      <td>0.0</td>\n",
       "      <td>0.02</td>\n",
       "      <td>0.0</td>\n",
       "      <td>3</td>\n",
       "    </tr>\n",
       "  </tbody>\n",
       "</table>\n",
       "</div>"
      ],
      "text/plain": [
       "       IDADE  RENDIMENTO_ANUAL SITUACAO_PROPRIEDADE  ANOS_TRABALHADOS  \\\n",
       "12360  144.0         6000000.0           Hipotecada              12.0   \n",
       "18648  123.0           80004.0              Alugada               2.0   \n",
       "19597  144.0          200000.0           Hipotecada               4.0   \n",
       "32584  144.0          250000.0              Alugada               4.0   \n",
       "\n",
       "      MOTIVO_EMPRESTIMO PONTUACAO  VALOR_EMPRESTIMO  JUROS  \\\n",
       "12360           Pessoal         C            5000.0  12.73   \n",
       "18648         Educativo         B           20400.0  10.25   \n",
       "19597         Educativo         B            6000.0  11.86   \n",
       "32584    Empreendimento         C            4800.0  13.57   \n",
       "\n",
       "       POSSIB_INADIMPLENCIA  EMPRESTIMO_PERC_RENDA_ANUAL  INADIMPLENTE  \\\n",
       "12360                   0.0                         0.00           0.0   \n",
       "18648                   0.0                         0.25           0.0   \n",
       "19597                   0.0                         0.03           0.0   \n",
       "32584                   0.0                         0.02           0.0   \n",
       "\n",
       "       ANOS_PRIMEIRO_CREDITO  \n",
       "12360                     25  \n",
       "18648                      3  \n",
       "19597                      2  \n",
       "32584                      3  "
      ]
     },
     "execution_count": 378,
     "metadata": {},
     "output_type": "execute_result"
    }
   ],
   "source": [
    "dados[dados['IDADE'] > 120]"
   ]
  },
  {
   "cell_type": "markdown",
   "metadata": {},
   "source": [
    "O peso de 5 linhas num dataset de mais de 28 mil linhas é extremamente pequeno, essas linhas foram excuídas."
   ]
  },
  {
   "cell_type": "code",
   "execution_count": 379,
   "metadata": {},
   "outputs": [
    {
     "data": {
      "text/html": [
       "<div>\n",
       "<style scoped>\n",
       "    .dataframe tbody tr th:only-of-type {\n",
       "        vertical-align: middle;\n",
       "    }\n",
       "\n",
       "    .dataframe tbody tr th {\n",
       "        vertical-align: top;\n",
       "    }\n",
       "\n",
       "    .dataframe thead th {\n",
       "        text-align: right;\n",
       "    }\n",
       "</style>\n",
       "<table border=\"1\" class=\"dataframe\">\n",
       "  <thead>\n",
       "    <tr style=\"text-align: right;\">\n",
       "      <th></th>\n",
       "      <th>IDADE</th>\n",
       "      <th>RENDIMENTO_ANUAL</th>\n",
       "      <th>SITUACAO_PROPRIEDADE</th>\n",
       "      <th>ANOS_TRABALHADOS</th>\n",
       "      <th>MOTIVO_EMPRESTIMO</th>\n",
       "      <th>PONTUACAO</th>\n",
       "      <th>VALOR_EMPRESTIMO</th>\n",
       "      <th>JUROS</th>\n",
       "      <th>POSSIB_INADIMPLENCIA</th>\n",
       "      <th>EMPRESTIMO_PERC_RENDA_ANUAL</th>\n",
       "      <th>INADIMPLENTE</th>\n",
       "      <th>ANOS_PRIMEIRO_CREDITO</th>\n",
       "    </tr>\n",
       "  </thead>\n",
       "  <tbody>\n",
       "  </tbody>\n",
       "</table>\n",
       "</div>"
      ],
      "text/plain": [
       "Empty DataFrame\n",
       "Columns: [IDADE, RENDIMENTO_ANUAL, SITUACAO_PROPRIEDADE, ANOS_TRABALHADOS, MOTIVO_EMPRESTIMO, PONTUACAO, VALOR_EMPRESTIMO, JUROS, POSSIB_INADIMPLENCIA, EMPRESTIMO_PERC_RENDA_ANUAL, INADIMPLENTE, ANOS_PRIMEIRO_CREDITO]\n",
       "Index: []"
      ]
     },
     "execution_count": 379,
     "metadata": {},
     "output_type": "execute_result"
    }
   ],
   "source": [
    "dados = dados.drop(dados[dados['IDADE'] > 120].index)\n",
    "dados[dados['IDADE'] > 120]"
   ]
  },
  {
   "cell_type": "markdown",
   "metadata": {},
   "source": [
    "#### RENDIMENTO_ANUAL"
   ]
  },
  {
   "cell_type": "code",
   "execution_count": 380,
   "metadata": {},
   "outputs": [
    {
     "data": {
      "text/plain": [
       "array([   4000.,    4080.,    4200., ..., 1440000., 1782000., 2039784.])"
      ]
     },
     "execution_count": 380,
     "metadata": {},
     "output_type": "execute_result"
    }
   ],
   "source": [
    "dados['RENDIMENTO_ANUAL'].sort_values().unique()"
   ]
  },
  {
   "cell_type": "code",
   "execution_count": 381,
   "metadata": {},
   "outputs": [
    {
     "data": {
      "image/png": "[encoded data removed]",
      "text/plain": [
       "<Figure size 1440x432 with 1 Axes>"
      ]
     },
     "metadata": {
      "needs_background": "light"
     },
     "output_type": "display_data"
    }
   ],
   "source": [
    "ax = sns.boxplot(x=dados['RENDIMENTO_ANUAL'])\n",
    "ax.figure.set_size_inches(20, 6)"
   ]
  },
  {
   "cell_type": "code",
   "execution_count": 382,
   "metadata": {},
   "outputs": [
    {
     "data": {
      "text/html": [
       "<div>\n",
       "<style scoped>\n",
       "    .dataframe tbody tr th:only-of-type {\n",
       "        vertical-align: middle;\n",
       "    }\n",
       "\n",
       "    .dataframe tbody tr th {\n",
       "        vertical-align: top;\n",
       "    }\n",
       "\n",
       "    .dataframe thead th {\n",
       "        text-align: right;\n",
       "    }\n",
       "</style>\n",
       "<table border=\"1\" class=\"dataframe\">\n",
       "  <thead>\n",
       "    <tr style=\"text-align: right;\">\n",
       "      <th></th>\n",
       "      <th>IDADE</th>\n",
       "      <th>RENDIMENTO_ANUAL</th>\n",
       "      <th>SITUACAO_PROPRIEDADE</th>\n",
       "      <th>ANOS_TRABALHADOS</th>\n",
       "      <th>MOTIVO_EMPRESTIMO</th>\n",
       "      <th>PONTUACAO</th>\n",
       "      <th>VALOR_EMPRESTIMO</th>\n",
       "      <th>JUROS</th>\n",
       "      <th>POSSIB_INADIMPLENCIA</th>\n",
       "      <th>EMPRESTIMO_PERC_RENDA_ANUAL</th>\n",
       "      <th>INADIMPLENTE</th>\n",
       "      <th>ANOS_PRIMEIRO_CREDITO</th>\n",
       "    </tr>\n",
       "  </thead>\n",
       "  <tbody>\n",
       "    <tr>\n",
       "      <th>9073</th>\n",
       "      <td>42.0</td>\n",
       "      <td>2039784.0</td>\n",
       "      <td>Alugada</td>\n",
       "      <td>0.0</td>\n",
       "      <td>Empreendimento</td>\n",
       "      <td>C</td>\n",
       "      <td>8450.0</td>\n",
       "      <td>12.29</td>\n",
       "      <td>0.0</td>\n",
       "      <td>0.00</td>\n",
       "      <td>1.0</td>\n",
       "      <td>15</td>\n",
       "    </tr>\n",
       "    <tr>\n",
       "      <th>12606</th>\n",
       "      <td>47.0</td>\n",
       "      <td>1362000.0</td>\n",
       "      <td>Hipotecada</td>\n",
       "      <td>9.0</td>\n",
       "      <td>Empreendimento</td>\n",
       "      <td>A</td>\n",
       "      <td>6600.0</td>\n",
       "      <td>7.74</td>\n",
       "      <td>0.0</td>\n",
       "      <td>0.00</td>\n",
       "      <td>0.0</td>\n",
       "      <td>17</td>\n",
       "    </tr>\n",
       "    <tr>\n",
       "      <th>15434</th>\n",
       "      <td>36.0</td>\n",
       "      <td>1200000.0</td>\n",
       "      <td>Própria</td>\n",
       "      <td>16.0</td>\n",
       "      <td>Médico</td>\n",
       "      <td>A</td>\n",
       "      <td>10000.0</td>\n",
       "      <td>6.54</td>\n",
       "      <td>0.0</td>\n",
       "      <td>0.01</td>\n",
       "      <td>0.0</td>\n",
       "      <td>11</td>\n",
       "    </tr>\n",
       "    <tr>\n",
       "      <th>19815</th>\n",
       "      <td>63.0</td>\n",
       "      <td>1782000.0</td>\n",
       "      <td>Alugada</td>\n",
       "      <td>13.0</td>\n",
       "      <td>Educativo</td>\n",
       "      <td>C</td>\n",
       "      <td>12025.0</td>\n",
       "      <td>14.27</td>\n",
       "      <td>0.0</td>\n",
       "      <td>0.01</td>\n",
       "      <td>0.0</td>\n",
       "      <td>30</td>\n",
       "    </tr>\n",
       "    <tr>\n",
       "      <th>28515</th>\n",
       "      <td>32.0</td>\n",
       "      <td>1200000.0</td>\n",
       "      <td>Hipotecada</td>\n",
       "      <td>1.0</td>\n",
       "      <td>Empreendimento</td>\n",
       "      <td>A</td>\n",
       "      <td>12000.0</td>\n",
       "      <td>7.51</td>\n",
       "      <td>0.0</td>\n",
       "      <td>0.01</td>\n",
       "      <td>0.0</td>\n",
       "      <td>8</td>\n",
       "    </tr>\n",
       "    <tr>\n",
       "      <th>29934</th>\n",
       "      <td>44.0</td>\n",
       "      <td>1440000.0</td>\n",
       "      <td>Hipotecada</td>\n",
       "      <td>7.0</td>\n",
       "      <td>Pagamento de débitos</td>\n",
       "      <td>A</td>\n",
       "      <td>6400.0</td>\n",
       "      <td>7.40</td>\n",
       "      <td>0.0</td>\n",
       "      <td>0.00</td>\n",
       "      <td>0.0</td>\n",
       "      <td>15</td>\n",
       "    </tr>\n",
       "  </tbody>\n",
       "</table>\n",
       "</div>"
      ],
      "text/plain": [
       "       IDADE  RENDIMENTO_ANUAL SITUACAO_PROPRIEDADE  ANOS_TRABALHADOS  \\\n",
       "9073    42.0         2039784.0              Alugada               0.0   \n",
       "12606   47.0         1362000.0           Hipotecada               9.0   \n",
       "15434   36.0         1200000.0              Própria              16.0   \n",
       "19815   63.0         1782000.0              Alugada              13.0   \n",
       "28515   32.0         1200000.0           Hipotecada               1.0   \n",
       "29934   44.0         1440000.0           Hipotecada               7.0   \n",
       "\n",
       "          MOTIVO_EMPRESTIMO PONTUACAO  VALOR_EMPRESTIMO  JUROS  \\\n",
       "9073         Empreendimento         C            8450.0  12.29   \n",
       "12606        Empreendimento         A            6600.0   7.74   \n",
       "15434                Médico         A           10000.0   6.54   \n",
       "19815             Educativo         C           12025.0  14.27   \n",
       "28515        Empreendimento         A           12000.0   7.51   \n",
       "29934  Pagamento de débitos         A            6400.0   7.40   \n",
       "\n",
       "       POSSIB_INADIMPLENCIA  EMPRESTIMO_PERC_RENDA_ANUAL  INADIMPLENTE  \\\n",
       "9073                    0.0                         0.00           1.0   \n",
       "12606                   0.0                         0.00           0.0   \n",
       "15434                   0.0                         0.01           0.0   \n",
       "19815                   0.0                         0.01           0.0   \n",
       "28515                   0.0                         0.01           0.0   \n",
       "29934                   0.0                         0.00           0.0   \n",
       "\n",
       "       ANOS_PRIMEIRO_CREDITO  \n",
       "9073                      15  \n",
       "12606                     17  \n",
       "15434                     11  \n",
       "19815                     30  \n",
       "28515                      8  \n",
       "29934                     15  "
      ]
     },
     "execution_count": 382,
     "metadata": {},
     "output_type": "execute_result"
    }
   ],
   "source": [
    "dados[dados['RENDIMENTO_ANUAL'] > 1000000]"
   ]
  },
  {
   "cell_type": "markdown",
   "metadata": {},
   "source": [
    "Há pessoas com rendimento anual superior a 1 milhão. Não serão removidas."
   ]
  },
  {
   "cell_type": "markdown",
   "metadata": {},
   "source": [
    "#### ANOS_TRABALHADOS"
   ]
  },
  {
   "cell_type": "code",
   "execution_count": 383,
   "metadata": {},
   "outputs": [
    {
     "data": {
      "text/plain": [
       "array([  0.,   1.,   2.,   3.,   4.,   5.,   6.,   7.,   8.,   9.,  10.,\n",
       "        11.,  12.,  13.,  14.,  15.,  16.,  17.,  18.,  19.,  20.,  21.,\n",
       "        22.,  23.,  24.,  25.,  26.,  27.,  28.,  29.,  30.,  31.,  34.,\n",
       "        38.,  41., 123.])"
      ]
     },
     "execution_count": 383,
     "metadata": {},
     "output_type": "execute_result"
    }
   ],
   "source": [
    "dados['ANOS_TRABALHADOS'].sort_values().unique()"
   ]
  },
  {
   "cell_type": "markdown",
   "metadata": {},
   "source": [
    "Há dois cidadãos que trabalharam por \"123 anos\", definitivamente são um outliers. "
   ]
  },
  {
   "cell_type": "code",
   "execution_count": 384,
   "metadata": {},
   "outputs": [
    {
     "data": {
      "text/html": [
       "<div>\n",
       "<style scoped>\n",
       "    .dataframe tbody tr th:only-of-type {\n",
       "        vertical-align: middle;\n",
       "    }\n",
       "\n",
       "    .dataframe tbody tr th {\n",
       "        vertical-align: top;\n",
       "    }\n",
       "\n",
       "    .dataframe thead th {\n",
       "        text-align: right;\n",
       "    }\n",
       "</style>\n",
       "<table border=\"1\" class=\"dataframe\">\n",
       "  <thead>\n",
       "    <tr style=\"text-align: right;\">\n",
       "      <th></th>\n",
       "      <th>IDADE</th>\n",
       "      <th>RENDIMENTO_ANUAL</th>\n",
       "      <th>SITUACAO_PROPRIEDADE</th>\n",
       "      <th>ANOS_TRABALHADOS</th>\n",
       "      <th>MOTIVO_EMPRESTIMO</th>\n",
       "      <th>PONTUACAO</th>\n",
       "      <th>VALOR_EMPRESTIMO</th>\n",
       "      <th>JUROS</th>\n",
       "      <th>POSSIB_INADIMPLENCIA</th>\n",
       "      <th>EMPRESTIMO_PERC_RENDA_ANUAL</th>\n",
       "      <th>INADIMPLENTE</th>\n",
       "      <th>ANOS_PRIMEIRO_CREDITO</th>\n",
       "    </tr>\n",
       "  </thead>\n",
       "  <tbody>\n",
       "    <tr>\n",
       "      <th>25055</th>\n",
       "      <td>22.0</td>\n",
       "      <td>59000.0</td>\n",
       "      <td>Alugada</td>\n",
       "      <td>123.0</td>\n",
       "      <td>Pessoal</td>\n",
       "      <td>D</td>\n",
       "      <td>35000.0</td>\n",
       "      <td>16.02</td>\n",
       "      <td>1.0</td>\n",
       "      <td>0.59</td>\n",
       "      <td>1.0</td>\n",
       "      <td>3</td>\n",
       "    </tr>\n",
       "    <tr>\n",
       "      <th>31592</th>\n",
       "      <td>21.0</td>\n",
       "      <td>192000.0</td>\n",
       "      <td>Hipotecada</td>\n",
       "      <td>123.0</td>\n",
       "      <td>Empreendimento</td>\n",
       "      <td>A</td>\n",
       "      <td>20000.0</td>\n",
       "      <td>6.54</td>\n",
       "      <td>0.0</td>\n",
       "      <td>0.10</td>\n",
       "      <td>0.0</td>\n",
       "      <td>4</td>\n",
       "    </tr>\n",
       "  </tbody>\n",
       "</table>\n",
       "</div>"
      ],
      "text/plain": [
       "       IDADE  RENDIMENTO_ANUAL SITUACAO_PROPRIEDADE  ANOS_TRABALHADOS  \\\n",
       "25055   22.0           59000.0              Alugada             123.0   \n",
       "31592   21.0          192000.0           Hipotecada             123.0   \n",
       "\n",
       "      MOTIVO_EMPRESTIMO PONTUACAO  VALOR_EMPRESTIMO  JUROS  \\\n",
       "25055           Pessoal         D           35000.0  16.02   \n",
       "31592    Empreendimento         A           20000.0   6.54   \n",
       "\n",
       "       POSSIB_INADIMPLENCIA  EMPRESTIMO_PERC_RENDA_ANUAL  INADIMPLENTE  \\\n",
       "25055                   1.0                         0.59           1.0   \n",
       "31592                   0.0                         0.10           0.0   \n",
       "\n",
       "       ANOS_PRIMEIRO_CREDITO  \n",
       "25055                      3  \n",
       "31592                      4  "
      ]
     },
     "execution_count": 384,
     "metadata": {},
     "output_type": "execute_result"
    }
   ],
   "source": [
    "dados[dados['ANOS_TRABALHADOS'] > 100]"
   ]
  },
  {
   "cell_type": "code",
   "execution_count": 385,
   "metadata": {},
   "outputs": [
    {
     "data": {
      "text/html": [
       "<div>\n",
       "<style scoped>\n",
       "    .dataframe tbody tr th:only-of-type {\n",
       "        vertical-align: middle;\n",
       "    }\n",
       "\n",
       "    .dataframe tbody tr th {\n",
       "        vertical-align: top;\n",
       "    }\n",
       "\n",
       "    .dataframe thead th {\n",
       "        text-align: right;\n",
       "    }\n",
       "</style>\n",
       "<table border=\"1\" class=\"dataframe\">\n",
       "  <thead>\n",
       "    <tr style=\"text-align: right;\">\n",
       "      <th></th>\n",
       "      <th>IDADE</th>\n",
       "      <th>RENDIMENTO_ANUAL</th>\n",
       "      <th>SITUACAO_PROPRIEDADE</th>\n",
       "      <th>ANOS_TRABALHADOS</th>\n",
       "      <th>MOTIVO_EMPRESTIMO</th>\n",
       "      <th>PONTUACAO</th>\n",
       "      <th>VALOR_EMPRESTIMO</th>\n",
       "      <th>JUROS</th>\n",
       "      <th>POSSIB_INADIMPLENCIA</th>\n",
       "      <th>EMPRESTIMO_PERC_RENDA_ANUAL</th>\n",
       "      <th>INADIMPLENTE</th>\n",
       "      <th>ANOS_PRIMEIRO_CREDITO</th>\n",
       "    </tr>\n",
       "  </thead>\n",
       "  <tbody>\n",
       "  </tbody>\n",
       "</table>\n",
       "</div>"
      ],
      "text/plain": [
       "Empty DataFrame\n",
       "Columns: [IDADE, RENDIMENTO_ANUAL, SITUACAO_PROPRIEDADE, ANOS_TRABALHADOS, MOTIVO_EMPRESTIMO, PONTUACAO, VALOR_EMPRESTIMO, JUROS, POSSIB_INADIMPLENCIA, EMPRESTIMO_PERC_RENDA_ANUAL, INADIMPLENTE, ANOS_PRIMEIRO_CREDITO]\n",
       "Index: []"
      ]
     },
     "execution_count": 385,
     "metadata": {},
     "output_type": "execute_result"
    }
   ],
   "source": [
    "dados = dados.drop(dados[dados['ANOS_TRABALHADOS'] > 120].index)\n",
    "dados[dados['ANOS_TRABALHADOS'] > 120]"
   ]
  },
  {
   "cell_type": "markdown",
   "metadata": {},
   "source": [
    "#### VALOR_EMPRESTIMO"
   ]
  },
  {
   "cell_type": "code",
   "execution_count": 386,
   "metadata": {},
   "outputs": [
    {
     "data": {
      "image/png": "[encoded data removed]",
      "text/plain": [
       "<Figure size 1440x432 with 1 Axes>"
      ]
     },
     "metadata": {
      "needs_background": "light"
     },
     "output_type": "display_data"
    }
   ],
   "source": [
    "ax = sns.boxplot(x=dados['VALOR_EMPRESTIMO'])\n",
    "ax.figure.set_size_inches(20, 6)"
   ]
  },
  {
   "cell_type": "markdown",
   "metadata": {},
   "source": [
    "Não vejo nenhum problema em pegar empréstimos com valores elevados."
   ]
  },
  {
   "cell_type": "markdown",
   "metadata": {},
   "source": [
    "#### JUROS"
   ]
  },
  {
   "cell_type": "code",
   "execution_count": 387,
   "metadata": {},
   "outputs": [
    {
     "data": {
      "image/png": "[encoded data removed]",
      "text/plain": [
       "<Figure size 1440x432 with 1 Axes>"
      ]
     },
     "metadata": {
      "needs_background": "light"
     },
     "output_type": "display_data"
    }
   ],
   "source": [
    "ax = sns.boxplot(x=dados['JUROS'])\n",
    "ax.figure.set_size_inches(20, 6)"
   ]
  },
  {
   "cell_type": "markdown",
   "metadata": {},
   "source": [
    "Nada anormal com os juros."
   ]
  },
  {
   "cell_type": "markdown",
   "metadata": {},
   "source": [
    "#### EMPRESTIMO_PERC_RENDA_ANUAL"
   ]
  },
  {
   "cell_type": "code",
   "execution_count": 388,
   "metadata": {},
   "outputs": [
    {
     "data": {
      "image/png": "[encoded data removed]",
      "text/plain": [
       "<Figure size 1440x432 with 1 Axes>"
      ]
     },
     "metadata": {
      "needs_background": "light"
     },
     "output_type": "display_data"
    }
   ],
   "source": [
    "ax = sns.boxplot(x=dados['EMPRESTIMO_PERC_RENDA_ANUAL'])\n",
    "ax.figure.set_size_inches(20, 6)"
   ]
  },
  {
   "cell_type": "markdown",
   "metadata": {},
   "source": [
    "Nada anormal aqui."
   ]
  },
  {
   "cell_type": "markdown",
   "metadata": {},
   "source": [
    "#### ANOS_PRIMEIRO_CREDITO"
   ]
  },
  {
   "cell_type": "code",
   "execution_count": 389,
   "metadata": {},
   "outputs": [
    {
     "data": {
      "image/png": "[encoded data removed]",
      "text/plain": [
       "<Figure size 1440x432 with 1 Axes>"
      ]
     },
     "metadata": {
      "needs_background": "light"
     },
     "output_type": "display_data"
    }
   ],
   "source": [
    "ax = sns.boxplot(x=dados['ANOS_PRIMEIRO_CREDITO'])\n",
    "ax.figure.set_size_inches(20, 6)"
   ]
  },
  {
   "cell_type": "markdown",
   "metadata": {},
   "source": [
    "Nada anormal aqui."
   ]
  },
  {
   "cell_type": "markdown",
   "metadata": {},
   "source": [
    "#### Resultado final"
   ]
  },
  {
   "cell_type": "code",
   "execution_count": 390,
   "metadata": {},
   "outputs": [
    {
     "data": {
      "text/plain": [
       "(28632, 12)"
      ]
     },
     "execution_count": 390,
     "metadata": {},
     "output_type": "execute_result"
    }
   ],
   "source": [
    "dados.shape"
   ]
  },
  {
   "cell_type": "markdown",
   "metadata": {},
   "source": [
    "O resultado final é uma tabela com 28632 linhas e 12 colunas."
   ]
  },
  {
   "cell_type": "code",
   "execution_count": 391,
   "metadata": {},
   "outputs": [
    {
     "data": {
      "text/plain": [
       "5853"
      ]
     },
     "execution_count": 391,
     "metadata": {},
     "output_type": "execute_result"
    }
   ],
   "source": [
    "dados_brutos.shape[0]- dados.shape[0]"
   ]
  },
  {
   "cell_type": "markdown",
   "metadata": {},
   "source": [
    "5853 linhas foram eliminadas."
   ]
  },
  {
   "cell_type": "markdown",
   "metadata": {},
   "source": [
    "### Analisar a correlação das variáveis"
   ]
  },
  {
   "cell_type": "code",
   "execution_count": 392,
   "metadata": {},
   "outputs": [
    {
     "data": {
      "text/html": [
       "<div>\n",
       "<style scoped>\n",
       "    .dataframe tbody tr th:only-of-type {\n",
       "        vertical-align: middle;\n",
       "    }\n",
       "\n",
       "    .dataframe tbody tr th {\n",
       "        vertical-align: top;\n",
       "    }\n",
       "\n",
       "    .dataframe thead th {\n",
       "        text-align: right;\n",
       "    }\n",
       "</style>\n",
       "<table border=\"1\" class=\"dataframe\">\n",
       "  <thead>\n",
       "    <tr style=\"text-align: right;\">\n",
       "      <th></th>\n",
       "      <th>IDADE</th>\n",
       "      <th>RENDIMENTO_ANUAL</th>\n",
       "      <th>ANOS_TRABALHADOS</th>\n",
       "      <th>VALOR_EMPRESTIMO</th>\n",
       "      <th>JUROS</th>\n",
       "      <th>POSSIB_INADIMPLENCIA</th>\n",
       "      <th>EMPRESTIMO_PERC_RENDA_ANUAL</th>\n",
       "      <th>INADIMPLENTE</th>\n",
       "      <th>ANOS_PRIMEIRO_CREDITO</th>\n",
       "    </tr>\n",
       "  </thead>\n",
       "  <tbody>\n",
       "    <tr>\n",
       "      <th>IDADE</th>\n",
       "      <td>1.000000</td>\n",
       "      <td>0.141471</td>\n",
       "      <td>0.176054</td>\n",
       "      <td>0.056061</td>\n",
       "      <td>0.010370</td>\n",
       "      <td>-0.022498</td>\n",
       "      <td>-0.039476</td>\n",
       "      <td>0.009163</td>\n",
       "      <td>0.877581</td>\n",
       "    </tr>\n",
       "    <tr>\n",
       "      <th>RENDIMENTO_ANUAL</th>\n",
       "      <td>0.141471</td>\n",
       "      <td>1.000000</td>\n",
       "      <td>0.160952</td>\n",
       "      <td>0.324766</td>\n",
       "      <td>-0.003767</td>\n",
       "      <td>-0.167028</td>\n",
       "      <td>-0.297635</td>\n",
       "      <td>-0.001251</td>\n",
       "      <td>0.122787</td>\n",
       "    </tr>\n",
       "    <tr>\n",
       "      <th>ANOS_TRABALHADOS</th>\n",
       "      <td>0.176054</td>\n",
       "      <td>0.160952</td>\n",
       "      <td>1.000000</td>\n",
       "      <td>0.108390</td>\n",
       "      <td>-0.058263</td>\n",
       "      <td>-0.086486</td>\n",
       "      <td>-0.060099</td>\n",
       "      <td>-0.030400</td>\n",
       "      <td>0.151571</td>\n",
       "    </tr>\n",
       "    <tr>\n",
       "      <th>VALOR_EMPRESTIMO</th>\n",
       "      <td>0.056061</td>\n",
       "      <td>0.324766</td>\n",
       "      <td>0.108390</td>\n",
       "      <td>1.000000</td>\n",
       "      <td>0.145895</td>\n",
       "      <td>0.113363</td>\n",
       "      <td>0.577197</td>\n",
       "      <td>0.040060</td>\n",
       "      <td>0.045580</td>\n",
       "    </tr>\n",
       "    <tr>\n",
       "      <th>JUROS</th>\n",
       "      <td>0.010370</td>\n",
       "      <td>-0.003767</td>\n",
       "      <td>-0.058263</td>\n",
       "      <td>0.145895</td>\n",
       "      <td>1.000000</td>\n",
       "      <td>0.339307</td>\n",
       "      <td>0.123401</td>\n",
       "      <td>0.500233</td>\n",
       "      <td>0.015330</td>\n",
       "    </tr>\n",
       "    <tr>\n",
       "      <th>POSSIB_INADIMPLENCIA</th>\n",
       "      <td>-0.022498</td>\n",
       "      <td>-0.167028</td>\n",
       "      <td>-0.086486</td>\n",
       "      <td>0.113363</td>\n",
       "      <td>0.339307</td>\n",
       "      <td>1.000000</td>\n",
       "      <td>0.379534</td>\n",
       "      <td>0.181867</td>\n",
       "      <td>-0.015575</td>\n",
       "    </tr>\n",
       "    <tr>\n",
       "      <th>EMPRESTIMO_PERC_RENDA_ANUAL</th>\n",
       "      <td>-0.039476</td>\n",
       "      <td>-0.297635</td>\n",
       "      <td>-0.060099</td>\n",
       "      <td>0.577197</td>\n",
       "      <td>0.123401</td>\n",
       "      <td>0.379534</td>\n",
       "      <td>1.000000</td>\n",
       "      <td>0.035823</td>\n",
       "      <td>-0.029814</td>\n",
       "    </tr>\n",
       "    <tr>\n",
       "      <th>INADIMPLENTE</th>\n",
       "      <td>0.009163</td>\n",
       "      <td>-0.001251</td>\n",
       "      <td>-0.030400</td>\n",
       "      <td>0.040060</td>\n",
       "      <td>0.500233</td>\n",
       "      <td>0.181867</td>\n",
       "      <td>0.035823</td>\n",
       "      <td>1.000000</td>\n",
       "      <td>0.008484</td>\n",
       "    </tr>\n",
       "    <tr>\n",
       "      <th>ANOS_PRIMEIRO_CREDITO</th>\n",
       "      <td>0.877581</td>\n",
       "      <td>0.122787</td>\n",
       "      <td>0.151571</td>\n",
       "      <td>0.045580</td>\n",
       "      <td>0.015330</td>\n",
       "      <td>-0.015575</td>\n",
       "      <td>-0.029814</td>\n",
       "      <td>0.008484</td>\n",
       "      <td>1.000000</td>\n",
       "    </tr>\n",
       "  </tbody>\n",
       "</table>\n",
       "</div>"
      ],
      "text/plain": [
       "                                IDADE  RENDIMENTO_ANUAL  ANOS_TRABALHADOS  \\\n",
       "IDADE                        1.000000          0.141471          0.176054   \n",
       "RENDIMENTO_ANUAL             0.141471          1.000000          0.160952   \n",
       "ANOS_TRABALHADOS             0.176054          0.160952          1.000000   \n",
       "VALOR_EMPRESTIMO             0.056061          0.324766          0.108390   \n",
       "JUROS                        0.010370         -0.003767         -0.058263   \n",
       "POSSIB_INADIMPLENCIA        -0.022498         -0.167028         -0.086486   \n",
       "EMPRESTIMO_PERC_RENDA_ANUAL -0.039476         -0.297635         -0.060099   \n",
       "INADIMPLENTE                 0.009163         -0.001251         -0.030400   \n",
       "ANOS_PRIMEIRO_CREDITO        0.877581          0.122787          0.151571   \n",
       "\n",
       "                             VALOR_EMPRESTIMO     JUROS  POSSIB_INADIMPLENCIA  \\\n",
       "IDADE                                0.056061  0.010370             -0.022498   \n",
       "RENDIMENTO_ANUAL                     0.324766 -0.003767             -0.167028   \n",
       "ANOS_TRABALHADOS                     0.108390 -0.058263             -0.086486   \n",
       "VALOR_EMPRESTIMO                     1.000000  0.145895              0.113363   \n",
       "JUROS                                0.145895  1.000000              0.339307   \n",
       "POSSIB_INADIMPLENCIA                 0.113363  0.339307              1.000000   \n",
       "EMPRESTIMO_PERC_RENDA_ANUAL          0.577197  0.123401              0.379534   \n",
       "INADIMPLENTE                         0.040060  0.500233              0.181867   \n",
       "ANOS_PRIMEIRO_CREDITO                0.045580  0.015330             -0.015575   \n",
       "\n",
       "                             EMPRESTIMO_PERC_RENDA_ANUAL  INADIMPLENTE  \\\n",
       "IDADE                                          -0.039476      0.009163   \n",
       "RENDIMENTO_ANUAL                               -0.297635     -0.001251   \n",
       "ANOS_TRABALHADOS                               -0.060099     -0.030400   \n",
       "VALOR_EMPRESTIMO                                0.577197      0.040060   \n",
       "JUROS                                           0.123401      0.500233   \n",
       "POSSIB_INADIMPLENCIA                            0.379534      0.181867   \n",
       "EMPRESTIMO_PERC_RENDA_ANUAL                     1.000000      0.035823   \n",
       "INADIMPLENTE                                    0.035823      1.000000   \n",
       "ANOS_PRIMEIRO_CREDITO                          -0.029814      0.008484   \n",
       "\n",
       "                             ANOS_PRIMEIRO_CREDITO  \n",
       "IDADE                                     0.877581  \n",
       "RENDIMENTO_ANUAL                          0.122787  \n",
       "ANOS_TRABALHADOS                          0.151571  \n",
       "VALOR_EMPRESTIMO                          0.045580  \n",
       "JUROS                                     0.015330  \n",
       "POSSIB_INADIMPLENCIA                     -0.015575  \n",
       "EMPRESTIMO_PERC_RENDA_ANUAL              -0.029814  \n",
       "INADIMPLENTE                              0.008484  \n",
       "ANOS_PRIMEIRO_CREDITO                     1.000000  "
      ]
     },
     "execution_count": 392,
     "metadata": {},
     "output_type": "execute_result"
    }
   ],
   "source": [
    "dados.corr()"
   ]
  },
  {
   "cell_type": "markdown",
   "metadata": {},
   "source": [
    "A coluna **EMPRESTIMO_PERC_RENDA_ANUAL** tem uma correlação alta com **VALOR_EMPRESTIMO** e estão diretamente relacionadas. Uma delas será removida para não haver duplicidade na hora de treinar o modelo."
   ]
  },
  {
   "cell_type": "code",
   "execution_count": 393,
   "metadata": {},
   "outputs": [],
   "source": [
    "dados = dados.drop('EMPRESTIMO_PERC_RENDA_ANUAL', axis = 1)"
   ]
  },
  {
   "cell_type": "code",
   "execution_count": 394,
   "metadata": {},
   "outputs": [
    {
     "data": {
      "text/plain": [
       "Index(['IDADE', 'RENDIMENTO_ANUAL', 'SITUACAO_PROPRIEDADE', 'ANOS_TRABALHADOS',\n",
       "       'MOTIVO_EMPRESTIMO', 'PONTUACAO', 'VALOR_EMPRESTIMO', 'JUROS',\n",
       "       'POSSIB_INADIMPLENCIA', 'INADIMPLENTE', 'ANOS_PRIMEIRO_CREDITO'],\n",
       "      dtype='object')"
      ]
     },
     "execution_count": 394,
     "metadata": {},
     "output_type": "execute_result"
    }
   ],
   "source": [
    "dados.columns"
   ]
  },
  {
   "cell_type": "code",
   "execution_count": 395,
   "metadata": {},
   "outputs": [],
   "source": [
    "#sns.pairplot(dados, hue='INADIMPLENTE', markers=[\"o\", \"s\"], palette='Dark2')"
   ]
  },
  {
   "cell_type": "markdown",
   "metadata": {},
   "source": [
    "A coluna **INADIPLENTE** é a nossa variável alvo. Essa coluna será separada."
   ]
  },
  {
   "cell_type": "code",
   "execution_count": 396,
   "metadata": {},
   "outputs": [],
   "source": [
    "x = dados.drop(['INADIMPLENTE'], axis = 1)\n",
    "alvo = dados['INADIMPLENTE']"
   ]
  },
  {
   "cell_type": "markdown",
   "metadata": {},
   "source": [
    "Para variáveis categóricas será utilizada um outra abordagem.\n",
    "Faremos a criação dessas novas colunas com o **OneHotEncoder**."
   ]
  },
  {
   "cell_type": "code",
   "execution_count": 397,
   "metadata": {},
   "outputs": [],
   "source": [
    "from sklearn.compose import make_column_transformer\n",
    "from sklearn.preprocessing import OneHotEncoder"
   ]
  },
  {
   "cell_type": "code",
   "execution_count": 398,
   "metadata": {},
   "outputs": [
    {
     "data": {
      "text/html": [
       "<div>\n",
       "<style scoped>\n",
       "    .dataframe tbody tr th:only-of-type {\n",
       "        vertical-align: middle;\n",
       "    }\n",
       "\n",
       "    .dataframe tbody tr th {\n",
       "        vertical-align: top;\n",
       "    }\n",
       "\n",
       "    .dataframe thead th {\n",
       "        text-align: right;\n",
       "    }\n",
       "</style>\n",
       "<table border=\"1\" class=\"dataframe\">\n",
       "  <thead>\n",
       "    <tr style=\"text-align: right;\">\n",
       "      <th></th>\n",
       "      <th>onehotencoder__SITUACAO_PROPRIEDADE_Alugada</th>\n",
       "      <th>onehotencoder__SITUACAO_PROPRIEDADE_Hipotecada</th>\n",
       "      <th>onehotencoder__SITUACAO_PROPRIEDADE_Outros</th>\n",
       "      <th>onehotencoder__SITUACAO_PROPRIEDADE_Própria</th>\n",
       "      <th>onehotencoder__MOTIVO_EMPRESTIMO_Educativo</th>\n",
       "      <th>onehotencoder__MOTIVO_EMPRESTIMO_Empreendimento</th>\n",
       "      <th>onehotencoder__MOTIVO_EMPRESTIMO_Melhora do lar</th>\n",
       "      <th>onehotencoder__MOTIVO_EMPRESTIMO_Médico</th>\n",
       "      <th>onehotencoder__MOTIVO_EMPRESTIMO_Pagamento de débitos</th>\n",
       "      <th>onehotencoder__MOTIVO_EMPRESTIMO_Pessoal</th>\n",
       "      <th>...</th>\n",
       "      <th>onehotencoder__PONTUACAO_E</th>\n",
       "      <th>onehotencoder__PONTUACAO_F</th>\n",
       "      <th>onehotencoder__PONTUACAO_G</th>\n",
       "      <th>remainder__IDADE</th>\n",
       "      <th>remainder__RENDIMENTO_ANUAL</th>\n",
       "      <th>remainder__ANOS_TRABALHADOS</th>\n",
       "      <th>remainder__VALOR_EMPRESTIMO</th>\n",
       "      <th>remainder__JUROS</th>\n",
       "      <th>remainder__POSSIB_INADIMPLENCIA</th>\n",
       "      <th>remainder__ANOS_PRIMEIRO_CREDITO</th>\n",
       "    </tr>\n",
       "  </thead>\n",
       "  <tbody>\n",
       "    <tr>\n",
       "      <th>0</th>\n",
       "      <td>1.0</td>\n",
       "      <td>0.0</td>\n",
       "      <td>0.0</td>\n",
       "      <td>0.0</td>\n",
       "      <td>0.0</td>\n",
       "      <td>0.0</td>\n",
       "      <td>0.0</td>\n",
       "      <td>0.0</td>\n",
       "      <td>0.0</td>\n",
       "      <td>1.0</td>\n",
       "      <td>...</td>\n",
       "      <td>0.0</td>\n",
       "      <td>0.0</td>\n",
       "      <td>0.0</td>\n",
       "      <td>25.0</td>\n",
       "      <td>58020.0</td>\n",
       "      <td>9.0</td>\n",
       "      <td>2000.0</td>\n",
       "      <td>6.91</td>\n",
       "      <td>0.0</td>\n",
       "      <td>4.0</td>\n",
       "    </tr>\n",
       "    <tr>\n",
       "      <th>1</th>\n",
       "      <td>1.0</td>\n",
       "      <td>0.0</td>\n",
       "      <td>0.0</td>\n",
       "      <td>0.0</td>\n",
       "      <td>0.0</td>\n",
       "      <td>0.0</td>\n",
       "      <td>0.0</td>\n",
       "      <td>0.0</td>\n",
       "      <td>0.0</td>\n",
       "      <td>1.0</td>\n",
       "      <td>...</td>\n",
       "      <td>0.0</td>\n",
       "      <td>0.0</td>\n",
       "      <td>0.0</td>\n",
       "      <td>28.0</td>\n",
       "      <td>61000.0</td>\n",
       "      <td>9.0</td>\n",
       "      <td>25000.0</td>\n",
       "      <td>9.91</td>\n",
       "      <td>1.0</td>\n",
       "      <td>7.0</td>\n",
       "    </tr>\n",
       "    <tr>\n",
       "      <th>2</th>\n",
       "      <td>1.0</td>\n",
       "      <td>0.0</td>\n",
       "      <td>0.0</td>\n",
       "      <td>0.0</td>\n",
       "      <td>0.0</td>\n",
       "      <td>1.0</td>\n",
       "      <td>0.0</td>\n",
       "      <td>0.0</td>\n",
       "      <td>0.0</td>\n",
       "      <td>0.0</td>\n",
       "      <td>...</td>\n",
       "      <td>0.0</td>\n",
       "      <td>0.0</td>\n",
       "      <td>0.0</td>\n",
       "      <td>22.0</td>\n",
       "      <td>45000.0</td>\n",
       "      <td>3.0</td>\n",
       "      <td>5000.0</td>\n",
       "      <td>12.42</td>\n",
       "      <td>0.0</td>\n",
       "      <td>2.0</td>\n",
       "    </tr>\n",
       "    <tr>\n",
       "      <th>3</th>\n",
       "      <td>1.0</td>\n",
       "      <td>0.0</td>\n",
       "      <td>0.0</td>\n",
       "      <td>0.0</td>\n",
       "      <td>0.0</td>\n",
       "      <td>0.0</td>\n",
       "      <td>0.0</td>\n",
       "      <td>0.0</td>\n",
       "      <td>1.0</td>\n",
       "      <td>0.0</td>\n",
       "      <td>...</td>\n",
       "      <td>0.0</td>\n",
       "      <td>0.0</td>\n",
       "      <td>0.0</td>\n",
       "      <td>29.0</td>\n",
       "      <td>35000.0</td>\n",
       "      <td>12.0</td>\n",
       "      <td>1800.0</td>\n",
       "      <td>5.42</td>\n",
       "      <td>0.0</td>\n",
       "      <td>7.0</td>\n",
       "    </tr>\n",
       "    <tr>\n",
       "      <th>4</th>\n",
       "      <td>0.0</td>\n",
       "      <td>1.0</td>\n",
       "      <td>0.0</td>\n",
       "      <td>0.0</td>\n",
       "      <td>0.0</td>\n",
       "      <td>0.0</td>\n",
       "      <td>0.0</td>\n",
       "      <td>0.0</td>\n",
       "      <td>1.0</td>\n",
       "      <td>0.0</td>\n",
       "      <td>...</td>\n",
       "      <td>0.0</td>\n",
       "      <td>0.0</td>\n",
       "      <td>0.0</td>\n",
       "      <td>26.0</td>\n",
       "      <td>87000.0</td>\n",
       "      <td>9.0</td>\n",
       "      <td>25000.0</td>\n",
       "      <td>12.73</td>\n",
       "      <td>0.0</td>\n",
       "      <td>2.0</td>\n",
       "    </tr>\n",
       "  </tbody>\n",
       "</table>\n",
       "<p>5 rows × 24 columns</p>\n",
       "</div>"
      ],
      "text/plain": [
       "   onehotencoder__SITUACAO_PROPRIEDADE_Alugada  \\\n",
       "0                                          1.0   \n",
       "1                                          1.0   \n",
       "2                                          1.0   \n",
       "3                                          1.0   \n",
       "4                                          0.0   \n",
       "\n",
       "   onehotencoder__SITUACAO_PROPRIEDADE_Hipotecada  \\\n",
       "0                                             0.0   \n",
       "1                                             0.0   \n",
       "2                                             0.0   \n",
       "3                                             0.0   \n",
       "4                                             1.0   \n",
       "\n",
       "   onehotencoder__SITUACAO_PROPRIEDADE_Outros  \\\n",
       "0                                         0.0   \n",
       "1                                         0.0   \n",
       "2                                         0.0   \n",
       "3                                         0.0   \n",
       "4                                         0.0   \n",
       "\n",
       "   onehotencoder__SITUACAO_PROPRIEDADE_Própria  \\\n",
       "0                                          0.0   \n",
       "1                                          0.0   \n",
       "2                                          0.0   \n",
       "3                                          0.0   \n",
       "4                                          0.0   \n",
       "\n",
       "   onehotencoder__MOTIVO_EMPRESTIMO_Educativo  \\\n",
       "0                                         0.0   \n",
       "1                                         0.0   \n",
       "2                                         0.0   \n",
       "3                                         0.0   \n",
       "4                                         0.0   \n",
       "\n",
       "   onehotencoder__MOTIVO_EMPRESTIMO_Empreendimento  \\\n",
       "0                                              0.0   \n",
       "1                                              0.0   \n",
       "2                                              1.0   \n",
       "3                                              0.0   \n",
       "4                                              0.0   \n",
       "\n",
       "   onehotencoder__MOTIVO_EMPRESTIMO_Melhora do lar  \\\n",
       "0                                              0.0   \n",
       "1                                              0.0   \n",
       "2                                              0.0   \n",
       "3                                              0.0   \n",
       "4                                              0.0   \n",
       "\n",
       "   onehotencoder__MOTIVO_EMPRESTIMO_Médico  \\\n",
       "0                                      0.0   \n",
       "1                                      0.0   \n",
       "2                                      0.0   \n",
       "3                                      0.0   \n",
       "4                                      0.0   \n",
       "\n",
       "   onehotencoder__MOTIVO_EMPRESTIMO_Pagamento de débitos  \\\n",
       "0                                                0.0       \n",
       "1                                                0.0       \n",
       "2                                                0.0       \n",
       "3                                                1.0       \n",
       "4                                                1.0       \n",
       "\n",
       "   onehotencoder__MOTIVO_EMPRESTIMO_Pessoal  ...  onehotencoder__PONTUACAO_E  \\\n",
       "0                                       1.0  ...                         0.0   \n",
       "1                                       1.0  ...                         0.0   \n",
       "2                                       0.0  ...                         0.0   \n",
       "3                                       0.0  ...                         0.0   \n",
       "4                                       0.0  ...                         0.0   \n",
       "\n",
       "   onehotencoder__PONTUACAO_F  onehotencoder__PONTUACAO_G  remainder__IDADE  \\\n",
       "0                         0.0                         0.0              25.0   \n",
       "1                         0.0                         0.0              28.0   \n",
       "2                         0.0                         0.0              22.0   \n",
       "3                         0.0                         0.0              29.0   \n",
       "4                         0.0                         0.0              26.0   \n",
       "\n",
       "   remainder__RENDIMENTO_ANUAL  remainder__ANOS_TRABALHADOS  \\\n",
       "0                      58020.0                          9.0   \n",
       "1                      61000.0                          9.0   \n",
       "2                      45000.0                          3.0   \n",
       "3                      35000.0                         12.0   \n",
       "4                      87000.0                          9.0   \n",
       "\n",
       "   remainder__VALOR_EMPRESTIMO  remainder__JUROS  \\\n",
       "0                       2000.0              6.91   \n",
       "1                      25000.0              9.91   \n",
       "2                       5000.0             12.42   \n",
       "3                       1800.0              5.42   \n",
       "4                      25000.0             12.73   \n",
       "\n",
       "   remainder__POSSIB_INADIMPLENCIA  remainder__ANOS_PRIMEIRO_CREDITO  \n",
       "0                              0.0                               4.0  \n",
       "1                              1.0                               7.0  \n",
       "2                              0.0                               2.0  \n",
       "3                              0.0                               7.0  \n",
       "4                              0.0                               2.0  \n",
       "\n",
       "[5 rows x 24 columns]"
      ]
     },
     "execution_count": 398,
     "metadata": {},
     "output_type": "execute_result"
    }
   ],
   "source": [
    "colunas_categoricas = ['SITUACAO_PROPRIEDADE','MOTIVO_EMPRESTIMO','PONTUACAO']\n",
    "\n",
    "one_hot_enc = make_column_transformer(\n",
    "    (OneHotEncoder(), colunas_categoricas),\n",
    "    remainder='passthrough')\n",
    "\n",
    "dados2 = one_hot_enc.fit_transform(x)\n",
    "dados2 = pd.DataFrame(dados2, columns=one_hot_enc.get_feature_names_out())\n",
    "dados2.head()"
   ]
  },
  {
   "cell_type": "markdown",
   "metadata": {},
   "source": [
    "### Normalização"
   ]
  },
  {
   "cell_type": "markdown",
   "metadata": {},
   "source": [
    "Os dados tem escalas diferentes, serão colocados numa mesma escala."
   ]
  },
  {
   "cell_type": "code",
   "execution_count": 399,
   "metadata": {},
   "outputs": [],
   "source": [
    "from sklearn.preprocessing import MinMaxScaler"
   ]
  },
  {
   "cell_type": "code",
   "execution_count": 400,
   "metadata": {},
   "outputs": [
    {
     "data": {
      "text/html": [
       "<style>#sk-container-id-9 {color: black;background-color: white;}#sk-container-id-9 pre{padding: 0;}#sk-container-id-9 div.sk-toggleable {background-color: white;}#sk-container-id-9 label.sk-toggleable__label {cursor: pointer;display: block;width: 100%;margin-bottom: 0;padding: 0.3em;box-sizing: border-box;text-align: center;}#sk-container-id-9 label.sk-toggleable__label-arrow:before {content: \"▸\";float: left;margin-right: 0.25em;color: #696969;}#sk-container-id-9 label.sk-toggleable__label-arrow:hover:before {color: black;}#sk-container-id-9 div.sk-estimator:hover label.sk-toggleable__label-arrow:before {color: black;}#sk-container-id-9 div.sk-toggleable__content {max-height: 0;max-width: 0;overflow: hidden;text-align: left;background-color: #f0f8ff;}#sk-container-id-9 div.sk-toggleable__content pre {margin: 0.2em;color: black;border-radius: 0.25em;background-color: #f0f8ff;}#sk-container-id-9 input.sk-toggleable__control:checked~div.sk-toggleable__content {max-height: 200px;max-width: 100%;overflow: auto;}#sk-container-id-9 input.sk-toggleable__control:checked~label.sk-toggleable__label-arrow:before {content: \"▾\";}#sk-container-id-9 div.sk-estimator input.sk-toggleable__control:checked~label.sk-toggleable__label {background-color: #d4ebff;}#sk-container-id-9 div.sk-label input.sk-toggleable__control:checked~label.sk-toggleable__label {background-color: #d4ebff;}#sk-container-id-9 input.sk-hidden--visually {border: 0;clip: rect(1px 1px 1px 1px);clip: rect(1px, 1px, 1px, 1px);height: 1px;margin: -1px;overflow: hidden;padding: 0;position: absolute;width: 1px;}#sk-container-id-9 div.sk-estimator {font-family: monospace;background-color: #f0f8ff;border: 1px dotted black;border-radius: 0.25em;box-sizing: border-box;margin-bottom: 0.5em;}#sk-container-id-9 div.sk-estimator:hover {background-color: #d4ebff;}#sk-container-id-9 div.sk-parallel-item::after {content: \"\";width: 100%;border-bottom: 1px solid gray;flex-grow: 1;}#sk-container-id-9 div.sk-label:hover label.sk-toggleable__label {background-color: #d4ebff;}#sk-container-id-9 div.sk-serial::before {content: \"\";position: absolute;border-left: 1px solid gray;box-sizing: border-box;top: 0;bottom: 0;left: 50%;z-index: 0;}#sk-container-id-9 div.sk-serial {display: flex;flex-direction: column;align-items: center;background-color: white;padding-right: 0.2em;padding-left: 0.2em;position: relative;}#sk-container-id-9 div.sk-item {position: relative;z-index: 1;}#sk-container-id-9 div.sk-parallel {display: flex;align-items: stretch;justify-content: center;background-color: white;position: relative;}#sk-container-id-9 div.sk-item::before, #sk-container-id-9 div.sk-parallel-item::before {content: \"\";position: absolute;border-left: 1px solid gray;box-sizing: border-box;top: 0;bottom: 0;left: 50%;z-index: -1;}#sk-container-id-9 div.sk-parallel-item {display: flex;flex-direction: column;z-index: 1;position: relative;background-color: white;}#sk-container-id-9 div.sk-parallel-item:first-child::after {align-self: flex-end;width: 50%;}#sk-container-id-9 div.sk-parallel-item:last-child::after {align-self: flex-start;width: 50%;}#sk-container-id-9 div.sk-parallel-item:only-child::after {width: 0;}#sk-container-id-9 div.sk-dashed-wrapped {border: 1px dashed gray;margin: 0 0.4em 0.5em 0.4em;box-sizing: border-box;padding-bottom: 0.4em;background-color: white;}#sk-container-id-9 div.sk-label label {font-family: monospace;font-weight: bold;display: inline-block;line-height: 1.2em;}#sk-container-id-9 div.sk-label-container {text-align: center;}#sk-container-id-9 div.sk-container {/* jupyter's `normalize.less` sets `[hidden] { display: none; }` but bootstrap.min.css set `[hidden] { display: none !important; }` so we also need the `!important` here to be able to override the default hidden behavior on the sphinx rendered scikit-learn.org. See: https://github.com/scikit-learn/scikit-learn/issues/21755 */display: inline-block !important;position: relative;}#sk-container-id-9 div.sk-text-repr-fallback {display: none;}</style><div id=\"sk-container-id-9\" class=\"sk-top-container\"><div class=\"sk-text-repr-fallback\"><pre>MinMaxScaler()</pre><b>In a Jupyter environment, please rerun this cell to show the HTML representation or trust the notebook. <br />On GitHub, the HTML representation is unable to render, please try loading this page with nbviewer.org.</b></div><div class=\"sk-container\" hidden><div class=\"sk-item\"><div class=\"sk-estimator sk-toggleable\"><input class=\"sk-toggleable__control sk-hidden--visually\" id=\"sk-estimator-id-9\" type=\"checkbox\" checked><label for=\"sk-estimator-id-9\" class=\"sk-toggleable__label sk-toggleable__label-arrow\">MinMaxScaler</label><div class=\"sk-toggleable__content\"><pre>MinMaxScaler()</pre></div></div></div></div></div>"
      ],
      "text/plain": [
       "MinMaxScaler()"
      ]
     },
     "execution_count": 400,
     "metadata": {},
     "output_type": "execute_result"
    }
   ],
   "source": [
    "scaler = MinMaxScaler()\n",
    "scaler.fit(dados2)\n",
    "MinMaxScaler()"
   ]
  },
  {
   "cell_type": "code",
   "execution_count": 401,
   "metadata": {},
   "outputs": [
    {
     "data": {
      "text/html": [
       "<div>\n",
       "<style scoped>\n",
       "    .dataframe tbody tr th:only-of-type {\n",
       "        vertical-align: middle;\n",
       "    }\n",
       "\n",
       "    .dataframe tbody tr th {\n",
       "        vertical-align: top;\n",
       "    }\n",
       "\n",
       "    .dataframe thead th {\n",
       "        text-align: right;\n",
       "    }\n",
       "</style>\n",
       "<table border=\"1\" class=\"dataframe\">\n",
       "  <thead>\n",
       "    <tr style=\"text-align: right;\">\n",
       "      <th></th>\n",
       "      <th>onehotencoder__SITUACAO_PROPRIEDADE_Alugada</th>\n",
       "      <th>onehotencoder__SITUACAO_PROPRIEDADE_Hipotecada</th>\n",
       "      <th>onehotencoder__SITUACAO_PROPRIEDADE_Outros</th>\n",
       "      <th>onehotencoder__SITUACAO_PROPRIEDADE_Própria</th>\n",
       "      <th>onehotencoder__MOTIVO_EMPRESTIMO_Educativo</th>\n",
       "      <th>onehotencoder__MOTIVO_EMPRESTIMO_Empreendimento</th>\n",
       "      <th>onehotencoder__MOTIVO_EMPRESTIMO_Melhora do lar</th>\n",
       "      <th>onehotencoder__MOTIVO_EMPRESTIMO_Médico</th>\n",
       "      <th>onehotencoder__MOTIVO_EMPRESTIMO_Pagamento de débitos</th>\n",
       "      <th>onehotencoder__MOTIVO_EMPRESTIMO_Pessoal</th>\n",
       "      <th>...</th>\n",
       "      <th>onehotencoder__PONTUACAO_E</th>\n",
       "      <th>onehotencoder__PONTUACAO_F</th>\n",
       "      <th>onehotencoder__PONTUACAO_G</th>\n",
       "      <th>remainder__IDADE</th>\n",
       "      <th>remainder__RENDIMENTO_ANUAL</th>\n",
       "      <th>remainder__ANOS_TRABALHADOS</th>\n",
       "      <th>remainder__VALOR_EMPRESTIMO</th>\n",
       "      <th>remainder__JUROS</th>\n",
       "      <th>remainder__POSSIB_INADIMPLENCIA</th>\n",
       "      <th>remainder__ANOS_PRIMEIRO_CREDITO</th>\n",
       "    </tr>\n",
       "  </thead>\n",
       "  <tbody>\n",
       "    <tr>\n",
       "      <th>0</th>\n",
       "      <td>1.0</td>\n",
       "      <td>0.0</td>\n",
       "      <td>0.0</td>\n",
       "      <td>0.0</td>\n",
       "      <td>0.0</td>\n",
       "      <td>0.0</td>\n",
       "      <td>0.0</td>\n",
       "      <td>0.0</td>\n",
       "      <td>0.0</td>\n",
       "      <td>1.0</td>\n",
       "      <td>...</td>\n",
       "      <td>0.0</td>\n",
       "      <td>0.0</td>\n",
       "      <td>0.0</td>\n",
       "      <td>0.078125</td>\n",
       "      <td>0.026535</td>\n",
       "      <td>0.219512</td>\n",
       "      <td>0.043478</td>\n",
       "      <td>0.083708</td>\n",
       "      <td>0.0</td>\n",
       "      <td>0.071429</td>\n",
       "    </tr>\n",
       "    <tr>\n",
       "      <th>1</th>\n",
       "      <td>1.0</td>\n",
       "      <td>0.0</td>\n",
       "      <td>0.0</td>\n",
       "      <td>0.0</td>\n",
       "      <td>0.0</td>\n",
       "      <td>0.0</td>\n",
       "      <td>0.0</td>\n",
       "      <td>0.0</td>\n",
       "      <td>0.0</td>\n",
       "      <td>1.0</td>\n",
       "      <td>...</td>\n",
       "      <td>0.0</td>\n",
       "      <td>0.0</td>\n",
       "      <td>0.0</td>\n",
       "      <td>0.125000</td>\n",
       "      <td>0.027999</td>\n",
       "      <td>0.219512</td>\n",
       "      <td>0.710145</td>\n",
       "      <td>0.252247</td>\n",
       "      <td>1.0</td>\n",
       "      <td>0.178571</td>\n",
       "    </tr>\n",
       "    <tr>\n",
       "      <th>2</th>\n",
       "      <td>1.0</td>\n",
       "      <td>0.0</td>\n",
       "      <td>0.0</td>\n",
       "      <td>0.0</td>\n",
       "      <td>0.0</td>\n",
       "      <td>1.0</td>\n",
       "      <td>0.0</td>\n",
       "      <td>0.0</td>\n",
       "      <td>0.0</td>\n",
       "      <td>0.0</td>\n",
       "      <td>...</td>\n",
       "      <td>0.0</td>\n",
       "      <td>0.0</td>\n",
       "      <td>0.0</td>\n",
       "      <td>0.031250</td>\n",
       "      <td>0.020140</td>\n",
       "      <td>0.073171</td>\n",
       "      <td>0.130435</td>\n",
       "      <td>0.393258</td>\n",
       "      <td>0.0</td>\n",
       "      <td>0.000000</td>\n",
       "    </tr>\n",
       "    <tr>\n",
       "      <th>3</th>\n",
       "      <td>1.0</td>\n",
       "      <td>0.0</td>\n",
       "      <td>0.0</td>\n",
       "      <td>0.0</td>\n",
       "      <td>0.0</td>\n",
       "      <td>0.0</td>\n",
       "      <td>0.0</td>\n",
       "      <td>0.0</td>\n",
       "      <td>1.0</td>\n",
       "      <td>0.0</td>\n",
       "      <td>...</td>\n",
       "      <td>0.0</td>\n",
       "      <td>0.0</td>\n",
       "      <td>0.0</td>\n",
       "      <td>0.140625</td>\n",
       "      <td>0.015228</td>\n",
       "      <td>0.292683</td>\n",
       "      <td>0.037681</td>\n",
       "      <td>0.000000</td>\n",
       "      <td>0.0</td>\n",
       "      <td>0.178571</td>\n",
       "    </tr>\n",
       "    <tr>\n",
       "      <th>4</th>\n",
       "      <td>0.0</td>\n",
       "      <td>1.0</td>\n",
       "      <td>0.0</td>\n",
       "      <td>0.0</td>\n",
       "      <td>0.0</td>\n",
       "      <td>0.0</td>\n",
       "      <td>0.0</td>\n",
       "      <td>0.0</td>\n",
       "      <td>1.0</td>\n",
       "      <td>0.0</td>\n",
       "      <td>...</td>\n",
       "      <td>0.0</td>\n",
       "      <td>0.0</td>\n",
       "      <td>0.0</td>\n",
       "      <td>0.093750</td>\n",
       "      <td>0.040771</td>\n",
       "      <td>0.219512</td>\n",
       "      <td>0.710145</td>\n",
       "      <td>0.410674</td>\n",
       "      <td>0.0</td>\n",
       "      <td>0.000000</td>\n",
       "    </tr>\n",
       "    <tr>\n",
       "      <th>...</th>\n",
       "      <td>...</td>\n",
       "      <td>...</td>\n",
       "      <td>...</td>\n",
       "      <td>...</td>\n",
       "      <td>...</td>\n",
       "      <td>...</td>\n",
       "      <td>...</td>\n",
       "      <td>...</td>\n",
       "      <td>...</td>\n",
       "      <td>...</td>\n",
       "      <td>...</td>\n",
       "      <td>...</td>\n",
       "      <td>...</td>\n",
       "      <td>...</td>\n",
       "      <td>...</td>\n",
       "      <td>...</td>\n",
       "      <td>...</td>\n",
       "      <td>...</td>\n",
       "      <td>...</td>\n",
       "      <td>...</td>\n",
       "      <td>...</td>\n",
       "    </tr>\n",
       "    <tr>\n",
       "      <th>28627</th>\n",
       "      <td>1.0</td>\n",
       "      <td>0.0</td>\n",
       "      <td>0.0</td>\n",
       "      <td>0.0</td>\n",
       "      <td>0.0</td>\n",
       "      <td>0.0</td>\n",
       "      <td>0.0</td>\n",
       "      <td>0.0</td>\n",
       "      <td>1.0</td>\n",
       "      <td>0.0</td>\n",
       "      <td>...</td>\n",
       "      <td>0.0</td>\n",
       "      <td>0.0</td>\n",
       "      <td>0.0</td>\n",
       "      <td>0.156250</td>\n",
       "      <td>0.025052</td>\n",
       "      <td>0.341463</td>\n",
       "      <td>0.443478</td>\n",
       "      <td>0.522472</td>\n",
       "      <td>0.0</td>\n",
       "      <td>0.250000</td>\n",
       "    </tr>\n",
       "    <tr>\n",
       "      <th>28628</th>\n",
       "      <td>0.0</td>\n",
       "      <td>1.0</td>\n",
       "      <td>0.0</td>\n",
       "      <td>0.0</td>\n",
       "      <td>0.0</td>\n",
       "      <td>0.0</td>\n",
       "      <td>0.0</td>\n",
       "      <td>1.0</td>\n",
       "      <td>0.0</td>\n",
       "      <td>0.0</td>\n",
       "      <td>...</td>\n",
       "      <td>0.0</td>\n",
       "      <td>0.0</td>\n",
       "      <td>0.0</td>\n",
       "      <td>0.171875</td>\n",
       "      <td>0.031439</td>\n",
       "      <td>0.365854</td>\n",
       "      <td>0.159420</td>\n",
       "      <td>0.310674</td>\n",
       "      <td>0.0</td>\n",
       "      <td>0.250000</td>\n",
       "    </tr>\n",
       "    <tr>\n",
       "      <th>28629</th>\n",
       "      <td>1.0</td>\n",
       "      <td>0.0</td>\n",
       "      <td>0.0</td>\n",
       "      <td>0.0</td>\n",
       "      <td>0.0</td>\n",
       "      <td>1.0</td>\n",
       "      <td>0.0</td>\n",
       "      <td>0.0</td>\n",
       "      <td>0.0</td>\n",
       "      <td>0.0</td>\n",
       "      <td>...</td>\n",
       "      <td>0.0</td>\n",
       "      <td>0.0</td>\n",
       "      <td>0.0</td>\n",
       "      <td>0.140625</td>\n",
       "      <td>0.044700</td>\n",
       "      <td>0.000000</td>\n",
       "      <td>0.159420</td>\n",
       "      <td>0.341011</td>\n",
       "      <td>0.0</td>\n",
       "      <td>0.178571</td>\n",
       "    </tr>\n",
       "    <tr>\n",
       "      <th>28630</th>\n",
       "      <td>0.0</td>\n",
       "      <td>1.0</td>\n",
       "      <td>0.0</td>\n",
       "      <td>0.0</td>\n",
       "      <td>1.0</td>\n",
       "      <td>0.0</td>\n",
       "      <td>0.0</td>\n",
       "      <td>0.0</td>\n",
       "      <td>0.0</td>\n",
       "      <td>0.0</td>\n",
       "      <td>...</td>\n",
       "      <td>0.0</td>\n",
       "      <td>0.0</td>\n",
       "      <td>0.0</td>\n",
       "      <td>0.203125</td>\n",
       "      <td>0.042244</td>\n",
       "      <td>0.121951</td>\n",
       "      <td>0.107246</td>\n",
       "      <td>0.197753</td>\n",
       "      <td>0.0</td>\n",
       "      <td>0.142857</td>\n",
       "    </tr>\n",
       "    <tr>\n",
       "      <th>28631</th>\n",
       "      <td>1.0</td>\n",
       "      <td>0.0</td>\n",
       "      <td>0.0</td>\n",
       "      <td>0.0</td>\n",
       "      <td>0.0</td>\n",
       "      <td>0.0</td>\n",
       "      <td>0.0</td>\n",
       "      <td>0.0</td>\n",
       "      <td>0.0</td>\n",
       "      <td>1.0</td>\n",
       "      <td>...</td>\n",
       "      <td>0.0</td>\n",
       "      <td>0.0</td>\n",
       "      <td>0.0</td>\n",
       "      <td>0.156250</td>\n",
       "      <td>0.022792</td>\n",
       "      <td>0.048780</td>\n",
       "      <td>0.202899</td>\n",
       "      <td>0.271348</td>\n",
       "      <td>0.0</td>\n",
       "      <td>0.178571</td>\n",
       "    </tr>\n",
       "  </tbody>\n",
       "</table>\n",
       "<p>28632 rows × 24 columns</p>\n",
       "</div>"
      ],
      "text/plain": [
       "       onehotencoder__SITUACAO_PROPRIEDADE_Alugada  \\\n",
       "0                                              1.0   \n",
       "1                                              1.0   \n",
       "2                                              1.0   \n",
       "3                                              1.0   \n",
       "4                                              0.0   \n",
       "...                                            ...   \n",
       "28627                                          1.0   \n",
       "28628                                          0.0   \n",
       "28629                                          1.0   \n",
       "28630                                          0.0   \n",
       "28631                                          1.0   \n",
       "\n",
       "       onehotencoder__SITUACAO_PROPRIEDADE_Hipotecada  \\\n",
       "0                                                 0.0   \n",
       "1                                                 0.0   \n",
       "2                                                 0.0   \n",
       "3                                                 0.0   \n",
       "4                                                 1.0   \n",
       "...                                               ...   \n",
       "28627                                             0.0   \n",
       "28628                                             1.0   \n",
       "28629                                             0.0   \n",
       "28630                                             1.0   \n",
       "28631                                             0.0   \n",
       "\n",
       "       onehotencoder__SITUACAO_PROPRIEDADE_Outros  \\\n",
       "0                                             0.0   \n",
       "1                                             0.0   \n",
       "2                                             0.0   \n",
       "3                                             0.0   \n",
       "4                                             0.0   \n",
       "...                                           ...   \n",
       "28627                                         0.0   \n",
       "28628                                         0.0   \n",
       "28629                                         0.0   \n",
       "28630                                         0.0   \n",
       "28631                                         0.0   \n",
       "\n",
       "       onehotencoder__SITUACAO_PROPRIEDADE_Própria  \\\n",
       "0                                              0.0   \n",
       "1                                              0.0   \n",
       "2                                              0.0   \n",
       "3                                              0.0   \n",
       "4                                              0.0   \n",
       "...                                            ...   \n",
       "28627                                          0.0   \n",
       "28628                                          0.0   \n",
       "28629                                          0.0   \n",
       "28630                                          0.0   \n",
       "28631                                          0.0   \n",
       "\n",
       "       onehotencoder__MOTIVO_EMPRESTIMO_Educativo  \\\n",
       "0                                             0.0   \n",
       "1                                             0.0   \n",
       "2                                             0.0   \n",
       "3                                             0.0   \n",
       "4                                             0.0   \n",
       "...                                           ...   \n",
       "28627                                         0.0   \n",
       "28628                                         0.0   \n",
       "28629                                         0.0   \n",
       "28630                                         1.0   \n",
       "28631                                         0.0   \n",
       "\n",
       "       onehotencoder__MOTIVO_EMPRESTIMO_Empreendimento  \\\n",
       "0                                                  0.0   \n",
       "1                                                  0.0   \n",
       "2                                                  1.0   \n",
       "3                                                  0.0   \n",
       "4                                                  0.0   \n",
       "...                                                ...   \n",
       "28627                                              0.0   \n",
       "28628                                              0.0   \n",
       "28629                                              1.0   \n",
       "28630                                              0.0   \n",
       "28631                                              0.0   \n",
       "\n",
       "       onehotencoder__MOTIVO_EMPRESTIMO_Melhora do lar  \\\n",
       "0                                                  0.0   \n",
       "1                                                  0.0   \n",
       "2                                                  0.0   \n",
       "3                                                  0.0   \n",
       "4                                                  0.0   \n",
       "...                                                ...   \n",
       "28627                                              0.0   \n",
       "28628                                              0.0   \n",
       "28629                                              0.0   \n",
       "28630                                              0.0   \n",
       "28631                                              0.0   \n",
       "\n",
       "       onehotencoder__MOTIVO_EMPRESTIMO_Médico  \\\n",
       "0                                          0.0   \n",
       "1                                          0.0   \n",
       "2                                          0.0   \n",
       "3                                          0.0   \n",
       "4                                          0.0   \n",
       "...                                        ...   \n",
       "28627                                      0.0   \n",
       "28628                                      1.0   \n",
       "28629                                      0.0   \n",
       "28630                                      0.0   \n",
       "28631                                      0.0   \n",
       "\n",
       "       onehotencoder__MOTIVO_EMPRESTIMO_Pagamento de débitos  \\\n",
       "0                                                    0.0       \n",
       "1                                                    0.0       \n",
       "2                                                    0.0       \n",
       "3                                                    1.0       \n",
       "4                                                    1.0       \n",
       "...                                                  ...       \n",
       "28627                                                1.0       \n",
       "28628                                                0.0       \n",
       "28629                                                0.0       \n",
       "28630                                                0.0       \n",
       "28631                                                0.0       \n",
       "\n",
       "       onehotencoder__MOTIVO_EMPRESTIMO_Pessoal  ...  \\\n",
       "0                                           1.0  ...   \n",
       "1                                           1.0  ...   \n",
       "2                                           0.0  ...   \n",
       "3                                           0.0  ...   \n",
       "4                                           0.0  ...   \n",
       "...                                         ...  ...   \n",
       "28627                                       0.0  ...   \n",
       "28628                                       0.0  ...   \n",
       "28629                                       0.0  ...   \n",
       "28630                                       0.0  ...   \n",
       "28631                                       1.0  ...   \n",
       "\n",
       "       onehotencoder__PONTUACAO_E  onehotencoder__PONTUACAO_F  \\\n",
       "0                             0.0                         0.0   \n",
       "1                             0.0                         0.0   \n",
       "2                             0.0                         0.0   \n",
       "3                             0.0                         0.0   \n",
       "4                             0.0                         0.0   \n",
       "...                           ...                         ...   \n",
       "28627                         0.0                         0.0   \n",
       "28628                         0.0                         0.0   \n",
       "28629                         0.0                         0.0   \n",
       "28630                         0.0                         0.0   \n",
       "28631                         0.0                         0.0   \n",
       "\n",
       "       onehotencoder__PONTUACAO_G  remainder__IDADE  \\\n",
       "0                             0.0          0.078125   \n",
       "1                             0.0          0.125000   \n",
       "2                             0.0          0.031250   \n",
       "3                             0.0          0.140625   \n",
       "4                             0.0          0.093750   \n",
       "...                           ...               ...   \n",
       "28627                         0.0          0.156250   \n",
       "28628                         0.0          0.171875   \n",
       "28629                         0.0          0.140625   \n",
       "28630                         0.0          0.203125   \n",
       "28631                         0.0          0.156250   \n",
       "\n",
       "       remainder__RENDIMENTO_ANUAL  remainder__ANOS_TRABALHADOS  \\\n",
       "0                         0.026535                     0.219512   \n",
       "1                         0.027999                     0.219512   \n",
       "2                         0.020140                     0.073171   \n",
       "3                         0.015228                     0.292683   \n",
       "4                         0.040771                     0.219512   \n",
       "...                            ...                          ...   \n",
       "28627                     0.025052                     0.341463   \n",
       "28628                     0.031439                     0.365854   \n",
       "28629                     0.044700                     0.000000   \n",
       "28630                     0.042244                     0.121951   \n",
       "28631                     0.022792                     0.048780   \n",
       "\n",
       "       remainder__VALOR_EMPRESTIMO  remainder__JUROS  \\\n",
       "0                         0.043478          0.083708   \n",
       "1                         0.710145          0.252247   \n",
       "2                         0.130435          0.393258   \n",
       "3                         0.037681          0.000000   \n",
       "4                         0.710145          0.410674   \n",
       "...                            ...               ...   \n",
       "28627                     0.443478          0.522472   \n",
       "28628                     0.159420          0.310674   \n",
       "28629                     0.159420          0.341011   \n",
       "28630                     0.107246          0.197753   \n",
       "28631                     0.202899          0.271348   \n",
       "\n",
       "       remainder__POSSIB_INADIMPLENCIA  remainder__ANOS_PRIMEIRO_CREDITO  \n",
       "0                                  0.0                          0.071429  \n",
       "1                                  1.0                          0.178571  \n",
       "2                                  0.0                          0.000000  \n",
       "3                                  0.0                          0.178571  \n",
       "4                                  0.0                          0.000000  \n",
       "...                                ...                               ...  \n",
       "28627                              0.0                          0.250000  \n",
       "28628                              0.0                          0.250000  \n",
       "28629                              0.0                          0.178571  \n",
       "28630                              0.0                          0.142857  \n",
       "28631                              0.0                          0.178571  \n",
       "\n",
       "[28632 rows x 24 columns]"
      ]
     },
     "execution_count": 401,
     "metadata": {},
     "output_type": "execute_result"
    }
   ],
   "source": [
    "dados2 = scaler.transform(dados2)\n",
    "dados2 = pd.DataFrame(dados2, columns = one_hot_enc.get_feature_names_out())\n",
    "dados2"
   ]
  },
  {
   "cell_type": "markdown",
   "metadata": {},
   "source": [
    "### Separação dos dados de teste e treino"
   ]
  },
  {
   "cell_type": "code",
   "execution_count": 402,
   "metadata": {},
   "outputs": [
    {
     "data": {
      "text/plain": [
       "20208    1.0\n",
       "126      0.0\n",
       "10353    1.0\n",
       "3544     0.0\n",
       "32962    0.0\n",
       "        ... \n",
       "25330    0.0\n",
       "22857    0.0\n",
       "14016    1.0\n",
       "22103    0.0\n",
       "19593    0.0\n",
       "Name: INADIMPLENTE, Length: 21474, dtype: float64"
      ]
     },
     "execution_count": 402,
     "metadata": {},
     "output_type": "execute_result"
    }
   ],
   "source": [
    "SEED = 144\n",
    "from sklearn.model_selection import train_test_split\n",
    "x_treino, x_teste, alvo_treino, alvo_teste = train_test_split(dados2, alvo, random_state = SEED, stratify = alvo)\n",
    "alvo_treino"
   ]
  },
  {
   "cell_type": "markdown",
   "metadata": {},
   "source": [
    "Modelo"
   ]
  },
  {
   "cell_type": "code",
   "execution_count": 403,
   "metadata": {},
   "outputs": [],
   "source": [
    "from sklearn.tree import DecisionTreeClassifier\n",
    "from sklearn.ensemble import GradientBoostingClassifier\n",
    "from sklearn.linear_model import LogisticRegression"
   ]
  },
  {
   "cell_type": "markdown",
   "metadata": {},
   "source": [
    "Métricas"
   ]
  },
  {
   "cell_type": "code",
   "execution_count": 404,
   "metadata": {},
   "outputs": [],
   "source": [
    "from sklearn.metrics import classification_report\n",
    "from sklearn.metrics import confusion_matrix, ConfusionMatrixDisplay\n",
    "import matplotlib.pyplot as plt\n",
    "import matplotlib.colors"
   ]
  },
  {
   "cell_type": "markdown",
   "metadata": {},
   "source": [
    "### Balanceamento na variável alvo"
   ]
  },
  {
   "cell_type": "markdown",
   "metadata": {},
   "source": [
    "O Oversampling consiste em criar sinteticamente novas observações da classe minoritária, com o objetivo de igualar a proporção das categorias."
   ]
  },
  {
   "cell_type": "code",
   "execution_count": 405,
   "metadata": {},
   "outputs": [
    {
     "data": {
      "text/html": [
       "<div>\n",
       "<style scoped>\n",
       "    .dataframe tbody tr th:only-of-type {\n",
       "        vertical-align: middle;\n",
       "    }\n",
       "\n",
       "    .dataframe tbody tr th {\n",
       "        vertical-align: top;\n",
       "    }\n",
       "\n",
       "    .dataframe thead th {\n",
       "        text-align: right;\n",
       "    }\n",
       "</style>\n",
       "<table border=\"1\" class=\"dataframe\">\n",
       "  <thead>\n",
       "    <tr style=\"text-align: right;\">\n",
       "      <th></th>\n",
       "      <th>onehotencoder__SITUACAO_PROPRIEDADE_Alugada</th>\n",
       "      <th>onehotencoder__SITUACAO_PROPRIEDADE_Hipotecada</th>\n",
       "      <th>onehotencoder__SITUACAO_PROPRIEDADE_Outros</th>\n",
       "      <th>onehotencoder__SITUACAO_PROPRIEDADE_Própria</th>\n",
       "      <th>onehotencoder__MOTIVO_EMPRESTIMO_Educativo</th>\n",
       "      <th>onehotencoder__MOTIVO_EMPRESTIMO_Empreendimento</th>\n",
       "      <th>onehotencoder__MOTIVO_EMPRESTIMO_Melhora do lar</th>\n",
       "      <th>onehotencoder__MOTIVO_EMPRESTIMO_Médico</th>\n",
       "      <th>onehotencoder__MOTIVO_EMPRESTIMO_Pagamento de débitos</th>\n",
       "      <th>onehotencoder__MOTIVO_EMPRESTIMO_Pessoal</th>\n",
       "      <th>...</th>\n",
       "      <th>onehotencoder__PONTUACAO_E</th>\n",
       "      <th>onehotencoder__PONTUACAO_F</th>\n",
       "      <th>onehotencoder__PONTUACAO_G</th>\n",
       "      <th>remainder__IDADE</th>\n",
       "      <th>remainder__RENDIMENTO_ANUAL</th>\n",
       "      <th>remainder__ANOS_TRABALHADOS</th>\n",
       "      <th>remainder__VALOR_EMPRESTIMO</th>\n",
       "      <th>remainder__JUROS</th>\n",
       "      <th>remainder__POSSIB_INADIMPLENCIA</th>\n",
       "      <th>remainder__ANOS_PRIMEIRO_CREDITO</th>\n",
       "    </tr>\n",
       "  </thead>\n",
       "  <tbody>\n",
       "    <tr>\n",
       "      <th>0</th>\n",
       "      <td>0.0</td>\n",
       "      <td>1.0</td>\n",
       "      <td>0.0</td>\n",
       "      <td>0.0</td>\n",
       "      <td>0.0</td>\n",
       "      <td>0.0</td>\n",
       "      <td>0.0</td>\n",
       "      <td>0.0</td>\n",
       "      <td>0.0</td>\n",
       "      <td>1.0</td>\n",
       "      <td>...</td>\n",
       "      <td>0.0</td>\n",
       "      <td>0.0</td>\n",
       "      <td>0.0</td>\n",
       "      <td>0.140625</td>\n",
       "      <td>0.031438</td>\n",
       "      <td>0.341463</td>\n",
       "      <td>0.420290</td>\n",
       "      <td>0.410674</td>\n",
       "      <td>0.0</td>\n",
       "      <td>0.142857</td>\n",
       "    </tr>\n",
       "    <tr>\n",
       "      <th>1</th>\n",
       "      <td>0.0</td>\n",
       "      <td>1.0</td>\n",
       "      <td>0.0</td>\n",
       "      <td>0.0</td>\n",
       "      <td>0.0</td>\n",
       "      <td>0.0</td>\n",
       "      <td>0.0</td>\n",
       "      <td>0.0</td>\n",
       "      <td>0.0</td>\n",
       "      <td>1.0</td>\n",
       "      <td>...</td>\n",
       "      <td>0.0</td>\n",
       "      <td>0.0</td>\n",
       "      <td>0.0</td>\n",
       "      <td>0.062500</td>\n",
       "      <td>0.038314</td>\n",
       "      <td>0.195122</td>\n",
       "      <td>0.159420</td>\n",
       "      <td>0.075281</td>\n",
       "      <td>0.0</td>\n",
       "      <td>0.035714</td>\n",
       "    </tr>\n",
       "    <tr>\n",
       "      <th>2</th>\n",
       "      <td>1.0</td>\n",
       "      <td>0.0</td>\n",
       "      <td>0.0</td>\n",
       "      <td>0.0</td>\n",
       "      <td>0.0</td>\n",
       "      <td>0.0</td>\n",
       "      <td>0.0</td>\n",
       "      <td>0.0</td>\n",
       "      <td>0.0</td>\n",
       "      <td>1.0</td>\n",
       "      <td>...</td>\n",
       "      <td>0.0</td>\n",
       "      <td>0.0</td>\n",
       "      <td>0.0</td>\n",
       "      <td>0.046875</td>\n",
       "      <td>0.020876</td>\n",
       "      <td>0.000000</td>\n",
       "      <td>0.275362</td>\n",
       "      <td>0.496629</td>\n",
       "      <td>1.0</td>\n",
       "      <td>0.035714</td>\n",
       "    </tr>\n",
       "    <tr>\n",
       "      <th>3</th>\n",
       "      <td>0.0</td>\n",
       "      <td>1.0</td>\n",
       "      <td>0.0</td>\n",
       "      <td>0.0</td>\n",
       "      <td>0.0</td>\n",
       "      <td>0.0</td>\n",
       "      <td>0.0</td>\n",
       "      <td>0.0</td>\n",
       "      <td>0.0</td>\n",
       "      <td>1.0</td>\n",
       "      <td>...</td>\n",
       "      <td>0.0</td>\n",
       "      <td>0.0</td>\n",
       "      <td>0.0</td>\n",
       "      <td>0.593750</td>\n",
       "      <td>0.381180</td>\n",
       "      <td>0.170732</td>\n",
       "      <td>0.115942</td>\n",
       "      <td>0.083708</td>\n",
       "      <td>0.0</td>\n",
       "      <td>0.642857</td>\n",
       "    </tr>\n",
       "    <tr>\n",
       "      <th>4</th>\n",
       "      <td>0.0</td>\n",
       "      <td>0.0</td>\n",
       "      <td>0.0</td>\n",
       "      <td>1.0</td>\n",
       "      <td>0.0</td>\n",
       "      <td>0.0</td>\n",
       "      <td>0.0</td>\n",
       "      <td>1.0</td>\n",
       "      <td>0.0</td>\n",
       "      <td>0.0</td>\n",
       "      <td>...</td>\n",
       "      <td>0.0</td>\n",
       "      <td>0.0</td>\n",
       "      <td>0.0</td>\n",
       "      <td>0.046875</td>\n",
       "      <td>0.019650</td>\n",
       "      <td>0.170732</td>\n",
       "      <td>0.478261</td>\n",
       "      <td>0.067416</td>\n",
       "      <td>0.0</td>\n",
       "      <td>0.000000</td>\n",
       "    </tr>\n",
       "    <tr>\n",
       "      <th>...</th>\n",
       "      <td>...</td>\n",
       "      <td>...</td>\n",
       "      <td>...</td>\n",
       "      <td>...</td>\n",
       "      <td>...</td>\n",
       "      <td>...</td>\n",
       "      <td>...</td>\n",
       "      <td>...</td>\n",
       "      <td>...</td>\n",
       "      <td>...</td>\n",
       "      <td>...</td>\n",
       "      <td>...</td>\n",
       "      <td>...</td>\n",
       "      <td>...</td>\n",
       "      <td>...</td>\n",
       "      <td>...</td>\n",
       "      <td>...</td>\n",
       "      <td>...</td>\n",
       "      <td>...</td>\n",
       "      <td>...</td>\n",
       "      <td>...</td>\n",
       "    </tr>\n",
       "    <tr>\n",
       "      <th>35291</th>\n",
       "      <td>1.0</td>\n",
       "      <td>0.0</td>\n",
       "      <td>0.0</td>\n",
       "      <td>0.0</td>\n",
       "      <td>1.0</td>\n",
       "      <td>0.0</td>\n",
       "      <td>0.0</td>\n",
       "      <td>0.0</td>\n",
       "      <td>0.0</td>\n",
       "      <td>0.0</td>\n",
       "      <td>...</td>\n",
       "      <td>0.0</td>\n",
       "      <td>0.0</td>\n",
       "      <td>0.0</td>\n",
       "      <td>0.052614</td>\n",
       "      <td>0.032893</td>\n",
       "      <td>0.115477</td>\n",
       "      <td>0.398999</td>\n",
       "      <td>0.452660</td>\n",
       "      <td>0.0</td>\n",
       "      <td>0.022598</td>\n",
       "    </tr>\n",
       "    <tr>\n",
       "      <th>35292</th>\n",
       "      <td>1.0</td>\n",
       "      <td>0.0</td>\n",
       "      <td>0.0</td>\n",
       "      <td>0.0</td>\n",
       "      <td>0.0</td>\n",
       "      <td>0.0</td>\n",
       "      <td>1.0</td>\n",
       "      <td>0.0</td>\n",
       "      <td>0.0</td>\n",
       "      <td>0.0</td>\n",
       "      <td>...</td>\n",
       "      <td>0.0</td>\n",
       "      <td>0.0</td>\n",
       "      <td>0.0</td>\n",
       "      <td>0.088735</td>\n",
       "      <td>0.056537</td>\n",
       "      <td>0.080999</td>\n",
       "      <td>0.275362</td>\n",
       "      <td>0.450425</td>\n",
       "      <td>0.0</td>\n",
       "      <td>0.035714</td>\n",
       "    </tr>\n",
       "    <tr>\n",
       "      <th>35293</th>\n",
       "      <td>1.0</td>\n",
       "      <td>0.0</td>\n",
       "      <td>0.0</td>\n",
       "      <td>0.0</td>\n",
       "      <td>0.0</td>\n",
       "      <td>0.0</td>\n",
       "      <td>0.0</td>\n",
       "      <td>0.0</td>\n",
       "      <td>0.0</td>\n",
       "      <td>1.0</td>\n",
       "      <td>...</td>\n",
       "      <td>0.0</td>\n",
       "      <td>0.0</td>\n",
       "      <td>0.0</td>\n",
       "      <td>0.232403</td>\n",
       "      <td>0.020824</td>\n",
       "      <td>0.083844</td>\n",
       "      <td>0.068488</td>\n",
       "      <td>0.574645</td>\n",
       "      <td>0.0</td>\n",
       "      <td>0.310259</td>\n",
       "    </tr>\n",
       "    <tr>\n",
       "      <th>35294</th>\n",
       "      <td>1.0</td>\n",
       "      <td>0.0</td>\n",
       "      <td>0.0</td>\n",
       "      <td>0.0</td>\n",
       "      <td>0.0</td>\n",
       "      <td>0.0</td>\n",
       "      <td>0.0</td>\n",
       "      <td>0.0</td>\n",
       "      <td>1.0</td>\n",
       "      <td>0.0</td>\n",
       "      <td>...</td>\n",
       "      <td>0.0</td>\n",
       "      <td>0.0</td>\n",
       "      <td>0.0</td>\n",
       "      <td>0.078125</td>\n",
       "      <td>0.020984</td>\n",
       "      <td>0.203926</td>\n",
       "      <td>0.363520</td>\n",
       "      <td>0.512439</td>\n",
       "      <td>1.0</td>\n",
       "      <td>0.045646</td>\n",
       "    </tr>\n",
       "    <tr>\n",
       "      <th>35295</th>\n",
       "      <td>0.0</td>\n",
       "      <td>1.0</td>\n",
       "      <td>0.0</td>\n",
       "      <td>0.0</td>\n",
       "      <td>0.0</td>\n",
       "      <td>0.0</td>\n",
       "      <td>0.0</td>\n",
       "      <td>0.0</td>\n",
       "      <td>1.0</td>\n",
       "      <td>0.0</td>\n",
       "      <td>...</td>\n",
       "      <td>0.0</td>\n",
       "      <td>0.0</td>\n",
       "      <td>0.0</td>\n",
       "      <td>0.140625</td>\n",
       "      <td>0.017724</td>\n",
       "      <td>0.198146</td>\n",
       "      <td>0.160019</td>\n",
       "      <td>0.593941</td>\n",
       "      <td>1.0</td>\n",
       "      <td>0.254427</td>\n",
       "    </tr>\n",
       "  </tbody>\n",
       "</table>\n",
       "<p>35296 rows × 24 columns</p>\n",
       "</div>"
      ],
      "text/plain": [
       "       onehotencoder__SITUACAO_PROPRIEDADE_Alugada  \\\n",
       "0                                              0.0   \n",
       "1                                              0.0   \n",
       "2                                              1.0   \n",
       "3                                              0.0   \n",
       "4                                              0.0   \n",
       "...                                            ...   \n",
       "35291                                          1.0   \n",
       "35292                                          1.0   \n",
       "35293                                          1.0   \n",
       "35294                                          1.0   \n",
       "35295                                          0.0   \n",
       "\n",
       "       onehotencoder__SITUACAO_PROPRIEDADE_Hipotecada  \\\n",
       "0                                                 1.0   \n",
       "1                                                 1.0   \n",
       "2                                                 0.0   \n",
       "3                                                 1.0   \n",
       "4                                                 0.0   \n",
       "...                                               ...   \n",
       "35291                                             0.0   \n",
       "35292                                             0.0   \n",
       "35293                                             0.0   \n",
       "35294                                             0.0   \n",
       "35295                                             1.0   \n",
       "\n",
       "       onehotencoder__SITUACAO_PROPRIEDADE_Outros  \\\n",
       "0                                             0.0   \n",
       "1                                             0.0   \n",
       "2                                             0.0   \n",
       "3                                             0.0   \n",
       "4                                             0.0   \n",
       "...                                           ...   \n",
       "35291                                         0.0   \n",
       "35292                                         0.0   \n",
       "35293                                         0.0   \n",
       "35294                                         0.0   \n",
       "35295                                         0.0   \n",
       "\n",
       "       onehotencoder__SITUACAO_PROPRIEDADE_Própria  \\\n",
       "0                                              0.0   \n",
       "1                                              0.0   \n",
       "2                                              0.0   \n",
       "3                                              0.0   \n",
       "4                                              1.0   \n",
       "...                                            ...   \n",
       "35291                                          0.0   \n",
       "35292                                          0.0   \n",
       "35293                                          0.0   \n",
       "35294                                          0.0   \n",
       "35295                                          0.0   \n",
       "\n",
       "       onehotencoder__MOTIVO_EMPRESTIMO_Educativo  \\\n",
       "0                                             0.0   \n",
       "1                                             0.0   \n",
       "2                                             0.0   \n",
       "3                                             0.0   \n",
       "4                                             0.0   \n",
       "...                                           ...   \n",
       "35291                                         1.0   \n",
       "35292                                         0.0   \n",
       "35293                                         0.0   \n",
       "35294                                         0.0   \n",
       "35295                                         0.0   \n",
       "\n",
       "       onehotencoder__MOTIVO_EMPRESTIMO_Empreendimento  \\\n",
       "0                                                  0.0   \n",
       "1                                                  0.0   \n",
       "2                                                  0.0   \n",
       "3                                                  0.0   \n",
       "4                                                  0.0   \n",
       "...                                                ...   \n",
       "35291                                              0.0   \n",
       "35292                                              0.0   \n",
       "35293                                              0.0   \n",
       "35294                                              0.0   \n",
       "35295                                              0.0   \n",
       "\n",
       "       onehotencoder__MOTIVO_EMPRESTIMO_Melhora do lar  \\\n",
       "0                                                  0.0   \n",
       "1                                                  0.0   \n",
       "2                                                  0.0   \n",
       "3                                                  0.0   \n",
       "4                                                  0.0   \n",
       "...                                                ...   \n",
       "35291                                              0.0   \n",
       "35292                                              1.0   \n",
       "35293                                              0.0   \n",
       "35294                                              0.0   \n",
       "35295                                              0.0   \n",
       "\n",
       "       onehotencoder__MOTIVO_EMPRESTIMO_Médico  \\\n",
       "0                                          0.0   \n",
       "1                                          0.0   \n",
       "2                                          0.0   \n",
       "3                                          0.0   \n",
       "4                                          1.0   \n",
       "...                                        ...   \n",
       "35291                                      0.0   \n",
       "35292                                      0.0   \n",
       "35293                                      0.0   \n",
       "35294                                      0.0   \n",
       "35295                                      0.0   \n",
       "\n",
       "       onehotencoder__MOTIVO_EMPRESTIMO_Pagamento de débitos  \\\n",
       "0                                                    0.0       \n",
       "1                                                    0.0       \n",
       "2                                                    0.0       \n",
       "3                                                    0.0       \n",
       "4                                                    0.0       \n",
       "...                                                  ...       \n",
       "35291                                                0.0       \n",
       "35292                                                0.0       \n",
       "35293                                                0.0       \n",
       "35294                                                1.0       \n",
       "35295                                                1.0       \n",
       "\n",
       "       onehotencoder__MOTIVO_EMPRESTIMO_Pessoal  ...  \\\n",
       "0                                           1.0  ...   \n",
       "1                                           1.0  ...   \n",
       "2                                           1.0  ...   \n",
       "3                                           1.0  ...   \n",
       "4                                           0.0  ...   \n",
       "...                                         ...  ...   \n",
       "35291                                       0.0  ...   \n",
       "35292                                       0.0  ...   \n",
       "35293                                       1.0  ...   \n",
       "35294                                       0.0  ...   \n",
       "35295                                       0.0  ...   \n",
       "\n",
       "       onehotencoder__PONTUACAO_E  onehotencoder__PONTUACAO_F  \\\n",
       "0                             0.0                         0.0   \n",
       "1                             0.0                         0.0   \n",
       "2                             0.0                         0.0   \n",
       "3                             0.0                         0.0   \n",
       "4                             0.0                         0.0   \n",
       "...                           ...                         ...   \n",
       "35291                         0.0                         0.0   \n",
       "35292                         0.0                         0.0   \n",
       "35293                         0.0                         0.0   \n",
       "35294                         0.0                         0.0   \n",
       "35295                         0.0                         0.0   \n",
       "\n",
       "       onehotencoder__PONTUACAO_G  remainder__IDADE  \\\n",
       "0                             0.0          0.140625   \n",
       "1                             0.0          0.062500   \n",
       "2                             0.0          0.046875   \n",
       "3                             0.0          0.593750   \n",
       "4                             0.0          0.046875   \n",
       "...                           ...               ...   \n",
       "35291                         0.0          0.052614   \n",
       "35292                         0.0          0.088735   \n",
       "35293                         0.0          0.232403   \n",
       "35294                         0.0          0.078125   \n",
       "35295                         0.0          0.140625   \n",
       "\n",
       "       remainder__RENDIMENTO_ANUAL  remainder__ANOS_TRABALHADOS  \\\n",
       "0                         0.031438                     0.341463   \n",
       "1                         0.038314                     0.195122   \n",
       "2                         0.020876                     0.000000   \n",
       "3                         0.381180                     0.170732   \n",
       "4                         0.019650                     0.170732   \n",
       "...                            ...                          ...   \n",
       "35291                     0.032893                     0.115477   \n",
       "35292                     0.056537                     0.080999   \n",
       "35293                     0.020824                     0.083844   \n",
       "35294                     0.020984                     0.203926   \n",
       "35295                     0.017724                     0.198146   \n",
       "\n",
       "       remainder__VALOR_EMPRESTIMO  remainder__JUROS  \\\n",
       "0                         0.420290          0.410674   \n",
       "1                         0.159420          0.075281   \n",
       "2                         0.275362          0.496629   \n",
       "3                         0.115942          0.083708   \n",
       "4                         0.478261          0.067416   \n",
       "...                            ...               ...   \n",
       "35291                     0.398999          0.452660   \n",
       "35292                     0.275362          0.450425   \n",
       "35293                     0.068488          0.574645   \n",
       "35294                     0.363520          0.512439   \n",
       "35295                     0.160019          0.593941   \n",
       "\n",
       "       remainder__POSSIB_INADIMPLENCIA  remainder__ANOS_PRIMEIRO_CREDITO  \n",
       "0                                  0.0                          0.142857  \n",
       "1                                  0.0                          0.035714  \n",
       "2                                  1.0                          0.035714  \n",
       "3                                  0.0                          0.642857  \n",
       "4                                  0.0                          0.000000  \n",
       "...                                ...                               ...  \n",
       "35291                              0.0                          0.022598  \n",
       "35292                              0.0                          0.035714  \n",
       "35293                              0.0                          0.310259  \n",
       "35294                              1.0                          0.045646  \n",
       "35295                              1.0                          0.254427  \n",
       "\n",
       "[35296 rows x 24 columns]"
      ]
     },
     "execution_count": 405,
     "metadata": {},
     "output_type": "execute_result"
    }
   ],
   "source": [
    "from imblearn.over_sampling import SMOTE\n",
    "smote = SMOTE(random_state = SEED)\n",
    "X_balanceado_over, alvo_balanceado_over = smote.fit_resample(x_treino, alvo_treino)\n",
    "X_balanceado_over"
   ]
  },
  {
   "cell_type": "markdown",
   "metadata": {},
   "source": [
    "O undersampling remova aleatoriamente registros da classe mais frequente, igualando a quantidade de registros das duas classes."
   ]
  },
  {
   "cell_type": "code",
   "execution_count": 406,
   "metadata": {},
   "outputs": [
    {
     "data": {
      "text/html": [
       "<div>\n",
       "<style scoped>\n",
       "    .dataframe tbody tr th:only-of-type {\n",
       "        vertical-align: middle;\n",
       "    }\n",
       "\n",
       "    .dataframe tbody tr th {\n",
       "        vertical-align: top;\n",
       "    }\n",
       "\n",
       "    .dataframe thead th {\n",
       "        text-align: right;\n",
       "    }\n",
       "</style>\n",
       "<table border=\"1\" class=\"dataframe\">\n",
       "  <thead>\n",
       "    <tr style=\"text-align: right;\">\n",
       "      <th></th>\n",
       "      <th>onehotencoder__SITUACAO_PROPRIEDADE_Alugada</th>\n",
       "      <th>onehotencoder__SITUACAO_PROPRIEDADE_Hipotecada</th>\n",
       "      <th>onehotencoder__SITUACAO_PROPRIEDADE_Outros</th>\n",
       "      <th>onehotencoder__SITUACAO_PROPRIEDADE_Própria</th>\n",
       "      <th>onehotencoder__MOTIVO_EMPRESTIMO_Educativo</th>\n",
       "      <th>onehotencoder__MOTIVO_EMPRESTIMO_Empreendimento</th>\n",
       "      <th>onehotencoder__MOTIVO_EMPRESTIMO_Melhora do lar</th>\n",
       "      <th>onehotencoder__MOTIVO_EMPRESTIMO_Médico</th>\n",
       "      <th>onehotencoder__MOTIVO_EMPRESTIMO_Pagamento de débitos</th>\n",
       "      <th>onehotencoder__MOTIVO_EMPRESTIMO_Pessoal</th>\n",
       "      <th>...</th>\n",
       "      <th>onehotencoder__PONTUACAO_E</th>\n",
       "      <th>onehotencoder__PONTUACAO_F</th>\n",
       "      <th>onehotencoder__PONTUACAO_G</th>\n",
       "      <th>remainder__IDADE</th>\n",
       "      <th>remainder__RENDIMENTO_ANUAL</th>\n",
       "      <th>remainder__ANOS_TRABALHADOS</th>\n",
       "      <th>remainder__VALOR_EMPRESTIMO</th>\n",
       "      <th>remainder__JUROS</th>\n",
       "      <th>remainder__POSSIB_INADIMPLENCIA</th>\n",
       "      <th>remainder__ANOS_PRIMEIRO_CREDITO</th>\n",
       "    </tr>\n",
       "  </thead>\n",
       "  <tbody>\n",
       "    <tr>\n",
       "      <th>0</th>\n",
       "      <td>1.0</td>\n",
       "      <td>0.0</td>\n",
       "      <td>0.0</td>\n",
       "      <td>0.0</td>\n",
       "      <td>0.0</td>\n",
       "      <td>0.0</td>\n",
       "      <td>1.0</td>\n",
       "      <td>0.0</td>\n",
       "      <td>0.0</td>\n",
       "      <td>0.0</td>\n",
       "      <td>...</td>\n",
       "      <td>0.0</td>\n",
       "      <td>0.0</td>\n",
       "      <td>0.0</td>\n",
       "      <td>0.218750</td>\n",
       "      <td>0.012771</td>\n",
       "      <td>0.048780</td>\n",
       "      <td>0.419565</td>\n",
       "      <td>0.399438</td>\n",
       "      <td>1.0</td>\n",
       "      <td>0.285714</td>\n",
       "    </tr>\n",
       "    <tr>\n",
       "      <th>1</th>\n",
       "      <td>0.0</td>\n",
       "      <td>0.0</td>\n",
       "      <td>0.0</td>\n",
       "      <td>1.0</td>\n",
       "      <td>0.0</td>\n",
       "      <td>0.0</td>\n",
       "      <td>0.0</td>\n",
       "      <td>1.0</td>\n",
       "      <td>0.0</td>\n",
       "      <td>0.0</td>\n",
       "      <td>...</td>\n",
       "      <td>0.0</td>\n",
       "      <td>0.0</td>\n",
       "      <td>0.0</td>\n",
       "      <td>0.312500</td>\n",
       "      <td>0.044700</td>\n",
       "      <td>0.292683</td>\n",
       "      <td>0.130435</td>\n",
       "      <td>0.293820</td>\n",
       "      <td>0.0</td>\n",
       "      <td>0.321429</td>\n",
       "    </tr>\n",
       "    <tr>\n",
       "      <th>2</th>\n",
       "      <td>0.0</td>\n",
       "      <td>1.0</td>\n",
       "      <td>0.0</td>\n",
       "      <td>0.0</td>\n",
       "      <td>1.0</td>\n",
       "      <td>0.0</td>\n",
       "      <td>0.0</td>\n",
       "      <td>0.0</td>\n",
       "      <td>0.0</td>\n",
       "      <td>0.0</td>\n",
       "      <td>...</td>\n",
       "      <td>0.0</td>\n",
       "      <td>0.0</td>\n",
       "      <td>0.0</td>\n",
       "      <td>0.125000</td>\n",
       "      <td>0.037612</td>\n",
       "      <td>0.048780</td>\n",
       "      <td>0.101449</td>\n",
       "      <td>0.236517</td>\n",
       "      <td>0.0</td>\n",
       "      <td>0.178571</td>\n",
       "    </tr>\n",
       "    <tr>\n",
       "      <th>3</th>\n",
       "      <td>1.0</td>\n",
       "      <td>0.0</td>\n",
       "      <td>0.0</td>\n",
       "      <td>0.0</td>\n",
       "      <td>0.0</td>\n",
       "      <td>0.0</td>\n",
       "      <td>1.0</td>\n",
       "      <td>0.0</td>\n",
       "      <td>0.0</td>\n",
       "      <td>0.0</td>\n",
       "      <td>...</td>\n",
       "      <td>0.0</td>\n",
       "      <td>0.0</td>\n",
       "      <td>0.0</td>\n",
       "      <td>0.093750</td>\n",
       "      <td>0.058209</td>\n",
       "      <td>0.024390</td>\n",
       "      <td>0.275362</td>\n",
       "      <td>0.293820</td>\n",
       "      <td>0.0</td>\n",
       "      <td>0.000000</td>\n",
       "    </tr>\n",
       "    <tr>\n",
       "      <th>4</th>\n",
       "      <td>1.0</td>\n",
       "      <td>0.0</td>\n",
       "      <td>0.0</td>\n",
       "      <td>0.0</td>\n",
       "      <td>1.0</td>\n",
       "      <td>0.0</td>\n",
       "      <td>0.0</td>\n",
       "      <td>0.0</td>\n",
       "      <td>0.0</td>\n",
       "      <td>0.0</td>\n",
       "      <td>...</td>\n",
       "      <td>1.0</td>\n",
       "      <td>0.0</td>\n",
       "      <td>0.0</td>\n",
       "      <td>0.078125</td>\n",
       "      <td>0.018666</td>\n",
       "      <td>0.000000</td>\n",
       "      <td>0.200000</td>\n",
       "      <td>0.612360</td>\n",
       "      <td>1.0</td>\n",
       "      <td>0.071429</td>\n",
       "    </tr>\n",
       "    <tr>\n",
       "      <th>...</th>\n",
       "      <td>...</td>\n",
       "      <td>...</td>\n",
       "      <td>...</td>\n",
       "      <td>...</td>\n",
       "      <td>...</td>\n",
       "      <td>...</td>\n",
       "      <td>...</td>\n",
       "      <td>...</td>\n",
       "      <td>...</td>\n",
       "      <td>...</td>\n",
       "      <td>...</td>\n",
       "      <td>...</td>\n",
       "      <td>...</td>\n",
       "      <td>...</td>\n",
       "      <td>...</td>\n",
       "      <td>...</td>\n",
       "      <td>...</td>\n",
       "      <td>...</td>\n",
       "      <td>...</td>\n",
       "      <td>...</td>\n",
       "      <td>...</td>\n",
       "    </tr>\n",
       "    <tr>\n",
       "      <th>11473</th>\n",
       "      <td>1.0</td>\n",
       "      <td>0.0</td>\n",
       "      <td>0.0</td>\n",
       "      <td>0.0</td>\n",
       "      <td>0.0</td>\n",
       "      <td>0.0</td>\n",
       "      <td>0.0</td>\n",
       "      <td>0.0</td>\n",
       "      <td>1.0</td>\n",
       "      <td>0.0</td>\n",
       "      <td>...</td>\n",
       "      <td>0.0</td>\n",
       "      <td>0.0</td>\n",
       "      <td>0.0</td>\n",
       "      <td>0.125000</td>\n",
       "      <td>0.013754</td>\n",
       "      <td>0.000000</td>\n",
       "      <td>0.144928</td>\n",
       "      <td>0.592135</td>\n",
       "      <td>0.0</td>\n",
       "      <td>0.214286</td>\n",
       "    </tr>\n",
       "    <tr>\n",
       "      <th>11474</th>\n",
       "      <td>1.0</td>\n",
       "      <td>0.0</td>\n",
       "      <td>0.0</td>\n",
       "      <td>0.0</td>\n",
       "      <td>0.0</td>\n",
       "      <td>0.0</td>\n",
       "      <td>0.0</td>\n",
       "      <td>1.0</td>\n",
       "      <td>0.0</td>\n",
       "      <td>0.0</td>\n",
       "      <td>...</td>\n",
       "      <td>0.0</td>\n",
       "      <td>0.0</td>\n",
       "      <td>0.0</td>\n",
       "      <td>0.109375</td>\n",
       "      <td>0.012182</td>\n",
       "      <td>0.146341</td>\n",
       "      <td>0.130435</td>\n",
       "      <td>0.535955</td>\n",
       "      <td>0.0</td>\n",
       "      <td>0.107143</td>\n",
       "    </tr>\n",
       "    <tr>\n",
       "      <th>11475</th>\n",
       "      <td>0.0</td>\n",
       "      <td>1.0</td>\n",
       "      <td>0.0</td>\n",
       "      <td>0.0</td>\n",
       "      <td>1.0</td>\n",
       "      <td>0.0</td>\n",
       "      <td>0.0</td>\n",
       "      <td>0.0</td>\n",
       "      <td>0.0</td>\n",
       "      <td>0.0</td>\n",
       "      <td>...</td>\n",
       "      <td>0.0</td>\n",
       "      <td>0.0</td>\n",
       "      <td>0.0</td>\n",
       "      <td>0.046875</td>\n",
       "      <td>0.029964</td>\n",
       "      <td>0.000000</td>\n",
       "      <td>0.231884</td>\n",
       "      <td>0.551124</td>\n",
       "      <td>0.0</td>\n",
       "      <td>0.035714</td>\n",
       "    </tr>\n",
       "    <tr>\n",
       "      <th>11476</th>\n",
       "      <td>1.0</td>\n",
       "      <td>0.0</td>\n",
       "      <td>0.0</td>\n",
       "      <td>0.0</td>\n",
       "      <td>0.0</td>\n",
       "      <td>0.0</td>\n",
       "      <td>0.0</td>\n",
       "      <td>0.0</td>\n",
       "      <td>1.0</td>\n",
       "      <td>0.0</td>\n",
       "      <td>...</td>\n",
       "      <td>0.0</td>\n",
       "      <td>0.0</td>\n",
       "      <td>0.0</td>\n",
       "      <td>0.031250</td>\n",
       "      <td>0.020631</td>\n",
       "      <td>0.048780</td>\n",
       "      <td>0.565217</td>\n",
       "      <td>0.594382</td>\n",
       "      <td>1.0</td>\n",
       "      <td>0.071429</td>\n",
       "    </tr>\n",
       "    <tr>\n",
       "      <th>11477</th>\n",
       "      <td>1.0</td>\n",
       "      <td>0.0</td>\n",
       "      <td>0.0</td>\n",
       "      <td>0.0</td>\n",
       "      <td>1.0</td>\n",
       "      <td>0.0</td>\n",
       "      <td>0.0</td>\n",
       "      <td>0.0</td>\n",
       "      <td>0.0</td>\n",
       "      <td>0.0</td>\n",
       "      <td>...</td>\n",
       "      <td>1.0</td>\n",
       "      <td>0.0</td>\n",
       "      <td>0.0</td>\n",
       "      <td>0.046875</td>\n",
       "      <td>0.018666</td>\n",
       "      <td>0.121951</td>\n",
       "      <td>0.072464</td>\n",
       "      <td>0.702809</td>\n",
       "      <td>0.0</td>\n",
       "      <td>0.000000</td>\n",
       "    </tr>\n",
       "  </tbody>\n",
       "</table>\n",
       "<p>11478 rows × 24 columns</p>\n",
       "</div>"
      ],
      "text/plain": [
       "       onehotencoder__SITUACAO_PROPRIEDADE_Alugada  \\\n",
       "0                                              1.0   \n",
       "1                                              0.0   \n",
       "2                                              0.0   \n",
       "3                                              1.0   \n",
       "4                                              1.0   \n",
       "...                                            ...   \n",
       "11473                                          1.0   \n",
       "11474                                          1.0   \n",
       "11475                                          0.0   \n",
       "11476                                          1.0   \n",
       "11477                                          1.0   \n",
       "\n",
       "       onehotencoder__SITUACAO_PROPRIEDADE_Hipotecada  \\\n",
       "0                                                 0.0   \n",
       "1                                                 0.0   \n",
       "2                                                 1.0   \n",
       "3                                                 0.0   \n",
       "4                                                 0.0   \n",
       "...                                               ...   \n",
       "11473                                             0.0   \n",
       "11474                                             0.0   \n",
       "11475                                             1.0   \n",
       "11476                                             0.0   \n",
       "11477                                             0.0   \n",
       "\n",
       "       onehotencoder__SITUACAO_PROPRIEDADE_Outros  \\\n",
       "0                                             0.0   \n",
       "1                                             0.0   \n",
       "2                                             0.0   \n",
       "3                                             0.0   \n",
       "4                                             0.0   \n",
       "...                                           ...   \n",
       "11473                                         0.0   \n",
       "11474                                         0.0   \n",
       "11475                                         0.0   \n",
       "11476                                         0.0   \n",
       "11477                                         0.0   \n",
       "\n",
       "       onehotencoder__SITUACAO_PROPRIEDADE_Própria  \\\n",
       "0                                              0.0   \n",
       "1                                              1.0   \n",
       "2                                              0.0   \n",
       "3                                              0.0   \n",
       "4                                              0.0   \n",
       "...                                            ...   \n",
       "11473                                          0.0   \n",
       "11474                                          0.0   \n",
       "11475                                          0.0   \n",
       "11476                                          0.0   \n",
       "11477                                          0.0   \n",
       "\n",
       "       onehotencoder__MOTIVO_EMPRESTIMO_Educativo  \\\n",
       "0                                             0.0   \n",
       "1                                             0.0   \n",
       "2                                             1.0   \n",
       "3                                             0.0   \n",
       "4                                             1.0   \n",
       "...                                           ...   \n",
       "11473                                         0.0   \n",
       "11474                                         0.0   \n",
       "11475                                         1.0   \n",
       "11476                                         0.0   \n",
       "11477                                         1.0   \n",
       "\n",
       "       onehotencoder__MOTIVO_EMPRESTIMO_Empreendimento  \\\n",
       "0                                                  0.0   \n",
       "1                                                  0.0   \n",
       "2                                                  0.0   \n",
       "3                                                  0.0   \n",
       "4                                                  0.0   \n",
       "...                                                ...   \n",
       "11473                                              0.0   \n",
       "11474                                              0.0   \n",
       "11475                                              0.0   \n",
       "11476                                              0.0   \n",
       "11477                                              0.0   \n",
       "\n",
       "       onehotencoder__MOTIVO_EMPRESTIMO_Melhora do lar  \\\n",
       "0                                                  1.0   \n",
       "1                                                  0.0   \n",
       "2                                                  0.0   \n",
       "3                                                  1.0   \n",
       "4                                                  0.0   \n",
       "...                                                ...   \n",
       "11473                                              0.0   \n",
       "11474                                              0.0   \n",
       "11475                                              0.0   \n",
       "11476                                              0.0   \n",
       "11477                                              0.0   \n",
       "\n",
       "       onehotencoder__MOTIVO_EMPRESTIMO_Médico  \\\n",
       "0                                          0.0   \n",
       "1                                          1.0   \n",
       "2                                          0.0   \n",
       "3                                          0.0   \n",
       "4                                          0.0   \n",
       "...                                        ...   \n",
       "11473                                      0.0   \n",
       "11474                                      1.0   \n",
       "11475                                      0.0   \n",
       "11476                                      0.0   \n",
       "11477                                      0.0   \n",
       "\n",
       "       onehotencoder__MOTIVO_EMPRESTIMO_Pagamento de débitos  \\\n",
       "0                                                    0.0       \n",
       "1                                                    0.0       \n",
       "2                                                    0.0       \n",
       "3                                                    0.0       \n",
       "4                                                    0.0       \n",
       "...                                                  ...       \n",
       "11473                                                1.0       \n",
       "11474                                                0.0       \n",
       "11475                                                0.0       \n",
       "11476                                                1.0       \n",
       "11477                                                0.0       \n",
       "\n",
       "       onehotencoder__MOTIVO_EMPRESTIMO_Pessoal  ...  \\\n",
       "0                                           0.0  ...   \n",
       "1                                           0.0  ...   \n",
       "2                                           0.0  ...   \n",
       "3                                           0.0  ...   \n",
       "4                                           0.0  ...   \n",
       "...                                         ...  ...   \n",
       "11473                                       0.0  ...   \n",
       "11474                                       0.0  ...   \n",
       "11475                                       0.0  ...   \n",
       "11476                                       0.0  ...   \n",
       "11477                                       0.0  ...   \n",
       "\n",
       "       onehotencoder__PONTUACAO_E  onehotencoder__PONTUACAO_F  \\\n",
       "0                             0.0                         0.0   \n",
       "1                             0.0                         0.0   \n",
       "2                             0.0                         0.0   \n",
       "3                             0.0                         0.0   \n",
       "4                             1.0                         0.0   \n",
       "...                           ...                         ...   \n",
       "11473                         0.0                         0.0   \n",
       "11474                         0.0                         0.0   \n",
       "11475                         0.0                         0.0   \n",
       "11476                         0.0                         0.0   \n",
       "11477                         1.0                         0.0   \n",
       "\n",
       "       onehotencoder__PONTUACAO_G  remainder__IDADE  \\\n",
       "0                             0.0          0.218750   \n",
       "1                             0.0          0.312500   \n",
       "2                             0.0          0.125000   \n",
       "3                             0.0          0.093750   \n",
       "4                             0.0          0.078125   \n",
       "...                           ...               ...   \n",
       "11473                         0.0          0.125000   \n",
       "11474                         0.0          0.109375   \n",
       "11475                         0.0          0.046875   \n",
       "11476                         0.0          0.031250   \n",
       "11477                         0.0          0.046875   \n",
       "\n",
       "       remainder__RENDIMENTO_ANUAL  remainder__ANOS_TRABALHADOS  \\\n",
       "0                         0.012771                     0.048780   \n",
       "1                         0.044700                     0.292683   \n",
       "2                         0.037612                     0.048780   \n",
       "3                         0.058209                     0.024390   \n",
       "4                         0.018666                     0.000000   \n",
       "...                            ...                          ...   \n",
       "11473                     0.013754                     0.000000   \n",
       "11474                     0.012182                     0.146341   \n",
       "11475                     0.029964                     0.000000   \n",
       "11476                     0.020631                     0.048780   \n",
       "11477                     0.018666                     0.121951   \n",
       "\n",
       "       remainder__VALOR_EMPRESTIMO  remainder__JUROS  \\\n",
       "0                         0.419565          0.399438   \n",
       "1                         0.130435          0.293820   \n",
       "2                         0.101449          0.236517   \n",
       "3                         0.275362          0.293820   \n",
       "4                         0.200000          0.612360   \n",
       "...                            ...               ...   \n",
       "11473                     0.144928          0.592135   \n",
       "11474                     0.130435          0.535955   \n",
       "11475                     0.231884          0.551124   \n",
       "11476                     0.565217          0.594382   \n",
       "11477                     0.072464          0.702809   \n",
       "\n",
       "       remainder__POSSIB_INADIMPLENCIA  remainder__ANOS_PRIMEIRO_CREDITO  \n",
       "0                                  1.0                          0.285714  \n",
       "1                                  0.0                          0.321429  \n",
       "2                                  0.0                          0.178571  \n",
       "3                                  0.0                          0.000000  \n",
       "4                                  1.0                          0.071429  \n",
       "...                                ...                               ...  \n",
       "11473                              0.0                          0.214286  \n",
       "11474                              0.0                          0.107143  \n",
       "11475                              0.0                          0.035714  \n",
       "11476                              1.0                          0.071429  \n",
       "11477                              0.0                          0.000000  \n",
       "\n",
       "[11478 rows x 24 columns]"
      ]
     },
     "execution_count": 406,
     "metadata": {},
     "output_type": "execute_result"
    }
   ],
   "source": [
    "from imblearn.under_sampling import RandomUnderSampler\n",
    "under = RandomUnderSampler(random_state=SEED,sampling_strategy=0.5)\n",
    "X_balanceado_under, alvo_balanceado_under = under.fit_resample(x_treino, alvo_treino)\n",
    "X_balanceado_under"
   ]
  },
  {
   "cell_type": "markdown",
   "metadata": {},
   "source": [
    "### Modelos"
   ]
  },
  {
   "cell_type": "markdown",
   "metadata": {},
   "source": [
    "#### SVM (Oversampling)"
   ]
  },
  {
   "cell_type": "code",
   "execution_count": 407,
   "metadata": {},
   "outputs": [],
   "source": [
    "from sklearn import svm #Support Vector Machine\n",
    "from sklearn.model_selection import train_test_split # separar os dados entre dados de treino e teste"
   ]
  },
  {
   "cell_type": "code",
   "execution_count": 408,
   "metadata": {},
   "outputs": [
    {
     "data": {
      "text/plain": [
       "1.0"
      ]
     },
     "execution_count": 408,
     "metadata": {},
     "output_type": "execute_result"
    }
   ],
   "source": [
    "# SVM regularization parameter\n",
    "svm = svm.SVC(kernel='linear', C=1.0, random_state=SEED)\n",
    "svm.fit(X_balanceado_over, alvo_balanceado_over) # modelar com os dados de treino\n",
    "# previsão\n",
    "svm.predict(x_teste)\n",
    "previsao_svm = svm.predict(x_teste)\n",
    "svm.score(x_teste, previsao_svm) # acurácia"
   ]
  },
  {
   "cell_type": "code",
   "execution_count": 409,
   "metadata": {},
   "outputs": [
    {
     "name": "stdout",
     "output_type": "stream",
     "text": [
      "              precision    recall  f1-score   support\n",
      "\n",
      "         0.0       1.00      0.79      0.88      5882\n",
      "         1.0       0.50      1.00      0.67      1276\n",
      "\n",
      "    accuracy                           0.82      7158\n",
      "   macro avg       0.75      0.89      0.77      7158\n",
      "weighted avg       0.91      0.82      0.84      7158\n",
      "\n"
     ]
    }
   ],
   "source": [
    "print(classification_report(alvo_teste, previsao_svm)) # matriz de confusão"
   ]
  },
  {
   "cell_type": "code",
   "execution_count": 410,
   "metadata": {},
   "outputs": [
    {
     "data": {
      "image/png": "[encoded data removed]",
      "text/plain": [
       "<Figure size 432x288 with 2 Axes>"
      ]
     },
     "metadata": {
      "needs_background": "light"
     },
     "output_type": "display_data"
    }
   ],
   "source": [
    "mapa_calor = matplotlib.colors.LinearSegmentedColormap.from_list(\"\", [\"#12239e\",\"#92dfa6\",\"#9cd33b\"])\n",
    "ConfusionMatrixDisplay.from_estimator(svm, x_teste, previsao_svm, cmap = mapa_calor)\n",
    "plt.grid(False)\n",
    "plt.show()"
   ]
  },
  {
   "cell_type": "markdown",
   "metadata": {},
   "source": [
    "#### Árvore de Decisão (Oversampling)"
   ]
  },
  {
   "cell_type": "code",
   "execution_count": 411,
   "metadata": {},
   "outputs": [],
   "source": [
    "arvore = DecisionTreeClassifier(random_state=SEED)\n",
    "arvore.fit(X_balanceado_over, alvo_balanceado_over)\n",
    "previsao_arvore = arvore.predict(x_teste)"
   ]
  },
  {
   "cell_type": "code",
   "execution_count": 412,
   "metadata": {},
   "outputs": [
    {
     "name": "stdout",
     "output_type": "stream",
     "text": [
      "              precision    recall  f1-score   support\n",
      "\n",
      "         0.0       0.90      0.89      0.90      5882\n",
      "         1.0       0.52      0.53      0.52      1276\n",
      "\n",
      "    accuracy                           0.83      7158\n",
      "   macro avg       0.71      0.71      0.71      7158\n",
      "weighted avg       0.83      0.83      0.83      7158\n",
      "\n"
     ]
    }
   ],
   "source": [
    "print(classification_report(alvo_teste, previsao_arvore))"
   ]
  },
  {
   "cell_type": "code",
   "execution_count": 413,
   "metadata": {},
   "outputs": [
    {
     "data": {
      "image/png": "[encoded data removed]",
      "text/plain": [
       "<Figure size 432x288 with 2 Axes>"
      ]
     },
     "metadata": {
      "needs_background": "light"
     },
     "output_type": "display_data"
    }
   ],
   "source": [
    "mapa_calor = matplotlib.colors.LinearSegmentedColormap.from_list(\"\", [\"#12239e\",\"#92dfa6\",\"#9cd33b\"])\n",
    "ConfusionMatrixDisplay.from_estimator(arvore, x_teste, alvo_teste, cmap = mapa_calor)\n",
    "plt.grid(False)\n",
    "plt.show()"
   ]
  },
  {
   "cell_type": "markdown",
   "metadata": {},
   "source": [
    "#### Gradient Boosting (Oversampling)"
   ]
  },
  {
   "cell_type": "code",
   "execution_count": 414,
   "metadata": {},
   "outputs": [
    {
     "name": "stdout",
     "output_type": "stream",
     "text": [
      "              precision    recall  f1-score   support\n",
      "\n",
      "         0.0       0.99      0.79      0.88      5882\n",
      "         1.0       0.50      0.97      0.66      1276\n",
      "\n",
      "    accuracy                           0.82      7158\n",
      "   macro avg       0.75      0.88      0.77      7158\n",
      "weighted avg       0.90      0.82      0.84      7158\n",
      "\n"
     ]
    }
   ],
   "source": [
    "gboost = GradientBoostingClassifier(random_state=SEED)\n",
    "gboost.fit(X_balanceado_over, alvo_balanceado_over)\n",
    "previsao_gboost = gboost.predict(x_teste)\n",
    "print(classification_report(alvo_teste, previsao_gboost))"
   ]
  },
  {
   "cell_type": "code",
   "execution_count": 415,
   "metadata": {},
   "outputs": [
    {
     "data": {
      "image/png": "[encoded data removed]",
      "text/plain": [
       "<Figure size 432x288 with 2 Axes>"
      ]
     },
     "metadata": {
      "needs_background": "light"
     },
     "output_type": "display_data"
    }
   ],
   "source": [
    "ConfusionMatrixDisplay.from_estimator(gboost, x_teste, alvo_teste, cmap = mapa_calor)\n",
    "plt.grid(False)\n",
    "plt.show()"
   ]
  },
  {
   "cell_type": "markdown",
   "metadata": {},
   "source": [
    "#### Regressão Logística (Oversampling)"
   ]
  },
  {
   "cell_type": "code",
   "execution_count": 416,
   "metadata": {},
   "outputs": [
    {
     "name": "stdout",
     "output_type": "stream",
     "text": [
      "              precision    recall  f1-score   support\n",
      "\n",
      "         0.0       1.00      0.79      0.88      5882\n",
      "         1.0       0.50      1.00      0.67      1276\n",
      "\n",
      "    accuracy                           0.82      7158\n",
      "   macro avg       0.75      0.89      0.77      7158\n",
      "weighted avg       0.91      0.82      0.84      7158\n",
      "\n"
     ]
    }
   ],
   "source": [
    "reg_logistica = LogisticRegression(random_state=SEED, max_iter =1000)\n",
    "reg_logistica.fit(X_balanceado_over, alvo_balanceado_over)\n",
    "previsao_reglog = reg_logistica.predict(x_teste)\n",
    "print(classification_report(alvo_teste, previsao_reglog))"
   ]
  },
  {
   "cell_type": "code",
   "execution_count": 417,
   "metadata": {},
   "outputs": [
    {
     "data": {
      "image/png": "[encoded data removed]",
      "text/plain": [
       "<Figure size 432x288 with 2 Axes>"
      ]
     },
     "metadata": {
      "needs_background": "light"
     },
     "output_type": "display_data"
    }
   ],
   "source": [
    "ConfusionMatrixDisplay.from_estimator(reg_logistica, x_teste, alvo_teste, cmap = mapa_calor)\n",
    "plt.grid(False)\n",
    "plt.show()"
   ]
  },
  {
   "cell_type": "markdown",
   "metadata": {},
   "source": [
    "#### KNN (Oversampling)"
   ]
  },
  {
   "cell_type": "code",
   "execution_count": 419,
   "metadata": {},
   "outputs": [],
   "source": [
    "from sklearn.neighbors import KNeighborsClassifier #K-Nearest Neighbors\n",
    "from sklearn import metrics"
   ]
  },
  {
   "cell_type": "code",
   "execution_count": 420,
   "metadata": {},
   "outputs": [
    {
     "data": {
      "image/png": "[encoded data removed]",
      "text/plain": [
       "<Figure size 432x288 with 1 Axes>"
      ]
     },
     "metadata": {
      "needs_background": "light"
     },
     "output_type": "display_data"
    }
   ],
   "source": [
    "# experimentar diferentes valores para K\n",
    "k_range = list(range(1,26))\n",
    "scores = []\n",
    "for k in k_range:\n",
    "    knn = KNeighborsClassifier(n_neighbors=k)\n",
    "    knn.fit(X_balanceado_over, alvo_balanceado_over)\n",
    "    previsao_knn = knn.predict(x_teste)\n",
    "    scores.append(metrics.accuracy_score(alvo_teste, previsao_knn))\n",
    "    \n",
    "plt.plot(k_range, scores)\n",
    "plt.xlabel('Valor de k para KNN')\n",
    "plt.ylabel('Acurácia')\n",
    "plt.title('Acurária para cada valor de K')\n",
    "plt.show()"
   ]
  },
  {
   "cell_type": "code",
   "execution_count": 421,
   "metadata": {},
   "outputs": [
    {
     "name": "stdout",
     "output_type": "stream",
     "text": [
      "              precision    recall  f1-score   support\n",
      "\n",
      "         0.0       0.98      0.80      0.88      5882\n",
      "         1.0       0.51      0.94      0.66      1276\n",
      "\n",
      "    accuracy                           0.83      7158\n",
      "   macro avg       0.75      0.87      0.77      7158\n",
      "weighted avg       0.90      0.83      0.84      7158\n",
      "\n"
     ]
    }
   ],
   "source": [
    "# modelar com os dados de treino\n",
    "knn = KNeighborsClassifier(n_neighbors=10)\n",
    "knn.fit(X_balanceado_over, alvo_balanceado_over)\n",
    "previsao_knn = knn.predict(x_teste) # previsão\n",
    "metrics.accuracy_score(alvo_teste, previsao_knn)  # acurácia\n",
    "print(classification_report(alvo_teste, previsao_knn)) # matriz de confusão"
   ]
  },
  {
   "cell_type": "code",
   "execution_count": 422,
   "metadata": {},
   "outputs": [
    {
     "data": {
      "image/png": "[encoded data removed]",
      "text/plain": [
       "<Figure size 432x288 with 2 Axes>"
      ]
     },
     "metadata": {
      "needs_background": "light"
     },
     "output_type": "display_data"
    }
   ],
   "source": [
    "ConfusionMatrixDisplay.from_estimator(knn, x_teste, alvo_teste, cmap = mapa_calor)\n",
    "plt.grid(False)\n",
    "plt.show()"
   ]
  },
  {
   "cell_type": "code",
   "execution_count": 442,
   "metadata": {},
   "outputs": [],
   "source": [
    "from sklearn.metrics import recall_score\n",
    "metricas_over = pd.DataFrame({\n",
    "    'Acurácia treino':[    \n",
    "        svm.score(x_treino, alvo_treino),\n",
    "        arvore.score(x_treino, alvo_treino),\n",
    "        gboost.score(x_treino, alvo_treino),\n",
    "        reg_logistica.score(x_treino, alvo_treino),\n",
    "        knn.score(x_treino, alvo_treino)],\n",
    "    'Acurácia teste': [\n",
    "        svm.score(x_teste, alvo_teste),\n",
    "        arvore.score(x_teste, alvo_teste), \n",
    "        gboost.score(x_teste, alvo_teste), \n",
    "        reg_logistica.score(x_teste, alvo_teste),\n",
    "        knn.score(x_teste, alvo_teste)],\n",
    "    'Recall':[\n",
    "        recall_score(alvo_teste, previsao_svm),\n",
    "        recall_score(alvo_teste, previsao_arvore),\n",
    "        recall_score(alvo_teste, previsao_gboost),\n",
    "        recall_score(alvo_teste, previsao_reglog),\n",
    "        recall_score(alvo_teste, previsao_knn)]},\n",
    "    index = ['SVM Oversampling', 'Árvore de Decisão Oversampling', 'Gradient Boosting Oversampling', 'Regressão Logísitica Oversampling', 'KNN Oversampling'])"
   ]
  },
  {
   "cell_type": "markdown",
   "metadata": {},
   "source": [
    "#### SVM (Undesampling)"
   ]
  },
  {
   "cell_type": "code",
   "execution_count": 423,
   "metadata": {},
   "outputs": [],
   "source": [
    "from sklearn import svm #Support Vector Machine\n",
    "from sklearn.model_selection import train_test_split # separar os dados entre dados de treino e teste"
   ]
  },
  {
   "cell_type": "code",
   "execution_count": 424,
   "metadata": {},
   "outputs": [
    {
     "data": {
      "text/plain": [
       "1.0"
      ]
     },
     "execution_count": 424,
     "metadata": {},
     "output_type": "execute_result"
    }
   ],
   "source": [
    "# SVM regularization parameter\n",
    "svm = svm.SVC(kernel='linear', C=1.0, random_state=SEED)\n",
    "svm.fit(X_balanceado_under, alvo_balanceado_under) # modelar com os dados de treino\n",
    "# previsão\n",
    "svm.predict(x_teste)\n",
    "previsao_svm = svm.predict(x_teste)\n",
    "svm.score(x_teste, previsao_svm) # acurácia"
   ]
  },
  {
   "cell_type": "code",
   "execution_count": 425,
   "metadata": {},
   "outputs": [
    {
     "name": "stdout",
     "output_type": "stream",
     "text": [
      "              precision    recall  f1-score   support\n",
      "\n",
      "         0.0       1.00      0.79      0.88      5882\n",
      "         1.0       0.50      1.00      0.67      1276\n",
      "\n",
      "    accuracy                           0.82      7158\n",
      "   macro avg       0.75      0.89      0.77      7158\n",
      "weighted avg       0.91      0.82      0.84      7158\n",
      "\n"
     ]
    }
   ],
   "source": [
    "print(classification_report(alvo_teste, previsao_svm)) # matriz de confusão"
   ]
  },
  {
   "cell_type": "code",
   "execution_count": 426,
   "metadata": {},
   "outputs": [
    {
     "data": {
      "image/png": "[encoded data removed]",
      "text/plain": [
       "<Figure size 432x288 with 2 Axes>"
      ]
     },
     "metadata": {
      "needs_background": "light"
     },
     "output_type": "display_data"
    }
   ],
   "source": [
    "mapa_calor = matplotlib.colors.LinearSegmentedColormap.from_list(\"\", [\"#12239e\",\"#92dfa6\",\"#9cd33b\"])\n",
    "ConfusionMatrixDisplay.from_estimator(svm, x_teste, alvo_teste, cmap = mapa_calor)\n",
    "plt.grid(False)\n",
    "plt.show()"
   ]
  },
  {
   "cell_type": "markdown",
   "metadata": {},
   "source": [
    "#### Árvore de Decisão (Undesampling)"
   ]
  },
  {
   "cell_type": "code",
   "execution_count": 427,
   "metadata": {},
   "outputs": [
    {
     "name": "stdout",
     "output_type": "stream",
     "text": [
      "              precision    recall  f1-score   support\n",
      "\n",
      "         0.0       0.92      0.86      0.89      5882\n",
      "         1.0       0.51      0.68      0.58      1276\n",
      "\n",
      "    accuracy                           0.82      7158\n",
      "   macro avg       0.72      0.77      0.73      7158\n",
      "weighted avg       0.85      0.82      0.83      7158\n",
      "\n"
     ]
    }
   ],
   "source": [
    "arvore = DecisionTreeClassifier(random_state=SEED)\n",
    "arvore.fit(X_balanceado_under, alvo_balanceado_under)\n",
    "previsao_arvore = arvore.predict(x_teste)\n",
    "print(classification_report(alvo_teste, previsao_arvore))"
   ]
  },
  {
   "cell_type": "code",
   "execution_count": 428,
   "metadata": {},
   "outputs": [
    {
     "data": {
      "image/png": "[encoded data removed]",
      "text/plain": [
       "<Figure size 432x288 with 2 Axes>"
      ]
     },
     "metadata": {
      "needs_background": "light"
     },
     "output_type": "display_data"
    }
   ],
   "source": [
    "ConfusionMatrixDisplay.from_estimator(arvore, x_teste, alvo_teste, cmap = mapa_calor)\n",
    "plt.grid(False)\n",
    "plt.show()"
   ]
  },
  {
   "cell_type": "markdown",
   "metadata": {},
   "source": [
    "#### Gradient Boosting (Undersampling)"
   ]
  },
  {
   "cell_type": "code",
   "execution_count": 429,
   "metadata": {},
   "outputs": [
    {
     "name": "stdout",
     "output_type": "stream",
     "text": [
      "              precision    recall  f1-score   support\n",
      "\n",
      "         0.0       1.00      0.79      0.88      5882\n",
      "         1.0       0.50      0.99      0.67      1276\n",
      "\n",
      "    accuracy                           0.82      7158\n",
      "   macro avg       0.75      0.89      0.77      7158\n",
      "weighted avg       0.91      0.82      0.84      7158\n",
      "\n"
     ]
    }
   ],
   "source": [
    "gboost = GradientBoostingClassifier(random_state=SEED)\n",
    "gboost.fit(X_balanceado_under, alvo_balanceado_under)\n",
    "previsao_gboost = gboost.predict(x_teste)\n",
    "print(classification_report(alvo_teste, previsao_gboost))"
   ]
  },
  {
   "cell_type": "code",
   "execution_count": 430,
   "metadata": {},
   "outputs": [
    {
     "data": {
      "image/png": "[encoded data removed]",
      "text/plain": [
       "<Figure size 432x288 with 2 Axes>"
      ]
     },
     "metadata": {
      "needs_background": "light"
     },
     "output_type": "display_data"
    }
   ],
   "source": [
    "ConfusionMatrixDisplay.from_estimator(gboost, x_teste, alvo_teste, cmap = mapa_calor)\n",
    "plt.grid(False)\n",
    "plt.show()"
   ]
  },
  {
   "cell_type": "markdown",
   "metadata": {},
   "source": [
    "#### Regressão Logística (Undersampling)"
   ]
  },
  {
   "cell_type": "code",
   "execution_count": 431,
   "metadata": {},
   "outputs": [
    {
     "name": "stdout",
     "output_type": "stream",
     "text": [
      "              precision    recall  f1-score   support\n",
      "\n",
      "         0.0       1.00      0.79      0.88      5882\n",
      "         1.0       0.50      1.00      0.67      1276\n",
      "\n",
      "    accuracy                           0.82      7158\n",
      "   macro avg       0.75      0.89      0.77      7158\n",
      "weighted avg       0.91      0.82      0.84      7158\n",
      "\n"
     ]
    }
   ],
   "source": [
    "reg_logistica = LogisticRegression(random_state=SEED, max_iter =1000)\n",
    "reg_logistica.fit(X_balanceado_under, alvo_balanceado_under)\n",
    "previsao_reglog = reg_logistica.predict(x_teste)\n",
    "print(classification_report(alvo_teste, previsao_reglog))"
   ]
  },
  {
   "cell_type": "code",
   "execution_count": 432,
   "metadata": {},
   "outputs": [
    {
     "data": {
      "image/png": "[encoded data removed]",
      "text/plain": [
       "<Figure size 432x288 with 2 Axes>"
      ]
     },
     "metadata": {
      "needs_background": "light"
     },
     "output_type": "display_data"
    }
   ],
   "source": [
    "ConfusionMatrixDisplay.from_estimator(reg_logistica, x_teste, alvo_teste, cmap = mapa_calor)\n",
    "plt.grid(False)\n",
    "plt.show()"
   ]
  },
  {
   "cell_type": "markdown",
   "metadata": {},
   "source": [
    "#### KNN (Undersampling)"
   ]
  },
  {
   "cell_type": "code",
   "execution_count": 433,
   "metadata": {},
   "outputs": [],
   "source": [
    "from sklearn.neighbors import KNeighborsClassifier #K-Nearest Neighbors\n",
    "from sklearn import metrics"
   ]
  },
  {
   "cell_type": "code",
   "execution_count": 434,
   "metadata": {},
   "outputs": [
    {
     "data": {
      "image/png": "[encoded data removed]",
      "text/plain": [
       "<Figure size 432x288 with 1 Axes>"
      ]
     },
     "metadata": {
      "needs_background": "light"
     },
     "output_type": "display_data"
    }
   ],
   "source": [
    "# experimentar diferentes valores para K\n",
    "k_range = list(range(1,26))\n",
    "scores = []\n",
    "for k in k_range:\n",
    "    knn = KNeighborsClassifier(n_neighbors=k)\n",
    "    knn.fit(X_balanceado_under, alvo_balanceado_under)\n",
    "    previsao_knn = knn.predict(x_teste)\n",
    "    scores.append(metrics.accuracy_score(alvo_teste, previsao_knn))\n",
    "    \n",
    "plt.plot(k_range, scores)\n",
    "plt.xlabel('Valor de k para KNN')\n",
    "plt.ylabel('Acurácia')\n",
    "plt.title('Acurária para cada valor de K')\n",
    "plt.show()"
   ]
  },
  {
   "cell_type": "code",
   "execution_count": 435,
   "metadata": {},
   "outputs": [
    {
     "name": "stdout",
     "output_type": "stream",
     "text": [
      "              precision    recall  f1-score   support\n",
      "\n",
      "         0.0       0.97      0.81      0.89      5882\n",
      "         1.0       0.51      0.88      0.64      1276\n",
      "\n",
      "    accuracy                           0.83      7158\n",
      "   macro avg       0.74      0.85      0.76      7158\n",
      "weighted avg       0.89      0.83      0.84      7158\n",
      "\n"
     ]
    }
   ],
   "source": [
    "# modelar com os dados de treino\n",
    "knn = KNeighborsClassifier(n_neighbors=10)\n",
    "knn.fit(X_balanceado_under, alvo_balanceado_under)\n",
    "previsao_knn = knn.predict(x_teste) # previsão\n",
    "metrics.accuracy_score(alvo_teste, previsao_knn)  # acurácia\n",
    "print(classification_report(alvo_teste, previsao_knn)) # matriz de confusão"
   ]
  },
  {
   "cell_type": "code",
   "execution_count": 436,
   "metadata": {},
   "outputs": [
    {
     "data": {
      "image/png": "[encoded data removed]",
      "text/plain": [
       "<Figure size 432x288 with 2 Axes>"
      ]
     },
     "metadata": {
      "needs_background": "light"
     },
     "output_type": "display_data"
    }
   ],
   "source": [
    "ConfusionMatrixDisplay.from_estimator(knn, x_teste, alvo_teste, cmap = mapa_calor)\n",
    "plt.grid(False)\n",
    "plt.show()"
   ]
  },
  {
   "cell_type": "markdown",
   "metadata": {},
   "source": [
    "### Avaliação dos modelos"
   ]
  },
  {
   "cell_type": "code",
   "execution_count": 443,
   "metadata": {},
   "outputs": [],
   "source": [
    "from sklearn.metrics import recall_score\n",
    "metricas_under = pd.DataFrame({\n",
    "    'Acurácia treino':[    \n",
    "        svm.score(x_treino, alvo_treino),\n",
    "        arvore.score(x_treino, alvo_treino),\n",
    "        gboost.score(x_treino, alvo_treino),\n",
    "        reg_logistica.score(x_treino, alvo_treino),\n",
    "        knn.score(x_treino, alvo_treino)],\n",
    "    'Acurácia teste': [\n",
    "        svm.score(x_teste, alvo_teste),\n",
    "        arvore.score(x_teste, alvo_teste), \n",
    "        gboost.score(x_teste, alvo_teste), \n",
    "        reg_logistica.score(x_teste, alvo_teste),\n",
    "        knn.score(x_teste, alvo_teste)],\n",
    "    'Recall':[\n",
    "        recall_score(alvo_teste, previsao_svm),\n",
    "        recall_score(alvo_teste, previsao_arvore),\n",
    "        recall_score(alvo_teste, previsao_gboost),\n",
    "        recall_score(alvo_teste, previsao_reglog),\n",
    "        recall_score(alvo_teste, previsao_knn)]},\n",
    "    index = ['SVM Undersampling', 'Árvore de Decisão Undersampling', 'Gradient Boosting Undersampling', 'Regressão Logísitica Undersampling', 'KNN Undersampling'])"
   ]
  },
  {
   "cell_type": "code",
   "execution_count": 444,
   "metadata": {},
   "outputs": [
    {
     "data": {
      "text/html": [
       "<div>\n",
       "<style scoped>\n",
       "    .dataframe tbody tr th:only-of-type {\n",
       "        vertical-align: middle;\n",
       "    }\n",
       "\n",
       "    .dataframe tbody tr th {\n",
       "        vertical-align: top;\n",
       "    }\n",
       "\n",
       "    .dataframe thead th {\n",
       "        text-align: right;\n",
       "    }\n",
       "</style>\n",
       "<table border=\"1\" class=\"dataframe\">\n",
       "  <thead>\n",
       "    <tr style=\"text-align: right;\">\n",
       "      <th></th>\n",
       "      <th>Acurácia treino</th>\n",
       "      <th>Acurácia teste</th>\n",
       "      <th>Recall</th>\n",
       "    </tr>\n",
       "  </thead>\n",
       "  <tbody>\n",
       "    <tr>\n",
       "      <th>SVM Oversampling</th>\n",
       "      <td>0.826907</td>\n",
       "      <td>0.823554</td>\n",
       "      <td>1.000000</td>\n",
       "    </tr>\n",
       "    <tr>\n",
       "      <th>Árvore de Decisão Oversampling</th>\n",
       "      <td>0.934060</td>\n",
       "      <td>0.824951</td>\n",
       "      <td>0.678683</td>\n",
       "    </tr>\n",
       "    <tr>\n",
       "      <th>Gradient Boosting Oversampling</th>\n",
       "      <td>0.829654</td>\n",
       "      <td>0.822995</td>\n",
       "      <td>0.985893</td>\n",
       "    </tr>\n",
       "    <tr>\n",
       "      <th>Regressão Logísitica Oversampling</th>\n",
       "      <td>0.826954</td>\n",
       "      <td>0.823414</td>\n",
       "      <td>0.999216</td>\n",
       "    </tr>\n",
       "    <tr>\n",
       "      <th>KNN Oversampling</th>\n",
       "      <td>0.841855</td>\n",
       "      <td>0.826628</td>\n",
       "      <td>0.880878</td>\n",
       "    </tr>\n",
       "  </tbody>\n",
       "</table>\n",
       "</div>"
      ],
      "text/plain": [
       "                                   Acurácia treino  Acurácia teste    Recall\n",
       "SVM Oversampling                          0.826907        0.823554  1.000000\n",
       "Árvore de Decisão Oversampling            0.934060        0.824951  0.678683\n",
       "Gradient Boosting Oversampling            0.829654        0.822995  0.985893\n",
       "Regressão Logísitica Oversampling         0.826954        0.823414  0.999216\n",
       "KNN Oversampling                          0.841855        0.826628  0.880878"
      ]
     },
     "metadata": {},
     "output_type": "display_data"
    },
    {
     "data": {
      "text/html": [
       "<div>\n",
       "<style scoped>\n",
       "    .dataframe tbody tr th:only-of-type {\n",
       "        vertical-align: middle;\n",
       "    }\n",
       "\n",
       "    .dataframe tbody tr th {\n",
       "        vertical-align: top;\n",
       "    }\n",
       "\n",
       "    .dataframe thead th {\n",
       "        text-align: right;\n",
       "    }\n",
       "</style>\n",
       "<table border=\"1\" class=\"dataframe\">\n",
       "  <thead>\n",
       "    <tr style=\"text-align: right;\">\n",
       "      <th></th>\n",
       "      <th>Acurácia treino</th>\n",
       "      <th>Acurácia teste</th>\n",
       "      <th>Recall</th>\n",
       "    </tr>\n",
       "  </thead>\n",
       "  <tbody>\n",
       "    <tr>\n",
       "      <th>SVM Undersampling</th>\n",
       "      <td>0.826907</td>\n",
       "      <td>0.823554</td>\n",
       "      <td>1.000000</td>\n",
       "    </tr>\n",
       "    <tr>\n",
       "      <th>Árvore de Decisão Undersampling</th>\n",
       "      <td>0.934060</td>\n",
       "      <td>0.824951</td>\n",
       "      <td>0.678683</td>\n",
       "    </tr>\n",
       "    <tr>\n",
       "      <th>Gradient Boosting Undersampling</th>\n",
       "      <td>0.829654</td>\n",
       "      <td>0.822995</td>\n",
       "      <td>0.985893</td>\n",
       "    </tr>\n",
       "    <tr>\n",
       "      <th>Regressão Logísitica Undersampling</th>\n",
       "      <td>0.826954</td>\n",
       "      <td>0.823414</td>\n",
       "      <td>0.999216</td>\n",
       "    </tr>\n",
       "    <tr>\n",
       "      <th>KNN Undersampling</th>\n",
       "      <td>0.841855</td>\n",
       "      <td>0.826628</td>\n",
       "      <td>0.880878</td>\n",
       "    </tr>\n",
       "  </tbody>\n",
       "</table>\n",
       "</div>"
      ],
      "text/plain": [
       "                                    Acurácia treino  Acurácia teste    Recall\n",
       "SVM Undersampling                          0.826907        0.823554  1.000000\n",
       "Árvore de Decisão Undersampling            0.934060        0.824951  0.678683\n",
       "Gradient Boosting Undersampling            0.829654        0.822995  0.985893\n",
       "Regressão Logísitica Undersampling         0.826954        0.823414  0.999216\n",
       "KNN Undersampling                          0.841855        0.826628  0.880878"
      ]
     },
     "metadata": {},
     "output_type": "display_data"
    }
   ],
   "source": [
    "display(metricas_over,metricas_under)"
   ]
  },
  {
   "cell_type": "markdown",
   "metadata": {},
   "source": [
    "### Otimização de hiperparâmetros"
   ]
  },
  {
   "cell_type": "markdown",
   "metadata": {},
   "source": [
    "## Notebook WIP..."
   ]
  }
 ],
 "metadata": {
  "kernelspec": {
   "display_name": "Python 3.9.2 64-bit",
   "language": "python",
   "name": "python3"
  },
  "language_info": {
   "codemirror_mode": {
    "name": "ipython",
    "version": 3
   },
   "file_extension": ".py",
   "mimetype": "text/x-python",
   "name": "python",
   "nbconvert_exporter": "python",
   "pygments_lexer": "ipython3",
   "version": "3.9.2"
  },
  "orig_nbformat": 4,
  "vscode": {
   "interpreter": {
    "hash": "a7de64065884b7780333370f8de1175b65d49259e6a478d1a6e215e36330ef66"
   }
  }
 },
 "nbformat": 4,
 "nbformat_minor": 2
}
