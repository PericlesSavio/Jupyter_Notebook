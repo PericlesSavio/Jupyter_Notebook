{
 "cells": [
  {
   "attachments": {},
   "cell_type": "markdown",
   "metadata": {},
   "source": [
    "# Classes\n",
    "Classes proporcionam uma forma de organizar dados e funcionalidades juntos. Criar uma nova classe cria um novo “tipo” de objeto, permitindo que novas “instâncias” desse tipo sejam produzidas. Cada instância da classe pode ter atributos anexados a ela, para manter seu estado."
   ]
  },
  {
   "attachments": {},
   "cell_type": "markdown",
   "metadata": {},
   "source": [
    "### Exemplos em Python"
   ]
  },
  {
   "cell_type": "code",
   "execution_count": 2,
   "metadata": {},
   "outputs": [
    {
     "name": "stdout",
     "output_type": "stream",
     "text": [
      "Olá, meu nome é João e eu tenho 30 anos.\n",
      "Parabéns! Hoje é meu aniversário, agora eu tenho 31 anos.\n",
      "Olá, meu nome é Maria e eu tenho 25 anos.\n",
      "Parabéns! Hoje é meu aniversário, agora eu tenho 26 anos.\n"
     ]
    }
   ],
   "source": [
    "class Pessoa:\n",
    "    def __init__(self, nome, idade):\n",
    "        self.nome = nome\n",
    "        self.idade = idade\n",
    "    \n",
    "    def saudacao(self):\n",
    "        return f\"Olá, meu nome é {self.nome} e eu tenho {self.idade} anos.\"\n",
    "    \n",
    "    def aniversario(self):\n",
    "        self.idade += 1\n",
    "        return f\"Parabéns! Hoje é meu aniversário, agora eu tenho {self.idade} anos.\"\n",
    "\n",
    "p1 = Pessoa(\"João\", 30)\n",
    "p2 = Pessoa(\"Maria\", 25)\n",
    "\n",
    "print(p1.saudacao())\n",
    "print(p1.aniversario())\n",
    "\n",
    "print(p2.saudacao())\n",
    "print(p2.aniversario())"
   ]
  },
  {
   "cell_type": "code",
   "execution_count": 1,
   "metadata": {},
   "outputs": [
    {
     "name": "stdout",
     "output_type": "stream",
     "text": [
      "Soma: 5\n",
      "Subtração: -8\n",
      "Multiplicação: 9\n",
      "Divisão: 64.0\n"
     ]
    }
   ],
   "source": [
    "class Calculadora:\n",
    "\n",
    "    def soma(self, a, b):\n",
    "        return a + b\n",
    "\n",
    "    def subtrai(self, a, b):\n",
    "        return a - b\n",
    "\n",
    "    def multiplica(self, a, b):\n",
    "        return a * b\n",
    "\n",
    "    def divide(self, a, b):\n",
    "        return a / b\n",
    "\n",
    "c = Calculadora()\n",
    "print('Soma:', c.soma(2,3))\n",
    "print('Subtração:', c.subtrai(2,10))\n",
    "print('Multiplicação:', c.multiplica(3,3))\n",
    "print('Divisão:', c.divide(128,2))"
   ]
  },
  {
   "attachments": {},
   "cell_type": "markdown",
   "metadata": {},
   "source": [
    "### Referências\n",
    "- https://docs.python.org/pt-br/3/tutorial/classes.html\n",
    "- http://pythonclub.com.br/introducao-classes-metodos-python-basico.html"
   ]
  }
 ],
 "metadata": {
  "kernelspec": {
   "display_name": "Python 3",
   "language": "python",
   "name": "python3"
  },
  "language_info": {
   "codemirror_mode": {
    "name": "ipython",
    "version": 3
   },
   "file_extension": ".py",
   "mimetype": "text/x-python",
   "name": "python",
   "nbconvert_exporter": "python",
   "pygments_lexer": "ipython3",
   "version": "3.11.1"
  },
  "orig_nbformat": 4,
  "vscode": {
   "interpreter": {
    "hash": "3b6a3126b434541bff97ce9dce93d9eabec3c95688c0a1ba719c7d96ebbb7025"
   }
  }
 },
 "nbformat": 4,
 "nbformat_minor": 2
}
