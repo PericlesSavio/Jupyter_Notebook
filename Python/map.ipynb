{
 "cells": [
  {
   "attachments": {},
   "cell_type": "markdown",
   "metadata": {},
   "source": [
    "# Map\n",
    "A função **map()** do Python é uma função interna que permite processar e transformar todos os itens em um iterável sem usar um loop for explícito, uma técnica comumente conhecida como mapeamento. **map()** é útil quando você precisa aplicar uma função de transformação a cada item em um iterável e transformá-los em um novo iterável"
   ]
  },
  {
   "attachments": {},
   "cell_type": "markdown",
   "metadata": {},
   "source": [
    "### Exemplos em Python"
   ]
  },
  {
   "cell_type": "code",
   "execution_count": 1,
   "metadata": {},
   "outputs": [
    {
     "data": {
      "text/plain": [
       "[1, 4, 9, 16, 25]"
      ]
     },
     "execution_count": 1,
     "metadata": {},
     "output_type": "execute_result"
    }
   ],
   "source": [
    "numeros = [1, 2, 3, 4, 5]\n",
    "quadrado = []\n",
    "\n",
    "for num in numeros:\n",
    "    quadrado.append(num ** 2)\n",
    "\n",
    "quadrado"
   ]
  },
  {
   "attachments": {},
   "cell_type": "markdown",
   "metadata": {},
   "source": [
    "### Referências\n",
    "- https://realpython.com/python-map-function/\n",
    "- https://www.programiz.com/python-programming/methods/built-in/map"
   ]
  }
 ],
 "metadata": {
  "kernelspec": {
   "display_name": "_dsa_env",
   "language": "python",
   "name": "python3"
  },
  "language_info": {
   "codemirror_mode": {
    "name": "ipython",
    "version": 3
   },
   "file_extension": ".py",
   "mimetype": "text/x-python",
   "name": "python",
   "nbconvert_exporter": "python",
   "pygments_lexer": "ipython3",
   "version": "3.9.2"
  },
  "orig_nbformat": 4,
  "vscode": {
   "interpreter": {
    "hash": "73ac87695c3f87a29c32a15ebba705f8f993b24870f89241b1a1600bfff5e587"
   }
  }
 },
 "nbformat": 4,
 "nbformat_minor": 2
}
