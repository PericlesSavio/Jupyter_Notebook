{
 "cells": [
  {
   "cell_type": "code",
   "execution_count": 1,
   "metadata": {},
   "outputs": [],
   "source": [
    "# configurações\n",
    "import pandas as pd # manipulação e análise de dados\n",
    "import seaborn as sns # gráficos\n",
    "import numpy as np # arranjos multidimensionais\n",
    "\n",
    "import warnings # ignora as mensagens de alerta\n",
    "warnings.filterwarnings('ignore') # ignora as mensagens de alerta\n",
    "\n",
    "from sklearn.model_selection import train_test_split # separar os dados entre dados de treino e teste\n",
    "from sklearn.linear_model import LinearRegression # regressão linear\n",
    "from sklearn import metrics # metricas"
   ]
  },
  {
   "cell_type": "code",
   "execution_count": 2,
   "metadata": {},
   "outputs": [],
   "source": [
    "dados = pd.read_csv('salary_data.csv') # ler os dados"
   ]
  },
  {
   "cell_type": "code",
   "execution_count": null,
   "metadata": {},
   "outputs": [],
   "source": [
    "dados.head() # visualização"
   ]
  },
  {
   "cell_type": "code",
   "execution_count": null,
   "metadata": {},
   "outputs": [],
   "source": [
    "dados.info() # verificar tipo"
   ]
  },
  {
   "cell_type": "code",
   "execution_count": null,
   "metadata": {},
   "outputs": [],
   "source": [
    "dados.isna().sum() # ver se há dados faltantes"
   ]
  },
  {
   "cell_type": "code",
   "execution_count": null,
   "metadata": {},
   "outputs": [],
   "source": [
    "dados.describe().round(2) # estatística descritiva"
   ]
  },
  {
   "cell_type": "code",
   "execution_count": null,
   "metadata": {},
   "outputs": [],
   "source": [
    "dados.corr().round(4) # matriz de correlação"
   ]
  },
  {
   "cell_type": "code",
   "execution_count": null,
   "metadata": {},
   "outputs": [],
   "source": [
    "sns.set_palette(\"Dark2\") # estilo do gráfico (Seaborn)\n",
    "sns.set_style(\"darkgrid\") # estilo do gráfico (Seaborn)\n",
    "ax = sns.scatterplot(data=dados, x=\"YearsExperience\", y=\"Salary\") # gráfico de dispersão\n",
    "ax.figure.set_size_inches(12, 6)\n",
    "ax.set_title('Anos de experiência X Salário ($)', fontsize=18)\n",
    "ax.set_xlabel('Anos de experiência', fontsize=14)\n",
    "ax.set_ylabel('Salário ($)', fontsize=14)"
   ]
  },
  {
   "cell_type": "code",
   "execution_count": null,
   "metadata": {},
   "outputs": [],
   "source": [
    "ax = sns.lmplot(x=\"YearsExperience\", y=\"Salary\", data=dados).figure.set_size_inches(12, 6)"
   ]
  },
  {
   "cell_type": "code",
   "execution_count": null,
   "metadata": {},
   "outputs": [],
   "source": [
    "# Separar os dados (X e Y)\n",
    "X = dados['YearsExperience']\n",
    "y = dados['Salary']"
   ]
  },
  {
   "cell_type": "code",
   "execution_count": null,
   "metadata": {},
   "outputs": [],
   "source": [
    "# separar os dados entre dados de treino e teste\n",
    "X_train, X_test, y_train, y_test = train_test_split(X, y, test_size=0.3, random_state=100)"
   ]
  },
  {
   "cell_type": "code",
   "execution_count": null,
   "metadata": {},
   "outputs": [],
   "source": [
    "# ajustar a dimensionalidade\n",
    "X_train = np.array(X_train)[:, None]\n",
    "X_test = np.array(X_test)[:, None]"
   ]
  },
  {
   "cell_type": "code",
   "execution_count": null,
   "metadata": {},
   "outputs": [],
   "source": [
    "modelo = LinearRegression() # regressão linear"
   ]
  },
  {
   "cell_type": "code",
   "execution_count": null,
   "metadata": {},
   "outputs": [],
   "source": [
    "modelo.fit(X_train, y_train) # modelar com os dados de treino"
   ]
  },
  {
   "cell_type": "code",
   "execution_count": null,
   "metadata": {},
   "outputs": [],
   "source": [
    "print('R² = {}'.format(modelo.score(X_train, y_train).round(2)))\n",
    "# O coeficiente de determinação (R²) é uma medida resumida que diz quanto a linha de regressão ajusta-se aos dados. É um valor entra 0 e 1.\n",
    "# O valor de R² significa que o modelo linear explica % da variância da variável dependente a partir do regressores (variáveis independentes) incluídas naquele modelo linear."
   ]
  },
  {
   "cell_type": "code",
   "execution_count": null,
   "metadata": {},
   "outputs": [],
   "source": [
    "y_previsto = modelo.predict(X_test) # Gerando previsões para os dados de TESTE (X_test) utilizando o método *predict()* do objeto \"modelo\""
   ]
  },
  {
   "cell_type": "code",
   "execution_count": null,
   "metadata": {},
   "outputs": [],
   "source": [
    "print('R² = %s' % metrics.r2_score(y_test, y_previsto).round(2)) # Obtendo o coeficiente de determinação (R²) para as previsões do nosso modelo"
   ]
  },
  {
   "cell_type": "code",
   "execution_count": null,
   "metadata": {},
   "outputs": [],
   "source": [
    "# Obtendo previsões pontuais\n",
    "entrada=[[2.5]] # anos de experiência\n",
    "print('Salario previsto de ${:,.2f}'.format(modelo.predict(entrada)[0])) #previsão"
   ]
  },
  {
   "cell_type": "code",
   "execution_count": null,
   "metadata": {},
   "outputs": [],
   "source": [
    "# obtendo o intercepto e o coeficiente angular\n",
    "modelo.intercept_\n",
    "modelo.coef_"
   ]
  },
  {
   "cell_type": "code",
   "execution_count": null,
   "metadata": {},
   "outputs": [],
   "source": [
    "# visualizando o intercepto e o coeficiente angular\n",
    "index=['Intercepto', 'Coeficiênte angular']\n",
    "pd.DataFrame(data=np.append(modelo.intercept_.round(2), modelo.coef_.round(2)), index=index, columns=['Parâmetros']) "
   ]
  },
  {
   "cell_type": "code",
   "execution_count": null,
   "metadata": {},
   "outputs": [],
   "source": [
    "print('Y = {} + {}x'.format(modelo.intercept_.round(2), modelo.coef_[0].round(2))) # equação baseada no modelo"
   ]
  },
  {
   "cell_type": "code",
   "execution_count": null,
   "metadata": {},
   "outputs": [],
   "source": [
    "y_previsto_train = modelo.predict(X_train) # Gerando as previsões do modelo para os dados de TREINO"
   ]
  },
  {
   "cell_type": "code",
   "execution_count": null,
   "metadata": {},
   "outputs": [],
   "source": [
    "# Gráfico de dispersão entre valor estimado e valor real\n",
    "ax = sns.scatterplot(x=y_previsto_train, y=y_train)\n",
    "ax.figure.set_size_inches(12, 6)\n",
    "ax.set_title('Previsão X Real', fontsize=18)\n",
    "ax.set_xlabel('Salário ($) - Previsão', fontsize=14)\n",
    "ax.set_ylabel('Salário ($) - Real', fontsize=14)\n",
    "ax"
   ]
  },
  {
   "cell_type": "code",
   "execution_count": null,
   "metadata": {},
   "outputs": [],
   "source": [
    "residuo = y_train - y_previsto_train # Obtendo os resíduos"
   ]
  },
  {
   "cell_type": "code",
   "execution_count": null,
   "metadata": {},
   "outputs": [],
   "source": [
    "# Gráfico de dispersão entre valor estimado e resíduos / Método informal de verificação da hipótese de variância constante dos resíduos (homocedasticidade)\n",
    "ax = sns.scatterplot(x=y_previsto_train, y=residuo, s=150)\n",
    "ax.figure.set_size_inches(20, 8)\n",
    "ax.set_title('Resíduos X Previsão', fontsize=18)\n",
    "ax.set_xlabel('Salário ($) - Previsão', fontsize=14)\n",
    "ax.set_ylabel('Resíduos', fontsize=14)\n",
    "ax"
   ]
  },
  {
   "cell_type": "code",
   "execution_count": null,
   "metadata": {},
   "outputs": [],
   "source": [
    "# Gráfico de dispersão entre valor estimado e resíduos / Método informal de verificação da hipótese de variância constante dos resíduos (homocedasticidade)\n",
    "ax = sns.scatterplot(x=y_previsto_train, y=residuo**2, s=150)\n",
    "ax.figure.set_size_inches(20, 8)\n",
    "ax.set_title('Resíduos² X Previsão', fontsize=18)\n",
    "ax.set_xlabel('Salário ($) - Previsão', fontsize=14)\n",
    "ax.set_ylabel('Resíduos²', fontsize=14)\n",
    "ax"
   ]
  },
  {
   "cell_type": "code",
   "execution_count": null,
   "metadata": {},
   "outputs": [],
   "source": [
    "# Plotando a distribuição de frequências dos resíduos\n",
    "ax = sns.distplot(residuo)\n",
    "ax.figure.set_size_inches(12, 6)\n",
    "ax.set_title('Distribuição de Frequências dos Resíduos', fontsize=18)\n",
    "ax.set_xlabel('Salário ($)', fontsize=14)\n",
    "ax.set_ylabel('Densidade', fontsize=14)\n",
    "ax"
   ]
  },
  {
   "cell_type": "code",
   "execution_count": null,
   "metadata": {},
   "outputs": [],
   "source": [
    "EQM = metrics.mean_squared_error(y_test, y_previsto).round(2) #menor -> melhor\n",
    "REQM = np.sqrt(metrics.mean_squared_error(y_test, y_previsto)).round(2) #menor -> melhor\n",
    "R2 = metrics.r2_score(y_test, y_previsto).round(2) #maior -> melhor\n",
    "\n",
    "pd.DataFrame([EQM, REQM, R2], ['EQM', 'REQM', 'R²'], columns=['Métricas'])"
   ]
  }
 ],
 "metadata": {
  "interpreter": {
   "hash": "a7de64065884b7780333370f8de1175b65d49259e6a478d1a6e215e36330ef66"
  },
  "kernelspec": {
   "display_name": "Python 3.9.2 64-bit",
   "language": "python",
   "name": "python3"
  },
  "language_info": {
   "codemirror_mode": {
    "name": "ipython",
    "version": 3
   },
   "file_extension": ".py",
   "mimetype": "text/x-python",
   "name": "python",
   "nbconvert_exporter": "python",
   "pygments_lexer": "ipython3",
   "version": "3.9.2"
  },
  "orig_nbformat": 4
 },
 "nbformat": 4,
 "nbformat_minor": 2
}
