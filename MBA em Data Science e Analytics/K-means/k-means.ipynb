{
 "cells": [
  {
   "attachments": {},
   "cell_type": "markdown",
   "metadata": {},
   "source": [
    "# K-means\n",
    "\n",
    "K-means é um dos mais simples e mais conhecidos algoritmos de aprendizado **não supervisionados**.\n",
    "\n",
    "Em geral, clustering usa técnicas iterativas para agrupar casos de um conjunto de dados em clusters que contenham características semelhantes. Esses agrupamentos são úteis para explorar dados, identificando anomalias nos dados e criar previsões. Modelos de clustering também podem ajudar a identificar relações em um conjunto de dados que você pode não derivar logicamente por meio de navegação ou simples observação. Por esses motivos, clustering é frequentemente usado nas fases iniciais da tarefa de aprendizado de máquina para explorar os dados e descobrir correlações inesperadas."
   ]
  },
  {
   "attachments": {},
   "cell_type": "markdown",
   "metadata": {},
   "source": [
    "### Etapas (por dentro do K-means)\n",
    "1. Definir o número de clusters que você deseja identificar em seus dados. Este é o \"K\" no agrupamento K-means.\n",
    "2. O algoritmo começa com um conjunto inicial de centroides escolhidos aleatoriamente.\n",
    "3. É calculado a distância de todos os pontos para os centroides.\n",
    "4. É associado os pontos mais próximos de cada centroide.\n",
    "5. Novos centroides são calculados.\n",
    "6. O processo é repetido (a partir do item 2) até não haver mais movimentações dos centroides.\n",
    "\n",
    "![Animação](centroides_animacao.gif \"Animação\")\n"
   ]
  },
  {
   "attachments": {},
   "cell_type": "markdown",
   "metadata": {},
   "source": [
    "### Conceitos\n",
    "- Centroide: O centroide é um ponto representativo de cada cluster. O algoritmo K-means atribui cada ponto de dados de entrada a um dos clusters minimizando a soma de quadrados dentro do cluster."
   ]
  },
  {
   "attachments": {},
   "cell_type": "markdown",
   "metadata": {},
   "source": [
    "### Características\n",
    "- É sensível a posição dos primeiros centroides."
   ]
  },
  {
   "attachments": {},
   "cell_type": "markdown",
   "metadata": {},
   "source": [
    "### Quando utilizar?\n",
    "- "
   ]
  },
  {
   "attachments": {},
   "cell_type": "markdown",
   "metadata": {},
   "source": [
    "### Referências\n",
    " - https://learn.microsoft.com/pt-br/azure/machine-learning/component-reference/k-means-clustering\n",
    " - https://mubaris.com/posts/kmeans-clustering/\n",
    " - https://www.kaggle.com/code/satishgunjal/tutorial-k-means-clustering\n",
    " - https://www.youtube.com/watch?v=njRYKzRKBPY"
   ]
  }
 ],
 "metadata": {
  "language_info": {
   "name": "python"
  },
  "orig_nbformat": 4
 },
 "nbformat": 4,
 "nbformat_minor": 2
}
